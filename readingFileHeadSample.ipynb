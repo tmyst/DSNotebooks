{
 "cells": [
  {
   "cell_type": "markdown",
   "metadata": {},
   "source": [
    "### import libraries"
   ]
  },
  {
   "cell_type": "markdown",
   "metadata": {},
   "source": [
    "#### import via ivy"
   ]
  },
  {
   "cell_type": "code",
   "execution_count": 4,
   "metadata": {},
   "outputs": [
    {
     "data": {
      "text/plain": [
       "\u001b[32mimport \u001b[39m\u001b[36m$ivy.$                                \n",
       "// import $ivy.`org.jfree:jfreechart:1.5.0`\n",
       "\u001b[39m\n",
       "\u001b[32mimport \u001b[39m\u001b[36m$ivy.$                                       \n",
       "\u001b[39m\n",
       "\u001b[32mimport \u001b[39m\u001b[36m$ivy.$                                      \n",
       "\u001b[39m\n",
       "\u001b[32mimport \u001b[39m\u001b[36m$ivy.$                                        \n",
       "\u001b[39m\n",
       "\u001b[32mimport \u001b[39m\u001b[36m$ivy.$                                         \n",
       "// import $ivy.`org.apache.spark:spark-streaming_2.11:2.4.3`\n",
       "//import $ivy.`sh.almond::ammonite-spark:0.3.0`\u001b[39m"
      ]
     },
     "execution_count": 4,
     "metadata": {},
     "output_type": "execute_result"
    }
   ],
   "source": [
    "import $ivy.`org.scalanlp:breeze_2.11:0.13.2`\n",
    "// import $ivy.`org.jfree:jfreechart:1.5.0`\n",
    "import $ivy.`org.apache.spark:spark-core_2.11:2.4.3`\n",
    "import $ivy.`org.apache.spark:spark-sql_2.11:2.4.3`\n",
    "import $ivy.`org.apache.spark:spark-mllib_2.11:2.4.3`\n",
    "import $ivy.`org.apache.spark:spark-graphx_2.11:2.4.3`\n",
    "// import $ivy.`org.apache.spark:spark-streaming_2.11:2.4.3`\n",
    "//import $ivy.`sh.almond::ammonite-spark:0.3.0`"
   ]
  },
  {
   "cell_type": "markdown",
   "metadata": {},
   "source": [
    "#### Scala Library for Matrix Calculation"
   ]
  },
  {
   "cell_type": "code",
   "execution_count": 2,
   "metadata": {},
   "outputs": [
    {
     "data": {
      "text/plain": [
       "\u001b[32mimport \u001b[39m\u001b[36mbreeze.linalg.csvread\n",
       "\u001b[39m\n",
       "\u001b[32mimport \u001b[39m\u001b[36mbreeze.linalg.{DenseMatrix => DM}\n",
       "\u001b[39m\n",
       "\u001b[32mimport \u001b[39m\u001b[36mbreeze.linalg.{DenseVector => DV}\n",
       "\u001b[39m\n",
       "\u001b[32mimport \u001b[39m\u001b[36mbreeze.linalg\u001b[39m"
      ]
     },
     "execution_count": 2,
     "metadata": {},
     "output_type": "execute_result"
    }
   ],
   "source": [
    "import breeze.linalg.csvread\n",
    "import breeze.linalg.{DenseMatrix => DM}\n",
    "import breeze.linalg.{DenseVector => DV}\n",
    "import breeze.linalg"
   ]
  },
  {
   "cell_type": "markdown",
   "metadata": {},
   "source": [
    "#### File IO"
   ]
  },
  {
   "cell_type": "code",
   "execution_count": 3,
   "metadata": {},
   "outputs": [
    {
     "data": {
      "text/plain": [
       "\u001b[32mimport \u001b[39m\u001b[36mjava.io._\n",
       "\u001b[39m\n",
       "\u001b[32mimport \u001b[39m\u001b[36mscala.io.Source\u001b[39m"
      ]
     },
     "execution_count": 3,
     "metadata": {},
     "output_type": "execute_result"
    }
   ],
   "source": [
    "import java.io._\n",
    "import scala.io.Source"
   ]
  },
  {
   "cell_type": "markdown",
   "metadata": {},
   "source": [
    "#### Spark Libraries"
   ]
  },
  {
   "cell_type": "code",
   "execution_count": 5,
   "metadata": {},
   "outputs": [
    {
     "data": {
      "text/plain": [
       "\u001b[32mimport \u001b[39m\u001b[36morg.apache.spark.sql.DataFrame\n",
       "\u001b[39m\n",
       "\u001b[32mimport \u001b[39m\u001b[36morg.apache.spark.sql.SparkSession\n",
       "\u001b[39m\n",
       "\u001b[32mimport \u001b[39m\u001b[36morg.apache.spark.SparkConf\n",
       "\u001b[39m\n",
       "\u001b[32mimport \u001b[39m\u001b[36morg.apache.spark.sql.functions._\n",
       "\u001b[39m\n",
       "\u001b[32mimport \u001b[39m\u001b[36morg.apache.spark.sql.Column\n",
       "\u001b[39m\n",
       "\u001b[32mimport \u001b[39m\u001b[36morg.apache.spark.sql.catalyst.plans.{Inner, LeftOuter, Cross}\u001b[39m"
      ]
     },
     "execution_count": 5,
     "metadata": {},
     "output_type": "execute_result"
    }
   ],
   "source": [
    "import org.apache.spark.sql.DataFrame\n",
    "import org.apache.spark.sql.SparkSession\n",
    "import org.apache.spark.SparkConf\n",
    "import org.apache.spark.sql.functions._\n",
    "import org.apache.spark.sql.Column\n",
    "import org.apache.spark.sql.catalyst.plans.{Inner, LeftOuter, Cross}"
   ]
  },
  {
   "cell_type": "markdown",
   "metadata": {},
   "source": [
    "#### Set level or warning statemens"
   ]
  },
  {
   "cell_type": "code",
   "execution_count": 6,
   "metadata": {},
   "outputs": [
    {
     "data": {
      "text/plain": [
       "\u001b[32mimport \u001b[39m\u001b[36morg.apache.log4j.Logger\n",
       "\u001b[39m\n",
       "\u001b[32mimport \u001b[39m\u001b[36morg.apache.log4j.Level\n",
       "\u001b[39m"
      ]
     },
     "execution_count": 6,
     "metadata": {},
     "output_type": "execute_result"
    }
   ],
   "source": [
    "import org.apache.log4j.Logger\n",
    "import org.apache.log4j.Level\n",
    "Logger.getLogger(\"org\").setLevel(Level.ERROR)"
   ]
  },
  {
   "cell_type": "markdown",
   "metadata": {},
   "source": [
    "#### Specify folder & file paths "
   ]
  },
  {
   "cell_type": "code",
   "execution_count": 7,
   "metadata": {},
   "outputs": [
    {
     "data": {
      "text/plain": [
       "\u001b[36mfolder\u001b[39m: \u001b[32mFile\u001b[39m = /Users/tomoya/Documents/dataset/champs-scalar-coupling\n",
       "\u001b[36mfiles\u001b[39m: \u001b[32mArray\u001b[39m[\u001b[32mFile\u001b[39m] = \u001b[33mArray\u001b[39m(\n",
       "  /Users/tomoya/Documents/dataset/champs-scalar-coupling/.DS_Store,\n",
       "  /Users/tomoya/Documents/dataset/champs-scalar-coupling/dipole_moments.csv,\n",
       "  /Users/tomoya/Documents/dataset/champs-scalar-coupling/magnetic_shielding_tensors.csv,\n",
       "  /Users/tomoya/Documents/dataset/champs-scalar-coupling/mulliken_charges.csv,\n",
       "  /Users/tomoya/Documents/dataset/champs-scalar-coupling/potential_energy.csv,\n",
       "  /Users/tomoya/Documents/dataset/champs-scalar-coupling/sample_submission.csv,\n",
       "  /Users/tomoya/Documents/dataset/champs-scalar-coupling/scalar_coupling_contributions.csv,\n",
       "  /Users/tomoya/Documents/dataset/champs-scalar-coupling/structures.csv,\n",
       "  /Users/tomoya/Documents/dataset/champs-scalar-coupling/structures.zip,\n",
       "  /Users/tomoya/Documents/dataset/champs-scalar-coupling/test.csv,\n",
       "  /Users/tomoya/Documents/dataset/champs-scalar-coupling/train.csv\n",
       ")"
      ]
     },
     "execution_count": 7,
     "metadata": {},
     "output_type": "execute_result"
    }
   ],
   "source": [
    "val folder = new File(\"/Users/tomoya/Documents/dataset/champs-scalar-coupling\")\n",
    "val files = folder.listFiles"
   ]
  },
  {
   "cell_type": "code",
   "execution_count": 13,
   "metadata": {},
   "outputs": [
    {
     "data": {
      "text/plain": [
       "\u001b[36mtrainDataFile\u001b[39m: \u001b[32mFile\u001b[39m = /Users/tomoya/Documents/dataset/champs-scalar-coupling/train.csv"
      ]
     },
     "execution_count": 13,
     "metadata": {},
     "output_type": "execute_result"
    }
   ],
   "source": [
    "val trainDataFile = files.filter(_.getName.matches(\"\"\".*train.csv\"\"\")).head"
   ]
  },
  {
   "cell_type": "markdown",
   "metadata": {},
   "source": [
    "files.filter(x => x.getName.matches(\"\"\"train.csv\"\"\"))"
   ]
  },
  {
   "cell_type": "code",
   "execution_count": 14,
   "metadata": {},
   "outputs": [
    {
     "data": {
      "text/plain": [
       "defined \u001b[32mfunction\u001b[39m \u001b[36mreadHead\u001b[39m"
      ]
     },
     "execution_count": 14,
     "metadata": {},
     "output_type": "execute_result"
    }
   ],
   "source": [
    "// Function to read csv file (UTF-8)\n",
    "def readHead(path:File, nline:Int):Seq[String] = {\n",
    "    val reader = new BufferedReader(new InputStreamReader(new FileInputStream(path), \"UTF-8\"))\n",
    "    try {\n",
    "        Iterator.continually(reader.readLine()).take(nline).toList // Not toSeq\n",
    "    }finally{\n",
    "        reader.close()\n",
    "    }\n",
    "}"
   ]
  },
  {
   "cell_type": "code",
   "execution_count": 15,
   "metadata": {},
   "outputs": [
    {
     "data": {
      "text/plain": [
       "\u001b[36mlist\u001b[39m: \u001b[32mSeq\u001b[39m[\u001b[32mString\u001b[39m] = \u001b[33mList\u001b[39m(\n",
       "  \u001b[32m\"id,molecule_name,atom_index_0,atom_index_1,type,scalar_coupling_constant\"\u001b[39m,\n",
       "  \u001b[32m\"0,dsgdb9nsd_000001,1,0,1JHC,84.8076\"\u001b[39m,\n",
       "  \u001b[32m\"1,dsgdb9nsd_000001,1,2,2JHH,-11.257\"\u001b[39m,\n",
       "  \u001b[32m\"2,dsgdb9nsd_000001,1,3,2JHH,-11.2548\"\u001b[39m,\n",
       "  \u001b[32m\"3,dsgdb9nsd_000001,1,4,2JHH,-11.2543\"\u001b[39m,\n",
       "  \u001b[32m\"4,dsgdb9nsd_000001,2,0,1JHC,84.8074\"\u001b[39m,\n",
       "  \u001b[32m\"5,dsgdb9nsd_000001,2,3,2JHH,-11.2541\"\u001b[39m,\n",
       "  \u001b[32m\"6,dsgdb9nsd_000001,2,4,2JHH,-11.2548\"\u001b[39m,\n",
       "  \u001b[32m\"7,dsgdb9nsd_000001,3,0,1JHC,84.8093\"\u001b[39m,\n",
       "  \u001b[32m\"8,dsgdb9nsd_000001,3,4,2JHH,-11.2543\"\u001b[39m,\n",
       "  \u001b[32m\"9,dsgdb9nsd_000001,4,0,1JHC,84.8095\"\u001b[39m,\n",
       "  \u001b[32m\"10,dsgdb9nsd_000002,1,0,1JHN,32.6889\"\u001b[39m,\n",
       "  \u001b[32m\"11,dsgdb9nsd_000002,1,2,2JHH,-11.1866\"\u001b[39m,\n",
       "  \u001b[32m\"12,dsgdb9nsd_000002,1,3,2JHH,-11.1757\"\u001b[39m,\n",
       "  \u001b[32m\"13,dsgdb9nsd_000002,2,0,1JHN,32.6891\"\u001b[39m,\n",
       "  \u001b[32m\"14,dsgdb9nsd_000002,2,3,2JHH,-11.1758\"\u001b[39m,\n",
       "  \u001b[32m\"15,dsgdb9nsd_000002,3,0,1JHN,32.6905\"\u001b[39m,\n",
       "  \u001b[32m\"16,dsgdb9nsd_000003,1,2,2JHH,-9.94641\"\u001b[39m,\n",
       "  \u001b[32m\"17,dsgdb9nsd_000005,2,0,1JHC,171.22\"\u001b[39m,\n",
       "  \u001b[32m\"18,dsgdb9nsd_000005,2,1,2JHN,5.18246\"\u001b[39m,\n",
       "  \u001b[32m\"19,dsgdb9nsd_000007,2,0,1JHC,83.5429\"\u001b[39m,\n",
       "  \u001b[32m\"20,dsgdb9nsd_000007,2,1,2JHC,-2.37831\"\u001b[39m,\n",
       "  \u001b[32m\"21,dsgdb9nsd_000007,2,3,2JHH,-11.7005\"\u001b[39m,\n",
       "  \u001b[32m\"22,dsgdb9nsd_000007,2,4,2JHH,-11.6979\"\u001b[39m,\n",
       "  \u001b[32m\"23,dsgdb9nsd_000007,2,5,3JHH,3.25281\"\u001b[39m,\n",
       "  \u001b[32m\"24,dsgdb9nsd_000007,2,6,3JHH,13.6913\"\u001b[39m,\n",
       "  \u001b[32m\"25,dsgdb9nsd_000007,2,7,3JHH,3.25205\"\u001b[39m,\n",
       "  \u001b[32m\"26,dsgdb9nsd_000007,3,0,1JHC,83.5417\"\u001b[39m,\n",
       "  \u001b[32m\"27,dsgdb9nsd_000007,3,1,2JHC,-2.37862\"\u001b[39m,\n",
       "  \u001b[32m\"28,dsgdb9nsd_000007,3,4,2JHH,-11.6996\"\u001b[39m,\n",
       "  \u001b[32m\"29,dsgdb9nsd_000007,3,5,3JHH,13.6924\"\u001b[39m,\n",
       "  \u001b[32m\"30,dsgdb9nsd_000007,3,6,3JHH,3.25253\"\u001b[39m,\n",
       "  \u001b[32m\"31,dsgdb9nsd_000007,3,7,3JHH,3.25272\"\u001b[39m,\n",
       "  \u001b[32m\"32,dsgdb9nsd_000007,4,0,1JHC,83.5484\"\u001b[39m,\n",
       "  \u001b[32m\"33,dsgdb9nsd_000007,4,1,2JHC,-2.37716\"\u001b[39m,\n",
       "  \u001b[32m\"34,dsgdb9nsd_000007,4,5,3JHH,3.25243\"\u001b[39m,\n",
       "  \u001b[32m\"35,dsgdb9nsd_000007,4,6,3JHH,3.25242\"\u001b[39m,\n",
       "  \u001b[32m\"36,dsgdb9nsd_000007,4,7,3JHH,13.6921\"\u001b[39m,\n",
       "..."
      ]
     },
     "execution_count": 15,
     "metadata": {},
     "output_type": "execute_result"
    }
   ],
   "source": [
    "val list = readHead(trainDataFile, 10000)"
   ]
  },
  {
   "cell_type": "code",
   "execution_count": 16,
   "metadata": {},
   "outputs": [
    {
     "data": {
      "text/plain": [
       "\u001b[36mcols\u001b[39m: \u001b[32mArray\u001b[39m[\u001b[32mString\u001b[39m] = \u001b[33mArray\u001b[39m(\n",
       "  \u001b[32m\"id\"\u001b[39m,\n",
       "  \u001b[32m\"molecule_name\"\u001b[39m,\n",
       "  \u001b[32m\"atom_index_0\"\u001b[39m,\n",
       "  \u001b[32m\"atom_index_1\"\u001b[39m,\n",
       "  \u001b[32m\"type\"\u001b[39m,\n",
       "  \u001b[32m\"scalar_coupling_constant\"\u001b[39m\n",
       ")"
      ]
     },
     "execution_count": 16,
     "metadata": {},
     "output_type": "execute_result"
    }
   ],
   "source": [
    "val cols = list(0).split(\",\")"
   ]
  },
  {
   "cell_type": "markdown",
   "metadata": {},
   "source": [
    "#### Init Spark"
   ]
  },
  {
   "cell_type": "code",
   "execution_count": 17,
   "metadata": {},
   "outputs": [
    {
     "name": "stderr",
     "output_type": "stream",
     "text": [
      "Using Spark's default log4j profile: org/apache/spark/log4j-defaults.properties\n"
     ]
    },
    {
     "data": {
      "text/plain": [
       "\u001b[36msc\u001b[39m: \u001b[32mSparkConf\u001b[39m = org.apache.spark.SparkConf@43b4bb6d\n",
       "\u001b[36mres16_1\u001b[39m: \u001b[32mSparkConf\u001b[39m = org.apache.spark.SparkConf@43b4bb6d\n",
       "\u001b[36mspark\u001b[39m: \u001b[32mSparkSession\u001b[39m = org.apache.spark.sql.SparkSession@619dbd13"
      ]
     },
     "execution_count": 17,
     "metadata": {},
     "output_type": "execute_result"
    }
   ],
   "source": [
    "val sc = new SparkConf\n",
    "sc.setAppName(\"chemical\").setMaster(\"local[*]\")\n",
    "val spark = SparkSession.builder().config(sc).getOrCreate()"
   ]
  },
  {
   "cell_type": "code",
   "execution_count": 18,
   "metadata": {},
   "outputs": [
    {
     "data": {
      "text/plain": [
       "defined \u001b[32mfunction\u001b[39m \u001b[36mtoRecord\u001b[39m"
      ]
     },
     "execution_count": 18,
     "metadata": {},
     "output_type": "execute_result"
    }
   ],
   "source": [
    "def toRecord(line:String) = {\n",
    "    val strs = line.split(\",\")\n",
    "    (strs(0).toInt, strs(1), strs(2).toInt, strs(3).toInt, strs(4), strs(5).toDouble)\n",
    "}"
   ]
  },
  {
   "cell_type": "code",
   "execution_count": 19,
   "metadata": {},
   "outputs": [
    {
     "data": {
      "text/plain": [
       "\u001b[36msampleDF\u001b[39m: \u001b[32mDataFrame\u001b[39m = [id: int, molecule_name: string ... 4 more fields]"
      ]
     },
     "execution_count": 19,
     "metadata": {},
     "output_type": "execute_result"
    }
   ],
   "source": [
    "val sampleDF = spark.createDataFrame((1 to 999).map(x => list(x)).map(x => toRecord(x))).toDF(cols:_*)"
   ]
  },
  {
   "cell_type": "markdown",
   "metadata": {},
   "source": [
    "#### Drop unneeded column information"
   ]
  },
  {
   "cell_type": "code",
   "execution_count": 20,
   "metadata": {},
   "outputs": [
    {
     "data": {
      "text/plain": [
       "\u001b[36msampleDF_2\u001b[39m: \u001b[32mDataFrame\u001b[39m = [id: int, molecule_name: string ... 11 more fields]"
      ]
     },
     "execution_count": 20,
     "metadata": {},
     "output_type": "execute_result"
    }
   ],
   "source": [
    "val sampleDF_2 = sampleDF.select(col(\"*\") +: ((1 to 4).map(x => col(\"type\").substr(x, 1).as(\"t1_\" + x.toString)) ++\n",
    "                            (1 to 3).map(x => col(\"type\").substr(x, 2).as(\"t2_\" + x.toString))):_*)"
   ]
  },
  {
   "cell_type": "code",
   "execution_count": 21,
   "metadata": {},
   "outputs": [
    {
     "name": "stdout",
     "output_type": "stream",
     "text": [
      "+---+----------------+------------+------------+----+------------------------+----+----+----+----+----+----+----+\n",
      "| id|   molecule_name|atom_index_0|atom_index_1|type|scalar_coupling_constant|t1_1|t1_2|t1_3|t1_4|t2_1|t2_2|t2_3|\n",
      "+---+----------------+------------+------------+----+------------------------+----+----+----+----+----+----+----+\n",
      "|  0|dsgdb9nsd_000001|           1|           0|1JHC|                 84.8076|   1|   J|   H|   C|  1J|  JH|  HC|\n",
      "|  1|dsgdb9nsd_000001|           1|           2|2JHH|                 -11.257|   2|   J|   H|   H|  2J|  JH|  HH|\n",
      "|  2|dsgdb9nsd_000001|           1|           3|2JHH|                -11.2548|   2|   J|   H|   H|  2J|  JH|  HH|\n",
      "|  3|dsgdb9nsd_000001|           1|           4|2JHH|                -11.2543|   2|   J|   H|   H|  2J|  JH|  HH|\n",
      "|  4|dsgdb9nsd_000001|           2|           0|1JHC|                 84.8074|   1|   J|   H|   C|  1J|  JH|  HC|\n",
      "|  5|dsgdb9nsd_000001|           2|           3|2JHH|                -11.2541|   2|   J|   H|   H|  2J|  JH|  HH|\n",
      "|  6|dsgdb9nsd_000001|           2|           4|2JHH|                -11.2548|   2|   J|   H|   H|  2J|  JH|  HH|\n",
      "|  7|dsgdb9nsd_000001|           3|           0|1JHC|                 84.8093|   1|   J|   H|   C|  1J|  JH|  HC|\n",
      "|  8|dsgdb9nsd_000001|           3|           4|2JHH|                -11.2543|   2|   J|   H|   H|  2J|  JH|  HH|\n",
      "|  9|dsgdb9nsd_000001|           4|           0|1JHC|                 84.8095|   1|   J|   H|   C|  1J|  JH|  HC|\n",
      "| 10|dsgdb9nsd_000002|           1|           0|1JHN|                 32.6889|   1|   J|   H|   N|  1J|  JH|  HN|\n",
      "| 11|dsgdb9nsd_000002|           1|           2|2JHH|                -11.1866|   2|   J|   H|   H|  2J|  JH|  HH|\n",
      "| 12|dsgdb9nsd_000002|           1|           3|2JHH|                -11.1757|   2|   J|   H|   H|  2J|  JH|  HH|\n",
      "| 13|dsgdb9nsd_000002|           2|           0|1JHN|                 32.6891|   1|   J|   H|   N|  1J|  JH|  HN|\n",
      "| 14|dsgdb9nsd_000002|           2|           3|2JHH|                -11.1758|   2|   J|   H|   H|  2J|  JH|  HH|\n",
      "| 15|dsgdb9nsd_000002|           3|           0|1JHN|                 32.6905|   1|   J|   H|   N|  1J|  JH|  HN|\n",
      "| 16|dsgdb9nsd_000003|           1|           2|2JHH|                -9.94641|   2|   J|   H|   H|  2J|  JH|  HH|\n",
      "| 17|dsgdb9nsd_000005|           2|           0|1JHC|                  171.22|   1|   J|   H|   C|  1J|  JH|  HC|\n",
      "| 18|dsgdb9nsd_000005|           2|           1|2JHN|                 5.18246|   2|   J|   H|   N|  2J|  JH|  HN|\n",
      "| 19|dsgdb9nsd_000007|           2|           0|1JHC|                 83.5429|   1|   J|   H|   C|  1J|  JH|  HC|\n",
      "+---+----------------+------------+------------+----+------------------------+----+----+----+----+----+----+----+\n",
      "only showing top 20 rows\n",
      "\n"
     ]
    }
   ],
   "source": [
    "sampleDF_2.show()"
   ]
  },
  {
   "cell_type": "code",
   "execution_count": 22,
   "metadata": {},
   "outputs": [
    {
     "data": {
      "text/plain": [
       "\u001b[36msummaries\u001b[39m: \u001b[32mDataFrame\u001b[39m = [summary: string, id: string ... 12 more fields]"
      ]
     },
     "execution_count": 22,
     "metadata": {},
     "output_type": "execute_result"
    }
   ],
   "source": [
    "val summaries = sampleDF_2.summary()"
   ]
  },
  {
   "cell_type": "code",
   "execution_count": 23,
   "metadata": {},
   "outputs": [
    {
     "name": "stdout",
     "output_type": "stream",
     "text": [
      "+-------+-----------------+----------------+-----------------+------------------+----+------------------------+------------------+----+----+----+----+----+----+\n",
      "|summary|               id|   molecule_name|     atom_index_0|      atom_index_1|type|scalar_coupling_constant|              t1_1|t1_2|t1_3|t1_4|t2_1|t2_2|t2_3|\n",
      "+-------+-----------------+----------------+-----------------+------------------+----+------------------------+------------------+----+----+----+----+----+----+\n",
      "|  count|              999|             999|              999|               999| 999|                     999|               999| 999| 999| 999| 999| 999| 999|\n",
      "|   mean|            499.0|            null|6.367367367367367|3.2412412412412412|null|       20.20008205105104|2.1731731731731734|null|null|null|null|null|null|\n",
      "| stddev|288.5307609250702|            null|2.370953186843761|3.1443018508277945|null|       41.64950520655079|0.7537754279841617|null|null|null|null|null|null|\n",
      "|    min|                0|dsgdb9nsd_000001|                1|                 0|1JHC|                -18.3082|                 1|   J|   H|   C|  1J|  JH|  HC|\n",
      "|    25%|              249|            null|                5|                 1|null|                 -2.0078|               2.0|null|null|null|null|null|null|\n",
      "|    50%|              499|            null|                6|                 2|null|                 2.51865|               2.0|null|null|null|null|null|null|\n",
      "|    75%|              749|            null|                8|                 5|null|                 12.3327|               3.0|null|null|null|null|null|null|\n",
      "|    max|              998|dsgdb9nsd_000067|               14|                13|3JHN|                 201.884|                 3|   J|   H|   N|  3J|  JH|  HN|\n",
      "+-------+-----------------+----------------+-----------------+------------------+----+------------------------+------------------+----+----+----+----+----+----+\n",
      "\n"
     ]
    }
   ],
   "source": [
    "summaries.show()"
   ]
  },
  {
   "cell_type": "markdown",
   "metadata": {},
   "source": [
    "### Regression test"
   ]
  },
  {
   "cell_type": "markdown",
   "metadata": {},
   "source": [
    "#### Setting Params"
   ]
  },
  {
   "cell_type": "code",
   "execution_count": 167,
   "metadata": {},
   "outputs": [
    {
     "data": {
      "text/plain": [
       "\u001b[32mimport \u001b[39m\u001b[36morg.apache.spark.sql.types._\u001b[39m"
      ]
     },
     "execution_count": 167,
     "metadata": {},
     "output_type": "execute_result"
    }
   ],
   "source": [
    "import org.apache.spark.sql.types._"
   ]
  },
  {
   "cell_type": "code",
   "execution_count": 41,
   "metadata": {},
   "outputs": [
    {
     "data": {
      "text/plain": [
       "\u001b[32mimport \u001b[39m\u001b[36morg.apache.spark.ml.regression.{LinearRegression}\n",
       "\u001b[39m\n",
       "\u001b[32mimport \u001b[39m\u001b[36morg.apache.spark.ml.{Pipeline, PipelineModel} \n",
       "\u001b[39m\n",
       "\u001b[32mimport \u001b[39m\u001b[36morg.apache.spark.ml.evaluation.RegressionEvaluator\n",
       "\u001b[39m\n",
       "\u001b[32mimport \u001b[39m\u001b[36morg.apache.spark.ml.tuning.ParamGridBuilder\n",
       "\u001b[39m\n",
       "\u001b[32mimport \u001b[39m\u001b[36morg.apache.spark.ml.tuning.CrossValidator\n",
       "\u001b[39m\n",
       "\u001b[32mimport \u001b[39m\u001b[36morg.apache.spark.mllib.evaluation.RegressionMetrics\n",
       "\u001b[39m\n",
       "\u001b[32mimport \u001b[39m\u001b[36morg.apache.spark.ml.feature.VectorAssembler\n",
       "\n",
       "\u001b[39m\n",
       "\u001b[32mimport \u001b[39m\u001b[36morg.apache.spark.ml.linalg.Vectors\n",
       "\u001b[39m\n",
       "\u001b[32mimport \u001b[39m\u001b[36morg.apache.spark.ml.regression.GeneralizedLinearRegression\n",
       "\u001b[39m\n",
       "\u001b[32mimport \u001b[39m\u001b[36mspark.implicits._\n",
       "\n",
       "\u001b[39m\n",
       "\u001b[36mtrainSample\u001b[39m: \u001b[32mDouble\u001b[39m = \u001b[32m1.0\u001b[39m\n",
       "\u001b[36mtestSample\u001b[39m: \u001b[32mDouble\u001b[39m = \u001b[32m1.0\u001b[39m\n",
       "\u001b[36mseed\u001b[39m: \u001b[32mLong\u001b[39m = \u001b[32m12345L\u001b[39m\n",
       "\u001b[36mnumFolds\u001b[39m: \u001b[32mInt\u001b[39m = \u001b[32m10\u001b[39m\n",
       "\u001b[36mMaxIter\u001b[39m: \u001b[32mSeq\u001b[39m[\u001b[32mInt\u001b[39m] = \u001b[33mList\u001b[39m(\u001b[32m1000\u001b[39m)\n",
       "\u001b[36mRegParam\u001b[39m: \u001b[32mSeq\u001b[39m[\u001b[32mDouble\u001b[39m] = \u001b[33mList\u001b[39m(\u001b[32m0.001\u001b[39m)\n",
       "\u001b[36mTol\u001b[39m: \u001b[32mSeq\u001b[39m[\u001b[32mDouble\u001b[39m] = \u001b[33mList\u001b[39m(\u001b[32m1.0E-6\u001b[39m)\n",
       "\u001b[36mElasticNetParam\u001b[39m: \u001b[32mSeq\u001b[39m[\u001b[32mDouble\u001b[39m] = \u001b[33mList\u001b[39m(\u001b[32m0.001\u001b[39m)"
      ]
     },
     "execution_count": 41,
     "metadata": {},
     "output_type": "execute_result"
    }
   ],
   "source": [
    "import org.apache.spark.ml.{Pipeline, PipelineModel} \n",
    "import org.apache.spark.ml.feature.VectorAssembler\n",
    "import org.apache.spark.ml.linalg.Vectors\n",
    "import spark.implicits._\n",
    "\n",
    "var trainSample = 1.0\n",
    "var testSample = 1.0\n",
    "val seed = 12345L\n",
    "val numFolds = 10"
   ]
  },
  {
   "cell_type": "markdown",
   "metadata": {},
   "source": [
    "### Read and define training / validation / test data"
   ]
  },
  {
   "cell_type": "code",
   "execution_count": 42,
   "metadata": {},
   "outputs": [
    {
     "data": {
      "text/plain": [
       "\u001b[36mtargetCol\u001b[39m: \u001b[32mString\u001b[39m = \u001b[32m\"scalar_coupling_constant\"\u001b[39m"
      ]
     },
     "execution_count": 42,
     "metadata": {},
     "output_type": "execute_result"
    }
   ],
   "source": [
    "val targetCol = sampleDF.columns.filter(_.matches(\"\"\"^scal.*\"\"\")).head"
   ]
  },
  {
   "cell_type": "code",
   "execution_count": 168,
   "metadata": {},
   "outputs": [
    {
     "data": {
      "text/plain": [
       "\u001b[36mtrainAll\u001b[39m: \u001b[32morg\u001b[39m.\u001b[32mapache\u001b[39m.\u001b[32mspark\u001b[39m.\u001b[32msql\u001b[39m.\u001b[32mDataset\u001b[39m[\u001b[32morg\u001b[39m.\u001b[32mapache\u001b[39m.\u001b[32mspark\u001b[39m.\u001b[32msql\u001b[39m.\u001b[32mRow\u001b[39m] = [id: string, molecule_name: string ... 4 more fields]\n",
       "\u001b[36mseed\u001b[39m: \u001b[32mLong\u001b[39m = \u001b[32m12345L\u001b[39m\n",
       "\u001b[36msplits\u001b[39m: \u001b[32mArray\u001b[39m[\u001b[32morg\u001b[39m.\u001b[32mapache\u001b[39m.\u001b[32mspark\u001b[39m.\u001b[32msql\u001b[39m.\u001b[32mDataset\u001b[39m[\u001b[32morg\u001b[39m.\u001b[32mapache\u001b[39m.\u001b[32mspark\u001b[39m.\u001b[32msql\u001b[39m.\u001b[32mRow\u001b[39m]] = \u001b[33mArray\u001b[39m(\n",
       "  [id: string, molecule_name: string ... 4 more fields],\n",
       "  [id: string, molecule_name: string ... 4 more fields]\n",
       ")\n",
       "\u001b[36mtrainingData\u001b[39m: \u001b[32morg\u001b[39m.\u001b[32mapache\u001b[39m.\u001b[32mspark\u001b[39m.\u001b[32msql\u001b[39m.\u001b[32mDataset\u001b[39m[\u001b[32morg\u001b[39m.\u001b[32mapache\u001b[39m.\u001b[32mspark\u001b[39m.\u001b[32msql\u001b[39m.\u001b[32mRow\u001b[39m] = [id: string, molecule_name: string ... 4 more fields]\n",
       "\u001b[36mvalidationData\u001b[39m: \u001b[32morg\u001b[39m.\u001b[32mapache\u001b[39m.\u001b[32mspark\u001b[39m.\u001b[32msql\u001b[39m.\u001b[32mDataset\u001b[39m[\u001b[32morg\u001b[39m.\u001b[32mapache\u001b[39m.\u001b[32mspark\u001b[39m.\u001b[32msql\u001b[39m.\u001b[32mRow\u001b[39m] = [id: string, molecule_name: string ... 4 more fields]\n",
       "\u001b[36mres167_4\u001b[39m: \u001b[32morg\u001b[39m.\u001b[32mapache\u001b[39m.\u001b[32mspark\u001b[39m.\u001b[32msql\u001b[39m.\u001b[32mDataset\u001b[39m[\u001b[32morg\u001b[39m.\u001b[32mapache\u001b[39m.\u001b[32mspark\u001b[39m.\u001b[32msql\u001b[39m.\u001b[32mRow\u001b[39m] = [id: string, molecule_name: string ... 4 more fields]\n",
       "\u001b[36mres167_5\u001b[39m: \u001b[32morg\u001b[39m.\u001b[32mapache\u001b[39m.\u001b[32mspark\u001b[39m.\u001b[32msql\u001b[39m.\u001b[32mDataset\u001b[39m[\u001b[32morg\u001b[39m.\u001b[32mapache\u001b[39m.\u001b[32mspark\u001b[39m.\u001b[32msql\u001b[39m.\u001b[32mRow\u001b[39m] = [id: string, molecule_name: string ... 4 more fields]\n",
       "\u001b[36mtestDataFile\u001b[39m: \u001b[32mFile\u001b[39m = /Users/tomoya/Documents/dataset/champs-scalar-coupling/test.csv\n",
       "\u001b[36mtestData\u001b[39m: \u001b[32morg\u001b[39m.\u001b[32mapache\u001b[39m.\u001b[32mspark\u001b[39m.\u001b[32msql\u001b[39m.\u001b[32mDataset\u001b[39m[\u001b[32morg\u001b[39m.\u001b[32mapache\u001b[39m.\u001b[32mspark\u001b[39m.\u001b[32msql\u001b[39m.\u001b[32mRow\u001b[39m] = [id: string, molecule_name: string ... 3 more fields]"
      ]
     },
     "execution_count": 168,
     "metadata": {},
     "output_type": "execute_result"
    }
   ],
   "source": [
    "var trainAll = spark.read.option(\"header\", \"true\").csv(trainDataFile.getAbsolutePath).\n",
    "    withColumnRenamed(targetCol, \"label\").\n",
    "    withColumn(\"label\", col(\"label\").cast(DoubleType)).sample(false, trainSample)\n",
    "\n",
    "// var DF = trainAll.na.drop()\n",
    "// if (trainAll == DF)\n",
    "//     println(\"No null values in the DataFrame\") \n",
    "// else{\n",
    "//     println(\"Null values exist in the DataFrame\")\n",
    "//     trainAll = DF \n",
    "// }\n",
    "val seed = 12345L\n",
    "val splits = trainAll.randomSplit(Array(0.75, 0.25), seed)\n",
    "val (trainingData, validationData) = (splits(0), splits(1))\n",
    "\n",
    "trainingData.cache\n",
    "validationData.cache\n",
    "\n",
    "val testDataFile = files.filter(_.getName.matches(\"\"\"test.csv\"\"\")).head\n",
    "val testData = spark.read.option(\"header\", \"true\").csv(testDataFile.getAbsolutePath).sample(false, testSample).cache"
   ]
  },
  {
   "cell_type": "code",
   "execution_count": 141,
   "metadata": {},
   "outputs": [
    {
     "data": {
      "text/plain": [
       "\u001b[32mimport \u001b[39m\u001b[36mscala.collection.mutable.ListBuffer\n",
       "\n",
       "\u001b[39m\n",
       "\u001b[36mpreprocessingList\u001b[39m: \u001b[32mListBuffer\u001b[39m[\u001b[32mDataFrame\u001b[39m => \u001b[32mDataFrame\u001b[39m] = \u001b[33mListBuffer\u001b[39m()"
      ]
     },
     "execution_count": 141,
     "metadata": {},
     "output_type": "execute_result"
    }
   ],
   "source": [
    "import scala.collection.mutable.ListBuffer\n",
    "val preprocessingList = new ListBuffer[DataFrame => DataFrame]()"
   ]
  },
  {
   "cell_type": "markdown",
   "metadata": {},
   "source": [
    "+ Define function for renaming columns"
   ]
  },
  {
   "cell_type": "code",
   "execution_count": 142,
   "metadata": {},
   "outputs": [
    {
     "name": "stdout",
     "output_type": "stream",
     "text": [
      "+-------+----------------+------------+------------+---------+---+---+\n",
      "|     id|   molecule_name|atom_index_0|atom_index_1|    label| t1| t4|\n",
      "+-------+----------------+------------+------------+---------+---+---+\n",
      "|      0|dsgdb9nsd_000001|           1|           0|  84.8076|  1|  C|\n",
      "|      1|dsgdb9nsd_000001|           1|           2|  -11.257|  2|  H|\n",
      "|     10|dsgdb9nsd_000002|           1|           0|  32.6889|  1|  N|\n",
      "|    100|dsgdb9nsd_000012|           3|           5|  12.0536|  3|  H|\n",
      "|  10000|dsgdb9nsd_000524|          14|           5|   86.787|  1|  C|\n",
      "| 100000|dsgdb9nsd_003735|           7|           8| -11.7083|  2|  H|\n",
      "|1000002|dsgdb9nsd_034940|          15|           5|-0.342991|  2|  C|\n",
      "|1000003|dsgdb9nsd_034940|          15|           6| -1.57302|  2|  C|\n",
      "|1000004|dsgdb9nsd_034940|          15|           7|   104.79|  1|  C|\n",
      "|1000005|dsgdb9nsd_034940|          15|           8|  4.37176|  3|  C|\n",
      "|1000006|dsgdb9nsd_034940|          16|           1| 0.538655|  3|  C|\n",
      "|1000007|dsgdb9nsd_034940|          16|           2| 0.946548|  2|  C|\n",
      "|1000010|dsgdb9nsd_034940|          16|           5| 0.606772|  2|  C|\n",
      "|1000011|dsgdb9nsd_034940|          16|           6|  2.14369|  3|  C|\n",
      "|1000012|dsgdb9nsd_034940|          16|           7| 0.352008|  3|  C|\n",
      "|1000013|dsgdb9nsd_034940|          16|           8|  120.629|  1|  C|\n",
      "|1000014|dsgdb9nsd_034941|           9|           0|  0.72359|  3|  N|\n",
      "|1000015|dsgdb9nsd_034941|           9|           1| -2.19343|  2|  C|\n",
      "|1000016|dsgdb9nsd_034941|           9|           2|  107.106|  1|  C|\n",
      "|1000017|dsgdb9nsd_034941|           9|           3|  4.28842|  2|  C|\n",
      "+-------+----------------+------------+------------+---------+---+---+\n",
      "only showing top 20 rows\n",
      "\n"
     ]
    },
    {
     "data": {
      "text/plain": [
       "defined \u001b[32mfunction\u001b[39m \u001b[36mprocessTypeColumn\u001b[39m\n",
       "\u001b[36mres141_1\u001b[39m: \u001b[32mListBuffer\u001b[39m[\u001b[32mDataFrame\u001b[39m => \u001b[32mDataFrame\u001b[39m] = \u001b[33mListBuffer\u001b[39m(<function1>)"
      ]
     },
     "execution_count": 142,
     "metadata": {},
     "output_type": "execute_result"
    }
   ],
   "source": [
    "def processTypeColumn(df:DataFrame):DataFrame = df.select(col(\"*\")+: Seq(1,4).map( x => col(\"type\").substr(x, 1).as(\"t\" + x.toString)):_*).drop(\"type\")\n",
    "preprocessingList += processTypeColumn\n",
    "trainingData.transform(processTypeColumn).show"
   ]
  },
  {
   "cell_type": "markdown",
   "metadata": {},
   "source": [
    "+ Define function for make 1 additional feature"
   ]
  },
  {
   "cell_type": "code",
   "execution_count": 143,
   "metadata": {},
   "outputs": [
    {
     "name": "stdout",
     "output_type": "stream",
     "text": [
      "+-------+----------------+------------+------------+----+---------+---------------+\n",
      "|     id|   molecule_name|atom_index_0|atom_index_1|type|    label|atom_index_diff|\n",
      "+-------+----------------+------------+------------+----+---------+---------------+\n",
      "|      0|dsgdb9nsd_000001|           1|           0|1JHC|  84.8076|            1.0|\n",
      "|      1|dsgdb9nsd_000001|           1|           2|2JHH|  -11.257|            1.0|\n",
      "|     10|dsgdb9nsd_000002|           1|           0|1JHN|  32.6889|            1.0|\n",
      "|    100|dsgdb9nsd_000012|           3|           5|3JHH|  12.0536|            2.0|\n",
      "|  10000|dsgdb9nsd_000524|          14|           5|1JHC|   86.787|            9.0|\n",
      "| 100000|dsgdb9nsd_003735|           7|           8|2JHH| -11.7083|            1.0|\n",
      "|1000002|dsgdb9nsd_034940|          15|           5|2JHC|-0.342991|           10.0|\n",
      "|1000003|dsgdb9nsd_034940|          15|           6|2JHC| -1.57302|            9.0|\n",
      "|1000004|dsgdb9nsd_034940|          15|           7|1JHC|   104.79|            8.0|\n",
      "|1000005|dsgdb9nsd_034940|          15|           8|3JHC|  4.37176|            7.0|\n",
      "|1000006|dsgdb9nsd_034940|          16|           1|3JHC| 0.538655|           15.0|\n",
      "|1000007|dsgdb9nsd_034940|          16|           2|2JHC| 0.946548|           14.0|\n",
      "|1000010|dsgdb9nsd_034940|          16|           5|2JHC| 0.606772|           11.0|\n",
      "|1000011|dsgdb9nsd_034940|          16|           6|3JHC|  2.14369|           10.0|\n",
      "|1000012|dsgdb9nsd_034940|          16|           7|3JHC| 0.352008|            9.0|\n",
      "|1000013|dsgdb9nsd_034940|          16|           8|1JHC|  120.629|            8.0|\n",
      "|1000014|dsgdb9nsd_034941|           9|           0|3JHN|  0.72359|            9.0|\n",
      "|1000015|dsgdb9nsd_034941|           9|           1|2JHC| -2.19343|            8.0|\n",
      "|1000016|dsgdb9nsd_034941|           9|           2|1JHC|  107.106|            7.0|\n",
      "|1000017|dsgdb9nsd_034941|           9|           3|2JHC|  4.28842|            6.0|\n",
      "+-------+----------------+------------+------------+----+---------+---------------+\n",
      "only showing top 20 rows\n",
      "\n"
     ]
    },
    {
     "data": {
      "text/plain": [
       "defined \u001b[32mfunction\u001b[39m \u001b[36mprocessAtomIndex\u001b[39m\n",
       "\u001b[36mres142_1\u001b[39m: \u001b[32mListBuffer\u001b[39m[\u001b[32mDataFrame\u001b[39m => \u001b[32mDataFrame\u001b[39m] = \u001b[33mListBuffer\u001b[39m(\n",
       "  <function1>,\n",
       "  <function1>\n",
       ")"
      ]
     },
     "execution_count": 143,
     "metadata": {},
     "output_type": "execute_result"
    }
   ],
   "source": [
    "def processAtomIndex(df:DataFrame):DataFrame = df.select(col(\"*\"), abs(col(\"atom_index_0\") - col(\"atom_index_1\")).as(\"atom_index_diff\"))\n",
    "preprocessingList += processAtomIndex\n",
    "trainingData.transform(processAtomIndex).show"
   ]
  },
  {
   "cell_type": "markdown",
   "metadata": {},
   "source": [
    "### Exploratory analysis (average target values by categorical variables)"
   ]
  },
  {
   "cell_type": "code",
   "execution_count": 70,
   "metadata": {},
   "outputs": [],
   "source": [
    "var categoricalCols = trainingData.transform(processTypeColumn).transform(processAtomIndex).columns.filter(x => x.matches(\"\"\"^(atom.*\\d{1}|t\\d{1})\"\"\"))\n",
    "var tempAggs:Map[String, Column=>Column] = Map(\n",
    "    \"count\" -> count,\n",
    "    \"min\" -> max, \n",
    "    \"max\" -> min, \n",
    "    \"mean\"-> avg, \n",
    "    \"stddev\"-> stddev\n",
    ")\n",
    "var tempExpr = tempAggs.map(x => x._2(col(\"label\"))).toSeq"
   ]
  },
  {
   "cell_type": "code",
   "execution_count": 71,
   "metadata": {},
   "outputs": [],
   "source": [
    "import scala.util.matching.Regex.Match\n",
    "\n",
    "def replacePars(str:String) = \"[(|)]\".r replaceSomeIn(str, { \n",
    "  case Match(\"(\") => Some(\"_\") \n",
    "  case Match(\")\") => Some(\"\") \n",
    "  case _ => None})\n",
    "\n",
    "def replaceColumnNameChars(df:DataFrame):DataFrame = {\n",
    "   df.select(df.columns.map(x => col(x).as(replacePars(x))):_*)\n",
    "}\n",
    "\n",
    "val aggrList01 = categoricalCols.map(x => {\n",
    "    trainingData.transform(processTypeColumn).transform(processAtomIndex).\n",
    "    groupBy(x).\n",
    "    agg(tempExpr.head, tempExpr.tail:_*).\n",
    "    transform(replaceColumnNameChars).\n",
    "    sort(col(\"avg_label\").desc)\n",
    "})"
   ]
  },
  {
   "cell_type": "code",
   "execution_count": 72,
   "metadata": {},
   "outputs": [
    {
     "name": "stdout",
     "output_type": "stream",
     "text": [
      "+------------+-----------+------------------+---------+---------+------------------+\n",
      "|atom_index_0|count_label|         avg_label|max_label|min_label| stddev_samp_label|\n",
      "+------------+-----------+------------------+---------+---------+------------------+\n",
      "|          28|         72| 21.92878094444444|  9.81731|   -1.058| 35.23185395113022|\n",
      "|          11|     334284|18.568073696246394|  99.9989|-0.000105| 35.41070960961889|\n",
      "|          24|       5293| 18.07532229132819|  99.5894|-0.002885|35.300296991256936|\n",
      "|          22|      22907|17.925526548784262|  99.8763|-0.000384| 36.71707042321272|\n",
      "|          26|        780|17.898671452564102|  92.6664|-0.001858| 33.71423610380489|\n",
      "|          20|      70570| 17.23977482749044|  99.9721|-0.000213| 36.33419490119731|\n",
      "|          23|       7704|16.949363009216015|  99.7316| -0.00081| 34.72306937629732|\n",
      "|          18|     159787|16.876985383717113|   99.988|-0.000156| 36.11973690200501|\n",
      "|          19|     107542|16.633819243374695|  99.9633|-0.000131|35.211628185550694|\n",
      "|          17|     214256|16.568194131580952|  99.9939|-0.000126|35.678760332157005|\n",
      "|          21|      36612| 16.56198668190754|  99.9982|-0.000213| 34.59844025787865|\n",
      "|          16|     269875| 16.43754955961471|    9e-06|-0.000108|35.582654098110346|\n",
      "|          27|         85|16.379878047058824|  9.66188|  -1.0006| 34.90131362840872|\n",
      "|          10|     356089|16.247550899367774|    9e-06|-0.000126| 34.65113887632219|\n",
      "|          15|     316602|16.180821450821565|  99.9996|-0.000133| 35.36348118530116|\n",
      "|          25|       1086|15.964622219152853|  92.1837|-0.018965| 33.81001703974124|\n",
      "|          14|     357208|15.922252740128993|  99.9983|-0.000134| 34.86074779135219|\n",
      "|          13|     379195| 15.74335586903564|  99.9998|-0.000105| 34.66404413942462|\n",
      "|          12|     414455|14.912681361701496|  99.9975|-0.000158| 33.80666742378086|\n",
      "|           5|        738|14.363205364498645|  98.4708|-0.001169|  35.2127346911183|\n",
      "+------------+-----------+------------------+---------+---------+------------------+\n",
      "only showing top 20 rows\n",
      "\n"
     ]
    }
   ],
   "source": [
    "aggrList01(0).show"
   ]
  },
  {
   "cell_type": "code",
   "execution_count": 77,
   "metadata": {},
   "outputs": [
    {
     "name": "stdout",
     "output_type": "stream",
     "text": [
      "+------------+-----------+--------------------+---------+---------+------------------+\n",
      "|atom_index_1|count_label|           avg_label|max_label|min_label| stddev_samp_label|\n",
      "+------------+-----------+--------------------+---------+---------+------------------+\n",
      "|           0|     242634|   46.90514616430927|   99.993|-0.000164| 42.96695017831453|\n",
      "|           8|     186355|  23.482594417557937|  99.9792|-0.000113|43.352403360702404|\n",
      "|           7|     269810|  20.872959390645292|  99.9997|-0.000105| 39.59035888296813|\n",
      "|           6|     294535|  20.297015414748614|  99.9933|-0.000165| 38.20378761245526|\n",
      "|           5|     311155|  19.818153592408976|  99.9997| -0.00011|  37.6973580993219|\n",
      "|           4|     329888|  18.534412229899093|  99.9983|-0.000105| 36.32004309035174|\n",
      "|           3|     343860|   17.71841680886415|  99.9998|-0.000122|35.593571046460035|\n",
      "|           2|     403060|  16.376890409715777|    9e-06|-0.000168| 33.09967877556212|\n",
      "|           1|     387849|    10.5690342317706|  99.9984|-0.000108| 29.04623405752205|\n",
      "|          12|      88186|   3.790449247510945|    9e-06|-0.000191| 6.161307145727423|\n",
      "|          13|      81102|  0.9034365142289996|  9.99864|-0.000246| 7.827605138661182|\n",
      "|          14|      71082| 0.39712327680707193|  99.1144|-0.000222| 7.560704138736657|\n",
      "|          15|      66922| 0.37978412508592063|  9.99967|-0.000288| 7.356507932833427|\n",
      "|          17|      52806| 0.30786162858387345|  9.99914|-0.000321| 7.450744068211405|\n",
      "|          16|      60865| 0.22019169667296543|  9.99838|-0.000133| 7.434055275223197|\n",
      "|          18|      42815|0.037698014013779375|  9.99898|-0.000599| 7.702768738804928|\n",
      "|          19|      31199|-0.04570873992756044|  9.99889|-0.000764| 7.760098669190226|\n",
      "|          20|      22874|-0.09607072440325251|  9.99942|-0.001466| 7.821745693431337|\n",
      "|          21|      12567| -0.7101420505291645|  9.99991|-0.000319| 8.107145219406835|\n",
      "|          22|       9339| -0.7503180844844201|  9.99555|-0.000674| 8.047804558746268|\n",
      "|          23|       3082| -1.3564725902011676|  9.98608|-0.006399| 8.471790648399216|\n",
      "|          24|       2647| -1.6706238889308642|  9.90171|-0.030864| 8.258050372802563|\n",
      "|          27|         43| -1.8898383720930234|  4.08571| -10.9663| 9.622852427930765|\n",
      "|          25|        452| -2.4266141570796464|  9.98341| -10.0619| 8.852575679221317|\n",
      "|          26|        487|  -3.576484804928131|  9.75497|  -10.067| 8.444803229560742|\n",
      "|          28|         58|  -3.871497068965517|   3.7668| -10.7263| 9.483691622232348|\n",
      "|           9|      11170|  -6.317527825962422|  99.3196|-0.000452|11.060891129566384|\n",
      "|          11|     102643|  -6.659501399881106|  90.5203|-0.000479| 7.890888229112714|\n",
      "|          10|      64472|  -7.464476231232168|  99.4799| -0.00021| 7.692750020254751|\n",
      "+------------+-----------+--------------------+---------+---------+------------------+\n",
      "\n"
     ]
    }
   ],
   "source": [
    "aggrList01(1).show(100)"
   ]
  },
  {
   "cell_type": "code",
   "execution_count": 91,
   "metadata": {},
   "outputs": [
    {
     "name": "stdout",
     "output_type": "stream",
     "text": [
      "+-------+----------------+------------+------------+----+---------+--------------+\n",
      "|     id|   molecule_name|atom_index_0|atom_index_1|type|    label|atom_index_1_i|\n",
      "+-------+----------------+------------+------------+----+---------+--------------+\n",
      "|      0|dsgdb9nsd_000001|           1|           0|1JHC|  84.8076|             0|\n",
      "|      1|dsgdb9nsd_000001|           1|           2|2JHH|  -11.257|             7|\n",
      "|     10|dsgdb9nsd_000002|           1|           0|1JHN|  32.6889|             0|\n",
      "|    100|dsgdb9nsd_000012|           3|           5|3JHH|  12.0536|             4|\n",
      "|  10000|dsgdb9nsd_000524|          14|           5|1JHC|   86.787|             4|\n",
      "| 100000|dsgdb9nsd_003735|           7|           8|2JHH| -11.7083|             1|\n",
      "|1000002|dsgdb9nsd_034940|          15|           5|2JHC|-0.342991|             4|\n",
      "|1000003|dsgdb9nsd_034940|          15|           6|2JHC| -1.57302|             3|\n",
      "|1000004|dsgdb9nsd_034940|          15|           7|1JHC|   104.79|             2|\n",
      "|1000005|dsgdb9nsd_034940|          15|           8|3JHC|  4.37176|             1|\n",
      "|1000006|dsgdb9nsd_034940|          16|           1|3JHC| 0.538655|             8|\n",
      "|1000007|dsgdb9nsd_034940|          16|           2|2JHC| 0.946548|             7|\n",
      "|1000010|dsgdb9nsd_034940|          16|           5|2JHC| 0.606772|             4|\n",
      "|1000011|dsgdb9nsd_034940|          16|           6|3JHC|  2.14369|             3|\n",
      "|1000012|dsgdb9nsd_034940|          16|           7|3JHC| 0.352008|             2|\n",
      "|1000013|dsgdb9nsd_034940|          16|           8|1JHC|  120.629|             1|\n",
      "|1000014|dsgdb9nsd_034941|           9|           0|3JHN|  0.72359|             0|\n",
      "|1000015|dsgdb9nsd_034941|           9|           1|2JHC| -2.19343|             8|\n",
      "|1000016|dsgdb9nsd_034941|           9|           2|1JHC|  107.106|             7|\n",
      "|1000017|dsgdb9nsd_034941|           9|           3|2JHC|  4.28842|             6|\n",
      "+-------+----------------+------------+------------+----+---------+--------------+\n",
      "only showing top 20 rows\n",
      "\n"
     ]
    }
   ],
   "source": [
    "trainingData.transform(recategorizeAtomIndex1Column).show"
   ]
  },
  {
   "cell_type": "code",
   "execution_count": 73,
   "metadata": {},
   "outputs": [
    {
     "name": "stdout",
     "output_type": "stream",
     "text": [
      "+---+-----------+-------------------+---------+---------+------------------+\n",
      "| t1|count_label|          avg_label|max_label|min_label| stddev_samp_label|\n",
      "+---+-----------+-------------------+---------+---------+------------------+\n",
      "|  1|     565157|  92.23050224450911|  99.9998|      100|21.054318656302712|\n",
      "|  3|    1699854|   3.77302948605652|    9e-06|-0.000105| 3.288990500901999|\n",
      "|  2|    1228946|-2.3371433076855834|  9.99992|-0.000105| 6.210650967789539|\n",
      "+---+-----------+-------------------+---------+---------+------------------+\n",
      "\n"
     ]
    }
   ],
   "source": [
    "aggrList01(2).show"
   ]
  },
  {
   "cell_type": "code",
   "execution_count": 75,
   "metadata": {},
   "outputs": [
    {
     "name": "stdout",
     "output_type": "stream",
     "text": [
      "+---+-----------+-------------------+---------+---------+------------------+\n",
      "| t4|count_label|          avg_label|max_label|min_label| stddev_samp_label|\n",
      "+---+-----------+-------------------+---------+---------+------------------+\n",
      "|  C|    2520945| 21.627150141810457|  99.9998|-0.000105|39.054519662869666|\n",
      "|  N|     246166|  7.918650293602685|    9e-06|-0.000109|16.171814313437576|\n",
      "|  H|     726846|-1.1062428366352648|    9e-06|-0.000133| 8.277172044205791|\n",
      "+---+-----------+-------------------+---------+---------+------------------+\n",
      "\n"
     ]
    }
   ],
   "source": [
    "aggrList01(3).show"
   ]
  },
  {
   "cell_type": "markdown",
   "metadata": {},
   "source": [
    "+ Define reacategorization function"
   ]
  },
  {
   "cell_type": "code",
   "execution_count": 144,
   "metadata": {},
   "outputs": [
    {
     "name": "stdout",
     "output_type": "stream",
     "text": [
      "+-------+----------------+------------+------------+----+---------+--------------+\n",
      "|     id|   molecule_name|atom_index_0|atom_index_1|type|    label|atom_index_1_i|\n",
      "+-------+----------------+------------+------------+----+---------+--------------+\n",
      "|      0|dsgdb9nsd_000001|           1|           0|1JHC|  84.8076|             0|\n",
      "|      1|dsgdb9nsd_000001|           1|           2|2JHH|  -11.257|             7|\n",
      "|     10|dsgdb9nsd_000002|           1|           0|1JHN|  32.6889|             0|\n",
      "|    100|dsgdb9nsd_000012|           3|           5|3JHH|  12.0536|             4|\n",
      "|  10000|dsgdb9nsd_000524|          14|           5|1JHC|   86.787|             4|\n",
      "| 100000|dsgdb9nsd_003735|           7|           8|2JHH| -11.7083|             1|\n",
      "|1000002|dsgdb9nsd_034940|          15|           5|2JHC|-0.342991|             4|\n",
      "|1000003|dsgdb9nsd_034940|          15|           6|2JHC| -1.57302|             3|\n",
      "|1000004|dsgdb9nsd_034940|          15|           7|1JHC|   104.79|             2|\n",
      "|1000005|dsgdb9nsd_034940|          15|           8|3JHC|  4.37176|             1|\n",
      "|1000006|dsgdb9nsd_034940|          16|           1|3JHC| 0.538655|             8|\n",
      "|1000007|dsgdb9nsd_034940|          16|           2|2JHC| 0.946548|             7|\n",
      "|1000010|dsgdb9nsd_034940|          16|           5|2JHC| 0.606772|             4|\n",
      "|1000011|dsgdb9nsd_034940|          16|           6|3JHC|  2.14369|             3|\n",
      "|1000012|dsgdb9nsd_034940|          16|           7|3JHC| 0.352008|             2|\n",
      "|1000013|dsgdb9nsd_034940|          16|           8|1JHC|  120.629|             1|\n",
      "|1000014|dsgdb9nsd_034941|           9|           0|3JHN|  0.72359|             0|\n",
      "|1000015|dsgdb9nsd_034941|           9|           1|2JHC| -2.19343|             8|\n",
      "|1000016|dsgdb9nsd_034941|           9|           2|1JHC|  107.106|             7|\n",
      "|1000017|dsgdb9nsd_034941|           9|           3|2JHC|  4.28842|             6|\n",
      "+-------+----------------+------------+------------+----+---------+--------------+\n",
      "only showing top 20 rows\n",
      "\n"
     ]
    },
    {
     "data": {
      "text/plain": [
       "defined \u001b[32mfunction\u001b[39m \u001b[36mrecategorizeAtomIndex1Column\u001b[39m\n",
       "\u001b[36mres143_1\u001b[39m: \u001b[32mListBuffer\u001b[39m[\u001b[32mDataFrame\u001b[39m => \u001b[32mDataFrame\u001b[39m] = \u001b[33mListBuffer\u001b[39m(\n",
       "  <function1>,\n",
       "  <function1>,\n",
       "  <function1>\n",
       ")"
      ]
     },
     "execution_count": 144,
     "metadata": {},
     "output_type": "execute_result"
    }
   ],
   "source": [
    "def recategorizeAtomIndex1Column(df:DataFrame):DataFrame = df.select(col(\"*\"), \n",
    "                                                                     when(col(\"atom_index_1\") ===\"0\", 0).\n",
    "                                                                     when(col(\"atom_index_1\") ===\"8\", 1).\n",
    "                                                                     when(col(\"atom_index_1\") ===\"7\", 2).\n",
    "                                                                     when(col(\"atom_index_1\") ===\"6\", 3).\n",
    "                                                                     when(col(\"atom_index_1\") ===\"5\", 4).\n",
    "                                                                     when(col(\"atom_index_1\") ===\"4\", 5).\n",
    "                                                                     when(col(\"atom_index_1\") ===\"3\", 6).\n",
    "                                                                     when(col(\"atom_index_1\") ===\"2\", 7).\n",
    "                                                                     when(col(\"atom_index_1\") ===\"1\", 8).\n",
    "                                                                     when(col(\"atom_index_1\") ===\"12\", 9).\n",
    "                                                                     when(col(\"atom_index_1\") ===\"13\", 10).\n",
    "                                                                     when(col(\"atom_index_1\") ===\"14\", 11).\n",
    "                                                                     when(col(\"atom_index_1\") ===\"15\", 12).\n",
    "                                                                     when(col(\"atom_index_1\") ===\"16\", 13).\n",
    "                                                                     when(col(\"atom_index_1\") ===\"17\", 14).\n",
    "                                                                     when(col(\"atom_index_1\") ===\"18\", 15).\n",
    "                                                                     when(col(\"atom_index_1\") ===\"19\", 16).\n",
    "                                                                     when(col(\"atom_index_1\") ===\"20\", 17).\n",
    "                                                                     when(col(\"atom_index_1\") ===\"21\", 18).\n",
    "                                                                     when(col(\"atom_index_1\") ===\"22\", 19).\n",
    "                                                                     when(col(\"atom_index_1\") ===\"23\", 20).\n",
    "                                                                     when(col(\"atom_index_1\") ===\"24\", 21).\n",
    "                                                                     when(col(\"atom_index_1\") ===\"25\", 22).\n",
    "                                                                     when(col(\"atom_index_1\") ===\"26\", 23).\n",
    "                                                                     when(col(\"atom_index_1\") ===\"27\", 24).\n",
    "                                                                     when(col(\"atom_index_1\") ===\"28\", 25).\n",
    "                                                                     otherwise(26).as(\"atom_index_1_i\"))\n",
    "preprocessingList += recategorizeAtomIndex1Column\n",
    "recategorizeAtomIndex1Column(trainingData).show"
   ]
  },
  {
   "cell_type": "markdown",
   "metadata": {},
   "source": [
    "#### Re-define categorical columns"
   ]
  },
  {
   "cell_type": "code",
   "execution_count": 94,
   "metadata": {},
   "outputs": [],
   "source": [
    "categoricalCols = categoricalCols.filterNot(_==\"atom_index_1\")"
   ]
  },
  {
   "cell_type": "markdown",
   "metadata": {},
   "source": [
    "### Preprocessing before applying pipeline (TODO: search for how to build custome pipeline)"
   ]
  },
  {
   "cell_type": "code",
   "execution_count": 153,
   "metadata": {},
   "outputs": [
    {
     "name": "stdout",
     "output_type": "stream",
     "text": [
      "Convert DataFrame by 3 defined processes.\n"
     ]
    },
    {
     "data": {
      "text/plain": [
       "defined \u001b[32mfunction\u001b[39m \u001b[36mconvertBeforePipeline\u001b[39m\n",
       "\u001b[36mallConvertedColumns\u001b[39m: \u001b[32mArray\u001b[39m[\u001b[32mString\u001b[39m] = \u001b[33mArray\u001b[39m(\n",
       "  \u001b[32m\"id\"\u001b[39m,\n",
       "  \u001b[32m\"molecule_name\"\u001b[39m,\n",
       "  \u001b[32m\"atom_index_0\"\u001b[39m,\n",
       "  \u001b[32m\"atom_index_1\"\u001b[39m,\n",
       "  \u001b[32m\"label\"\u001b[39m,\n",
       "  \u001b[32m\"t1\"\u001b[39m,\n",
       "  \u001b[32m\"t4\"\u001b[39m,\n",
       "  \u001b[32m\"atom_index_diff\"\u001b[39m,\n",
       "  \u001b[32m\"atom_index_1_i\"\u001b[39m\n",
       ")"
      ]
     },
     "execution_count": 153,
     "metadata": {},
     "output_type": "execute_result"
    }
   ],
   "source": [
    "def convertBeforePipeline(df:DataFrame):DataFrame ={\n",
    "    println(\"Convert DataFrame by \" + preprocessingList.length.toString + \" defined processes.\")\n",
    "    preprocessingList.foldLeft(df)((df,process) => df.transform(process))\n",
    "}\n",
    "val allConvertedColumns = convertBeforePipeline(trainingData).columns"
   ]
  },
  {
   "cell_type": "code",
   "execution_count": 149,
   "metadata": {},
   "outputs": [
    {
     "name": "stdout",
     "output_type": "stream",
     "text": [
      "Convert DataFrame by 3 defined processes.\n",
      "+-------+----------------+------------+------------+---------+---+---+---------------+--------------+\n",
      "|     id|   molecule_name|atom_index_0|atom_index_1|    label| t1| t4|atom_index_diff|atom_index_1_i|\n",
      "+-------+----------------+------------+------------+---------+---+---+---------------+--------------+\n",
      "|      0|dsgdb9nsd_000001|           1|           0|  84.8076|  1|  C|            1.0|             0|\n",
      "|      1|dsgdb9nsd_000001|           1|           2|  -11.257|  2|  H|            1.0|             7|\n",
      "|     10|dsgdb9nsd_000002|           1|           0|  32.6889|  1|  N|            1.0|             0|\n",
      "|    100|dsgdb9nsd_000012|           3|           5|  12.0536|  3|  H|            2.0|             4|\n",
      "|  10000|dsgdb9nsd_000524|          14|           5|   86.787|  1|  C|            9.0|             4|\n",
      "| 100000|dsgdb9nsd_003735|           7|           8| -11.7083|  2|  H|            1.0|             1|\n",
      "|1000002|dsgdb9nsd_034940|          15|           5|-0.342991|  2|  C|           10.0|             4|\n",
      "|1000003|dsgdb9nsd_034940|          15|           6| -1.57302|  2|  C|            9.0|             3|\n",
      "|1000004|dsgdb9nsd_034940|          15|           7|   104.79|  1|  C|            8.0|             2|\n",
      "|1000005|dsgdb9nsd_034940|          15|           8|  4.37176|  3|  C|            7.0|             1|\n",
      "|1000006|dsgdb9nsd_034940|          16|           1| 0.538655|  3|  C|           15.0|             8|\n",
      "|1000007|dsgdb9nsd_034940|          16|           2| 0.946548|  2|  C|           14.0|             7|\n",
      "|1000010|dsgdb9nsd_034940|          16|           5| 0.606772|  2|  C|           11.0|             4|\n",
      "|1000011|dsgdb9nsd_034940|          16|           6|  2.14369|  3|  C|           10.0|             3|\n",
      "|1000012|dsgdb9nsd_034940|          16|           7| 0.352008|  3|  C|            9.0|             2|\n",
      "|1000013|dsgdb9nsd_034940|          16|           8|  120.629|  1|  C|            8.0|             1|\n",
      "|1000014|dsgdb9nsd_034941|           9|           0|  0.72359|  3|  N|            9.0|             0|\n",
      "|1000015|dsgdb9nsd_034941|           9|           1| -2.19343|  2|  C|            8.0|             8|\n",
      "|1000016|dsgdb9nsd_034941|           9|           2|  107.106|  1|  C|            7.0|             7|\n",
      "|1000017|dsgdb9nsd_034941|           9|           3|  4.28842|  2|  C|            6.0|             6|\n",
      "+-------+----------------+------------+------------+---------+---+---+---------------+--------------+\n",
      "only showing top 20 rows\n",
      "\n"
     ]
    }
   ],
   "source": [
    "convertBeforePipeline(trainingData).show"
   ]
  },
  {
   "cell_type": "markdown",
   "metadata": {},
   "source": [
    "### Build Pipeline"
   ]
  },
  {
   "cell_type": "markdown",
   "metadata": {},
   "source": [
    "#### StringIndexer"
   ]
  },
  {
   "cell_type": "code",
   "execution_count": 150,
   "metadata": {},
   "outputs": [
    {
     "data": {
      "text/plain": [
       "\u001b[32mimport \u001b[39m\u001b[36morg.apache.spark.ml.feature.{OneHotEncoderEstimator, StringIndexer}\n",
       "\u001b[39m\n",
       "\u001b[36mnewCategoricalCols\u001b[39m: \u001b[32mSeq\u001b[39m[\u001b[32mString\u001b[39m] = \u001b[33mList\u001b[39m(\u001b[32m\"atom_index_0_c\"\u001b[39m, \u001b[32m\"t1_c\"\u001b[39m, \u001b[32m\"t4_c\"\u001b[39m)\n",
       "\u001b[36mcategoricalColsMap\u001b[39m: \u001b[32mMap\u001b[39m[\u001b[32mString\u001b[39m, \u001b[32mString\u001b[39m] = \u001b[33mMap\u001b[39m(\n",
       "  \u001b[32m\"atom_index_0\"\u001b[39m -> \u001b[32m\"atom_index_0_c\"\u001b[39m,\n",
       "  \u001b[32m\"t1\"\u001b[39m -> \u001b[32m\"t1_c\"\u001b[39m,\n",
       "  \u001b[32m\"t4\"\u001b[39m -> \u001b[32m\"t4_c\"\u001b[39m\n",
       ")\n",
       "\u001b[36mstringIndexerStages\u001b[39m: \u001b[32mArray\u001b[39m[\u001b[32morg\u001b[39m.\u001b[32mapache\u001b[39m.\u001b[32mspark\u001b[39m.\u001b[32mml\u001b[39m.\u001b[32mfeature\u001b[39m.\u001b[32mStringIndexerModel\u001b[39m] = \u001b[33mArray\u001b[39m(\n",
       "  strIdx_584660428c97,\n",
       "  strIdx_d4ea32bae3f8,\n",
       "  strIdx_a726a61031a0\n",
       ")"
      ]
     },
     "execution_count": 150,
     "metadata": {},
     "output_type": "execute_result"
    }
   ],
   "source": [
    "import org.apache.spark.ml.feature.{OneHotEncoderEstimator, StringIndexer}\n",
    "val newCategoricalCols = Seq(\"atom_index_0_c\", \"t1_c\", \"t4_c\")\n",
    "val categoricalColsMap = categoricalCols.zip(newCategoricalCols).toMap\n",
    "val stringIndexerStages = categoricalCols.\n",
    "    map(c => new StringIndexer().setInputCol(c).setOutputCol(categoricalColsMap(c)).fit(trainingData.transform(x => processTypeColumn(x)).select(c)))"
   ]
  },
  {
   "cell_type": "code",
   "execution_count": 150,
   "metadata": {},
   "outputs": [],
   "source": [
    "// def transformStringIndex(df:DataFrame, colsMap:Map[String, String]):DataFrame = {\n",
    "//     colsMap.foldLeft(df)((d, m) => {\n",
    "//         val si = new StringIndexer().setInputCol(m._1).setOutputCol(m._2)\n",
    "//         val sm = si.fit(d)\n",
    "//         sm.transform(d)\n",
    "//     })\n",
    "// }"
   ]
  },
  {
   "cell_type": "markdown",
   "metadata": {},
   "source": [
    "### Modeling"
   ]
  },
  {
   "cell_type": "markdown",
   "metadata": {},
   "source": [
    "#### import modules"
   ]
  },
  {
   "cell_type": "code",
   "execution_count": 173,
   "metadata": {},
   "outputs": [
    {
     "data": {
      "text/plain": [
       "\u001b[32mimport \u001b[39m\u001b[36morg.apache.spark.ml.regression.{LinearRegression, LinearRegressionModel}\n",
       "\u001b[39m\n",
       "\u001b[32mimport \u001b[39m\u001b[36morg.apache.spark.ml.evaluation.RegressionEvaluator\n",
       "\u001b[39m\n",
       "\u001b[32mimport \u001b[39m\u001b[36morg.apache.spark.ml.tuning.ParamGridBuilder\n",
       "\u001b[39m\n",
       "\u001b[32mimport \u001b[39m\u001b[36morg.apache.spark.ml.tuning.CrossValidator\n",
       "\u001b[39m\n",
       "\u001b[32mimport \u001b[39m\u001b[36morg.apache.spark.mllib.evaluation.RegressionMetrics\n",
       "\u001b[39m\n",
       "\u001b[32mimport \u001b[39m\u001b[36morg.apache.spark.ml.regression.GeneralizedLinearRegression\n",
       "\u001b[39m\n",
       "\u001b[36mMaxIter\u001b[39m: \u001b[32mSeq\u001b[39m[\u001b[32mInt\u001b[39m] = \u001b[33mList\u001b[39m(\u001b[32m1000\u001b[39m)\n",
       "\u001b[36mRegParam\u001b[39m: \u001b[32mSeq\u001b[39m[\u001b[32mDouble\u001b[39m] = \u001b[33mList\u001b[39m(\u001b[32m0.001\u001b[39m)\n",
       "\u001b[36mTol\u001b[39m: \u001b[32mSeq\u001b[39m[\u001b[32mDouble\u001b[39m] = \u001b[33mList\u001b[39m(\u001b[32m1.0E-6\u001b[39m)\n",
       "\u001b[36mElasticNetParam\u001b[39m: \u001b[32mSeq\u001b[39m[\u001b[32mDouble\u001b[39m] = \u001b[33mList\u001b[39m(\u001b[32m0.001\u001b[39m)"
      ]
     },
     "execution_count": 173,
     "metadata": {},
     "output_type": "execute_result"
    }
   ],
   "source": [
    "import org.apache.spark.ml.regression.{LinearRegression, LinearRegressionModel}\n",
    "import org.apache.spark.ml.evaluation.RegressionEvaluator\n",
    "import org.apache.spark.ml.tuning.ParamGridBuilder\n",
    "import org.apache.spark.ml.tuning.CrossValidator\n",
    "import org.apache.spark.mllib.evaluation.RegressionMetrics\n",
    "import org.apache.spark.ml.regression.GeneralizedLinearRegression\n",
    "val MaxIter: Seq[Int] = Seq(1000)\n",
    "val RegParam: Seq[Double] = Seq(0.001)\n",
    "val Tol: Seq[Double] = Seq(1e-6)\n",
    "val ElasticNetParam: Seq[Double] = Seq(0.001)"
   ]
  },
  {
   "cell_type": "markdown",
   "metadata": {},
   "source": [
    "### Linear Regression (similar way to glmnet in R)"
   ]
  },
  {
   "cell_type": "code",
   "execution_count": 161,
   "metadata": {},
   "outputs": [
    {
     "data": {
      "text/plain": [
       "\u001b[36mfeatureCols\u001b[39m: \u001b[32mArray\u001b[39m[\u001b[32mString\u001b[39m] = \u001b[33mArray\u001b[39m(\n",
       "  \u001b[32m\"atom_index_0_c\"\u001b[39m,\n",
       "  \u001b[32m\"t1_c\"\u001b[39m,\n",
       "  \u001b[32m\"t4_c\"\u001b[39m,\n",
       "  \u001b[32m\"atom_index_diff\"\u001b[39m,\n",
       "  \u001b[32m\"atom_index_1_i\"\u001b[39m\n",
       ")"
      ]
     },
     "execution_count": 161,
     "metadata": {},
     "output_type": "execute_result"
    }
   ],
   "source": [
    "val featureCols = allConvertedColumns.\n",
    "    filter(_.matches(\"\"\"^(atom|t).*\"\"\")).\n",
    "    filterNot(_.matches(\"\"\"atom_index_1\"\"\")).\n",
    "    map(x => categoricalColsMap.getOrElse(x, x))"
   ]
  },
  {
   "cell_type": "code",
   "execution_count": 162,
   "metadata": {},
   "outputs": [
    {
     "data": {
      "text/plain": [
       "\u001b[36massembler\u001b[39m: \u001b[32mVectorAssembler\u001b[39m = vecAssembler_1c539e63fcc8\n",
       "\u001b[36mmodel\u001b[39m: \u001b[32mLinearRegression\u001b[39m = linReg_5e540c6ee1e1"
      ]
     },
     "execution_count": 162,
     "metadata": {},
     "output_type": "execute_result"
    }
   ],
   "source": [
    "val assembler = new VectorAssembler().setInputCols(featureCols).setOutputCol(\"features\")\n",
    "val model = new LinearRegression().setFeaturesCol(\"features\").setLabelCol(\"label\")"
   ]
  },
  {
   "cell_type": "code",
   "execution_count": 163,
   "metadata": {},
   "outputs": [
    {
     "data": {
      "text/plain": [
       "\u001b[36mpipeline\u001b[39m: \u001b[32mPipeline\u001b[39m = pipeline_2bd720c74de0"
      ]
     },
     "execution_count": 163,
     "metadata": {},
     "output_type": "execute_result"
    }
   ],
   "source": [
    "val pipeline = new Pipeline().setStages(stringIndexerStages :+ assembler :+ model)"
   ]
  },
  {
   "cell_type": "code",
   "execution_count": 164,
   "metadata": {},
   "outputs": [
    {
     "data": {
      "text/plain": [
       "\u001b[36mparamGrid\u001b[39m: \u001b[32mArray\u001b[39m[\u001b[32morg\u001b[39m.\u001b[32mapache\u001b[39m.\u001b[32mspark\u001b[39m.\u001b[32mml\u001b[39m.\u001b[32mparam\u001b[39m.\u001b[32mParamMap\u001b[39m] = \u001b[33mArray\u001b[39m(\n",
       "  {\n",
       "\tlinReg_5e540c6ee1e1-elasticNetParam: 0.001,\n",
       "\tlinReg_5e540c6ee1e1-maxIter: 1000,\n",
       "\tlinReg_5e540c6ee1e1-regParam: 0.001,\n",
       "\tlinReg_5e540c6ee1e1-tol: 1.0E-6\n",
       "}\n",
       ")\n",
       "\u001b[36mcv\u001b[39m: \u001b[32mCrossValidator\u001b[39m = cv_46d0fe37d68e"
      ]
     },
     "execution_count": 164,
     "metadata": {},
     "output_type": "execute_result"
    }
   ],
   "source": [
    "val paramGrid = new ParamGridBuilder().\n",
    "    addGrid(model.maxIter, MaxIter).\n",
    "    addGrid(model.regParam, RegParam).\n",
    "    addGrid(model.tol, Tol).\n",
    "    addGrid(model.elasticNetParam, ElasticNetParam).build()\n",
    "\n",
    "val cv = new CrossValidator()\n",
    "    .setEstimator(pipeline)\n",
    "    .setEvaluator(new RegressionEvaluator)\n",
    "    .setEstimatorParamMaps(paramGrid)\n",
    "    .setNumFolds(numFolds)"
   ]
  },
  {
   "cell_type": "code",
   "execution_count": 169,
   "metadata": {},
   "outputs": [
    {
     "name": "stdout",
     "output_type": "stream",
     "text": [
      "Convert DataFrame by 3 defined processes.\n"
     ]
    },
    {
     "name": "stderr",
     "output_type": "stream",
     "text": [
      "19/07/15 12:32:31 WARN BLAS: Failed to load implementation from: com.github.fommil.netlib.NativeSystemBLAS\n",
      "19/07/15 12:32:31 WARN BLAS: Failed to load implementation from: com.github.fommil.netlib.NativeRefBLAS\n",
      "19/07/15 12:32:53 INFO OWLQN: Step Size: 0.1283\n",
      "19/07/15 12:32:53 INFO OWLQN: Val and Grad Norm: 0.422005 (rel: 0.156) 0.669705\n",
      "19/07/15 12:32:53 INFO OWLQN: Step Size: 0.5000\n",
      "19/07/15 12:32:53 INFO OWLQN: Val and Grad Norm: 0.281835 (rel: 0.332) 0.338823\n",
      "19/07/15 12:32:53 INFO OWLQN: Step Size: 0.5000\n",
      "19/07/15 12:32:53 INFO OWLQN: Val and Grad Norm: 0.241943 (rel: 0.142) 0.162320\n",
      "19/07/15 12:32:53 INFO OWLQN: Step Size: 0.5000\n",
      "19/07/15 12:32:53 INFO OWLQN: Val and Grad Norm: 0.231815 (rel: 0.0419) 0.0831343\n",
      "19/07/15 12:32:53 INFO OWLQN: Step Size: 0.5000\n",
      "19/07/15 12:32:53 INFO OWLQN: Val and Grad Norm: 0.229180 (rel: 0.0114) 0.0461268\n",
      "19/07/15 12:32:53 INFO OWLQN: Step Size: 0.5000\n",
      "19/07/15 12:32:53 INFO OWLQN: Val and Grad Norm: 0.228186 (rel: 0.00434) 0.0271662\n",
      "19/07/15 12:32:53 INFO OWLQN: Step Size: 0.5000\n",
      "19/07/15 12:32:53 INFO OWLQN: Val and Grad Norm: 0.227710 (rel: 0.00208) 0.0162330\n",
      "19/07/15 12:32:53 INFO OWLQN: Step Size: 0.5000\n",
      "19/07/15 12:32:53 INFO OWLQN: Val and Grad Norm: 0.227481 (rel: 0.00101) 0.00894571\n",
      "19/07/15 12:32:53 INFO OWLQN: Step Size: 1.000\n",
      "19/07/15 12:32:53 INFO OWLQN: Val and Grad Norm: 0.227388 (rel: 0.000409) 0.00340682\n",
      "19/07/15 12:32:53 INFO OWLQN: Step Size: 1.000\n",
      "19/07/15 12:32:53 INFO OWLQN: Val and Grad Norm: 0.227385 (rel: 1.50e-05) 0.00203729\n",
      "19/07/15 12:32:53 INFO OWLQN: Step Size: 1.000\n",
      "19/07/15 12:32:53 INFO OWLQN: Val and Grad Norm: 0.227383 (rel: 9.00e-06) 0.000238771\n",
      "19/07/15 12:32:53 INFO OWLQN: Step Size: 1.000\n",
      "19/07/15 12:32:53 INFO OWLQN: Val and Grad Norm: 0.227383 (rel: 7.56e-08) 6.88532e-05\n",
      "19/07/15 12:32:53 INFO OWLQN: Step Size: 1.000\n",
      "19/07/15 12:32:53 INFO OWLQN: Val and Grad Norm: 0.227383 (rel: 5.42e-09) 1.28288e-05\n",
      "19/07/15 12:32:53 INFO OWLQN: Step Size: 1.000\n",
      "19/07/15 12:32:53 INFO OWLQN: Val and Grad Norm: 0.227383 (rel: 3.13e-10) 4.60958e-06\n",
      "19/07/15 12:32:53 INFO OWLQN: Step Size: 1.000\n",
      "19/07/15 12:32:53 INFO OWLQN: Val and Grad Norm: 0.227383 (rel: 5.13e-11) 5.94401e-07\n",
      "19/07/15 12:32:53 INFO OWLQN: Step Size: 1.000\n",
      "19/07/15 12:32:53 INFO OWLQN: Val and Grad Norm: 0.227383 (rel: 9.67e-13) 1.74163e-07\n",
      "19/07/15 12:32:53 INFO OWLQN: Converged because gradient converged\n",
      "19/07/15 12:33:23 INFO OWLQN: Step Size: 0.1283\n",
      "19/07/15 12:33:23 INFO OWLQN: Val and Grad Norm: 0.422001 (rel: 0.156) 0.669749\n",
      "19/07/15 12:33:23 INFO OWLQN: Step Size: 0.5000\n",
      "19/07/15 12:33:23 INFO OWLQN: Val and Grad Norm: 0.281816 (rel: 0.332) 0.338842\n",
      "19/07/15 12:33:23 INFO OWLQN: Step Size: 0.5000\n",
      "19/07/15 12:33:23 INFO OWLQN: Val and Grad Norm: 0.241921 (rel: 0.142) 0.162327\n",
      "19/07/15 12:33:23 INFO OWLQN: Step Size: 0.5000\n",
      "19/07/15 12:33:23 INFO OWLQN: Val and Grad Norm: 0.231795 (rel: 0.0419) 0.0831587\n",
      "19/07/15 12:33:23 INFO OWLQN: Step Size: 0.5000\n",
      "19/07/15 12:33:23 INFO OWLQN: Val and Grad Norm: 0.229153 (rel: 0.0114) 0.0460443\n",
      "19/07/15 12:33:23 INFO OWLQN: Step Size: 0.5000\n",
      "19/07/15 12:33:23 INFO OWLQN: Val and Grad Norm: 0.228160 (rel: 0.00434) 0.0270857\n",
      "19/07/15 12:33:23 INFO OWLQN: Step Size: 0.5000\n",
      "19/07/15 12:33:23 INFO OWLQN: Val and Grad Norm: 0.227687 (rel: 0.00207) 0.0162250\n",
      "19/07/15 12:33:23 INFO OWLQN: Step Size: 0.5000\n",
      "19/07/15 12:33:23 INFO OWLQN: Val and Grad Norm: 0.227459 (rel: 0.00100) 0.00894320\n",
      "19/07/15 12:33:23 INFO OWLQN: Step Size: 1.000\n",
      "19/07/15 12:33:23 INFO OWLQN: Val and Grad Norm: 0.227365 (rel: 0.000410) 0.00338981\n",
      "19/07/15 12:33:23 INFO OWLQN: Step Size: 1.000\n",
      "19/07/15 12:33:23 INFO OWLQN: Val and Grad Norm: 0.227362 (rel: 1.51e-05) 0.00199615\n",
      "19/07/15 12:33:23 INFO OWLQN: Step Size: 1.000\n",
      "19/07/15 12:33:23 INFO OWLQN: Val and Grad Norm: 0.227360 (rel: 8.61e-06) 0.000210849\n",
      "19/07/15 12:33:23 INFO OWLQN: Step Size: 1.000\n",
      "19/07/15 12:33:23 INFO OWLQN: Val and Grad Norm: 0.227360 (rel: 5.98e-08) 6.15108e-05\n",
      "19/07/15 12:33:23 INFO OWLQN: Step Size: 1.000\n",
      "19/07/15 12:33:23 INFO OWLQN: Val and Grad Norm: 0.227360 (rel: 4.38e-09) 1.25954e-05\n",
      "19/07/15 12:33:23 INFO OWLQN: Step Size: 1.000\n",
      "19/07/15 12:33:23 INFO OWLQN: Val and Grad Norm: 0.227360 (rel: 3.09e-10) 4.02189e-06\n",
      "19/07/15 12:33:23 INFO OWLQN: Step Size: 1.000\n",
      "19/07/15 12:33:23 INFO OWLQN: Val and Grad Norm: 0.227360 (rel: 3.86e-11) 6.14599e-07\n",
      "19/07/15 12:33:23 INFO OWLQN: Step Size: 1.000\n",
      "19/07/15 12:33:23 INFO OWLQN: Val and Grad Norm: 0.227360 (rel: 8.32e-13) 1.50432e-07\n",
      "19/07/15 12:33:23 INFO OWLQN: Converged because gradient converged\n",
      "19/07/15 12:33:57 INFO OWLQN: Step Size: 0.1283\n",
      "19/07/15 12:33:57 INFO OWLQN: Val and Grad Norm: 0.422006 (rel: 0.156) 0.669715\n",
      "19/07/15 12:33:57 INFO OWLQN: Step Size: 0.5000\n",
      "19/07/15 12:33:57 INFO OWLQN: Val and Grad Norm: 0.281809 (rel: 0.332) 0.338813\n",
      "19/07/15 12:33:57 INFO OWLQN: Step Size: 0.5000\n",
      "19/07/15 12:33:57 INFO OWLQN: Val and Grad Norm: 0.241921 (rel: 0.142) 0.162315\n",
      "19/07/15 12:33:57 INFO OWLQN: Step Size: 0.5000\n",
      "19/07/15 12:33:57 INFO OWLQN: Val and Grad Norm: 0.231797 (rel: 0.0419) 0.0831446\n",
      "19/07/15 12:33:57 INFO OWLQN: Step Size: 0.5000\n",
      "19/07/15 12:33:57 INFO OWLQN: Val and Grad Norm: 0.229158 (rel: 0.0114) 0.0460701\n",
      "19/07/15 12:33:57 INFO OWLQN: Step Size: 0.5000\n",
      "19/07/15 12:33:57 INFO OWLQN: Val and Grad Norm: 0.228165 (rel: 0.00434) 0.0271134\n",
      "19/07/15 12:33:57 INFO OWLQN: Step Size: 0.5000\n",
      "19/07/15 12:33:57 INFO OWLQN: Val and Grad Norm: 0.227692 (rel: 0.00207) 0.0162568\n",
      "19/07/15 12:33:57 INFO OWLQN: Step Size: 0.5000\n",
      "19/07/15 12:33:57 INFO OWLQN: Val and Grad Norm: 0.227463 (rel: 0.00101) 0.00896687\n",
      "19/07/15 12:33:57 INFO OWLQN: Step Size: 1.000\n",
      "19/07/15 12:33:57 INFO OWLQN: Val and Grad Norm: 0.227369 (rel: 0.000412) 0.00336606\n",
      "19/07/15 12:33:57 INFO OWLQN: Step Size: 1.000\n",
      "19/07/15 12:33:57 INFO OWLQN: Val and Grad Norm: 0.227366 (rel: 1.49e-05) 0.00197808\n",
      "19/07/15 12:33:57 INFO OWLQN: Step Size: 1.000\n",
      "19/07/15 12:33:57 INFO OWLQN: Val and Grad Norm: 0.227364 (rel: 8.45e-06) 0.000196616\n",
      "19/07/15 12:33:57 INFO OWLQN: Step Size: 1.000\n",
      "19/07/15 12:33:57 INFO OWLQN: Val and Grad Norm: 0.227364 (rel: 5.27e-08) 5.79672e-05\n",
      "19/07/15 12:33:57 INFO OWLQN: Step Size: 1.000\n",
      "19/07/15 12:33:57 INFO OWLQN: Val and Grad Norm: 0.227364 (rel: 3.96e-09) 1.25342e-05\n",
      "19/07/15 12:33:57 INFO OWLQN: Step Size: 1.000\n",
      "19/07/15 12:33:57 INFO OWLQN: Val and Grad Norm: 0.227364 (rel: 3.05e-10) 3.52712e-06\n",
      "19/07/15 12:33:57 INFO OWLQN: Step Size: 1.000\n",
      "19/07/15 12:33:57 INFO OWLQN: Val and Grad Norm: 0.227364 (rel: 2.95e-11) 6.00100e-07\n",
      "19/07/15 12:33:57 INFO OWLQN: Step Size: 1.000\n",
      "19/07/15 12:33:57 INFO OWLQN: Val and Grad Norm: 0.227364 (rel: 7.92e-13) 1.40572e-07\n",
      "19/07/15 12:33:57 INFO OWLQN: Converged because gradient converged\n",
      "19/07/15 12:34:30 INFO OWLQN: Step Size: 0.1283\n",
      "19/07/15 12:34:30 INFO OWLQN: Val and Grad Norm: 0.422000 (rel: 0.156) 0.669756\n",
      "19/07/15 12:34:30 INFO OWLQN: Step Size: 0.5000\n",
      "19/07/15 12:34:30 INFO OWLQN: Val and Grad Norm: 0.281802 (rel: 0.332) 0.338853\n",
      "19/07/15 12:34:30 INFO OWLQN: Step Size: 0.5000\n",
      "19/07/15 12:34:30 INFO OWLQN: Val and Grad Norm: 0.241901 (rel: 0.142) 0.162325\n",
      "19/07/15 12:34:30 INFO OWLQN: Step Size: 0.5000\n",
      "19/07/15 12:34:30 INFO OWLQN: Val and Grad Norm: 0.231770 (rel: 0.0419) 0.0831553\n",
      "19/07/15 12:34:30 INFO OWLQN: Step Size: 0.5000\n",
      "19/07/15 12:34:30 INFO OWLQN: Val and Grad Norm: 0.229137 (rel: 0.0114) 0.0462201\n",
      "19/07/15 12:34:30 INFO OWLQN: Step Size: 0.5000\n",
      "19/07/15 12:34:30 INFO OWLQN: Val and Grad Norm: 0.228140 (rel: 0.00435) 0.0272643\n",
      "19/07/15 12:34:30 INFO OWLQN: Step Size: 0.5000\n",
      "19/07/15 12:34:30 INFO OWLQN: Val and Grad Norm: 0.227663 (rel: 0.00209) 0.0163466\n",
      "19/07/15 12:34:30 INFO OWLQN: Step Size: 0.5000\n",
      "19/07/15 12:34:30 INFO OWLQN: Val and Grad Norm: 0.227431 (rel: 0.00102) 0.00902046\n",
      "19/07/15 12:34:30 INFO OWLQN: Step Size: 1.000\n",
      "19/07/15 12:34:30 INFO OWLQN: Val and Grad Norm: 0.227336 (rel: 0.000417) 0.00336321\n",
      "19/07/15 12:34:30 INFO OWLQN: Step Size: 1.000\n",
      "19/07/15 12:34:30 INFO OWLQN: Val and Grad Norm: 0.227333 (rel: 1.49e-05) 0.00198861\n",
      "19/07/15 12:34:30 INFO OWLQN: Step Size: 1.000\n",
      "19/07/15 12:34:30 INFO OWLQN: Val and Grad Norm: 0.227331 (rel: 8.59e-06) 0.000208391\n",
      "19/07/15 12:34:30 INFO OWLQN: Step Size: 1.000\n",
      "19/07/15 12:34:30 INFO OWLQN: Val and Grad Norm: 0.227331 (rel: 5.96e-08) 6.24192e-05\n",
      "19/07/15 12:34:30 INFO OWLQN: Step Size: 1.000\n",
      "19/07/15 12:34:30 INFO OWLQN: Val and Grad Norm: 0.227331 (rel: 4.57e-09) 1.35199e-05\n",
      "19/07/15 12:34:30 INFO OWLQN: Step Size: 1.000\n",
      "19/07/15 12:34:30 INFO OWLQN: Val and Grad Norm: 0.227331 (rel: 3.61e-10) 3.81831e-06\n",
      "19/07/15 12:34:30 INFO OWLQN: Step Size: 1.000\n",
      "19/07/15 12:34:30 INFO OWLQN: Val and Grad Norm: 0.227331 (rel: 3.47e-11) 7.06878e-07\n",
      "19/07/15 12:34:30 INFO OWLQN: Step Size: 1.000\n",
      "19/07/15 12:34:30 INFO OWLQN: Val and Grad Norm: 0.227331 (rel: 1.04e-12) 1.62539e-07\n",
      "19/07/15 12:34:30 INFO OWLQN: Converged because gradient converged\n",
      "19/07/15 12:35:01 INFO OWLQN: Step Size: 0.1283\n",
      "19/07/15 12:35:01 INFO OWLQN: Val and Grad Norm: 0.422024 (rel: 0.156) 0.669529\n",
      "19/07/15 12:35:01 INFO OWLQN: Step Size: 0.5000\n",
      "19/07/15 12:35:01 INFO OWLQN: Val and Grad Norm: 0.281917 (rel: 0.332) 0.338733\n",
      "19/07/15 12:35:01 INFO OWLQN: Step Size: 0.5000\n",
      "19/07/15 12:35:01 INFO OWLQN: Val and Grad Norm: 0.242044 (rel: 0.141) 0.162282\n",
      "19/07/15 12:35:01 INFO OWLQN: Step Size: 0.5000\n",
      "19/07/15 12:35:01 INFO OWLQN: Val and Grad Norm: 0.231921 (rel: 0.0418) 0.0831017\n",
      "19/07/15 12:35:01 INFO OWLQN: Step Size: 0.5000\n",
      "19/07/15 12:35:01 INFO OWLQN: Val and Grad Norm: 0.229284 (rel: 0.0114) 0.0460488\n",
      "19/07/15 12:35:01 INFO OWLQN: Step Size: 0.5000\n",
      "19/07/15 12:35:01 INFO OWLQN: Val and Grad Norm: 0.228291 (rel: 0.00433) 0.0270852\n",
      "19/07/15 12:35:01 INFO OWLQN: Step Size: 0.5000\n",
      "19/07/15 12:35:01 INFO OWLQN: Val and Grad Norm: 0.227819 (rel: 0.00207) 0.0162369\n",
      "19/07/15 12:35:01 INFO OWLQN: Step Size: 0.5000\n",
      "19/07/15 12:35:01 INFO OWLQN: Val and Grad Norm: 0.227590 (rel: 0.00100) 0.00895613\n",
      "19/07/15 12:35:01 INFO OWLQN: Step Size: 1.000\n",
      "19/07/15 12:35:01 INFO OWLQN: Val and Grad Norm: 0.227497 (rel: 0.000411) 0.00336908\n",
      "19/07/15 12:35:01 INFO OWLQN: Step Size: 1.000\n",
      "19/07/15 12:35:01 INFO OWLQN: Val and Grad Norm: 0.227493 (rel: 1.49e-05) 0.00198426\n",
      "19/07/15 12:35:01 INFO OWLQN: Step Size: 1.000\n",
      "19/07/15 12:35:01 INFO OWLQN: Val and Grad Norm: 0.227491 (rel: 8.49e-06) 0.000197033\n",
      "19/07/15 12:35:01 INFO OWLQN: Step Size: 1.000\n",
      "19/07/15 12:35:01 INFO OWLQN: Val and Grad Norm: 0.227491 (rel: 5.28e-08) 5.79163e-05\n",
      "19/07/15 12:35:01 INFO OWLQN: Step Size: 1.000\n",
      "19/07/15 12:35:01 INFO OWLQN: Val and Grad Norm: 0.227491 (rel: 3.94e-09) 1.24669e-05\n",
      "19/07/15 12:35:01 INFO OWLQN: Step Size: 1.000\n",
      "19/07/15 12:35:01 INFO OWLQN: Val and Grad Norm: 0.227491 (rel: 3.02e-10) 3.54997e-06\n",
      "19/07/15 12:35:01 INFO OWLQN: Step Size: 1.000\n",
      "19/07/15 12:35:01 INFO OWLQN: Val and Grad Norm: 0.227491 (rel: 2.98e-11) 5.86273e-07\n",
      "19/07/15 12:35:01 INFO OWLQN: Step Size: 1.000\n",
      "19/07/15 12:35:01 INFO OWLQN: Val and Grad Norm: 0.227491 (rel: 7.60e-13) 1.37975e-07\n",
      "19/07/15 12:35:01 INFO OWLQN: Converged because gradient converged\n",
      "19/07/15 12:35:35 INFO OWLQN: Step Size: 0.1283\n",
      "19/07/15 12:35:35 INFO OWLQN: Val and Grad Norm: 0.421994 (rel: 0.156) 0.669816\n",
      "19/07/15 12:35:35 INFO OWLQN: Step Size: 0.5000\n",
      "19/07/15 12:35:35 INFO OWLQN: Val and Grad Norm: 0.281764 (rel: 0.332) 0.338864\n",
      "19/07/15 12:35:35 INFO OWLQN: Step Size: 0.5000\n",
      "19/07/15 12:35:35 INFO OWLQN: Val and Grad Norm: 0.241865 (rel: 0.142) 0.162338\n",
      "19/07/15 12:35:35 INFO OWLQN: Step Size: 0.5000\n",
      "19/07/15 12:35:35 INFO OWLQN: Val and Grad Norm: 0.231738 (rel: 0.0419) 0.0831538\n",
      "19/07/15 12:35:35 INFO OWLQN: Step Size: 0.5000\n",
      "19/07/15 12:35:35 INFO OWLQN: Val and Grad Norm: 0.229101 (rel: 0.0114) 0.0460969\n",
      "19/07/15 12:35:35 INFO OWLQN: Step Size: 0.5000\n",
      "19/07/15 12:35:35 INFO OWLQN: Val and Grad Norm: 0.228108 (rel: 0.00434) 0.0271386\n",
      "19/07/15 12:35:35 INFO OWLQN: Step Size: 0.5000\n",
      "19/07/15 12:35:35 INFO OWLQN: Val and Grad Norm: 0.227634 (rel: 0.00208) 0.0162532\n",
      "19/07/15 12:35:35 INFO OWLQN: Step Size: 0.5000\n",
      "19/07/15 12:35:35 INFO OWLQN: Val and Grad Norm: 0.227404 (rel: 0.00101) 0.00896564\n",
      "19/07/15 12:35:35 INFO OWLQN: Step Size: 1.000\n",
      "19/07/15 12:35:35 INFO OWLQN: Val and Grad Norm: 0.227311 (rel: 0.000412) 0.00337871\n",
      "19/07/15 12:35:35 INFO OWLQN: Step Size: 1.000\n",
      "19/07/15 12:35:35 INFO OWLQN: Val and Grad Norm: 0.227307 (rel: 1.49e-05) 0.00200301\n",
      "19/07/15 12:35:35 INFO OWLQN: Step Size: 1.000\n",
      "19/07/15 12:35:35 INFO OWLQN: Val and Grad Norm: 0.227305 (rel: 8.68e-06) 0.000210420\n",
      "19/07/15 12:35:35 INFO OWLQN: Step Size: 1.000\n",
      "19/07/15 12:35:35 INFO OWLQN: Val and Grad Norm: 0.227305 (rel: 5.98e-08) 6.15920e-05\n",
      "19/07/15 12:35:35 INFO OWLQN: Step Size: 1.000\n",
      "19/07/15 12:35:35 INFO OWLQN: Val and Grad Norm: 0.227305 (rel: 4.41e-09) 1.28083e-05\n",
      "19/07/15 12:35:35 INFO OWLQN: Step Size: 1.000\n",
      "19/07/15 12:35:35 INFO OWLQN: Val and Grad Norm: 0.227305 (rel: 3.21e-10) 3.98058e-06\n",
      "19/07/15 12:35:35 INFO OWLQN: Step Size: 1.000\n",
      "19/07/15 12:35:35 INFO OWLQN: Val and Grad Norm: 0.227305 (rel: 3.78e-11) 6.35615e-07\n",
      "19/07/15 12:35:35 INFO OWLQN: Step Size: 1.000\n",
      "19/07/15 12:35:35 INFO OWLQN: Val and Grad Norm: 0.227305 (rel: 8.75e-13) 1.52714e-07\n",
      "19/07/15 12:35:35 INFO OWLQN: Converged because gradient converged\n",
      "19/07/15 12:36:06 INFO OWLQN: Step Size: 0.1283\n",
      "19/07/15 12:36:06 INFO OWLQN: Val and Grad Norm: 0.421995 (rel: 0.156) 0.669788\n",
      "19/07/15 12:36:06 INFO OWLQN: Step Size: 0.5000\n",
      "19/07/15 12:36:06 INFO OWLQN: Val and Grad Norm: 0.281804 (rel: 0.332) 0.338878\n",
      "19/07/15 12:36:06 INFO OWLQN: Step Size: 0.5000\n",
      "19/07/15 12:36:06 INFO OWLQN: Val and Grad Norm: 0.241893 (rel: 0.142) 0.162334\n",
      "19/07/15 12:36:06 INFO OWLQN: Step Size: 0.5000\n",
      "19/07/15 12:36:06 INFO OWLQN: Val and Grad Norm: 0.231760 (rel: 0.0419) 0.0831550\n",
      "19/07/15 12:36:06 INFO OWLQN: Step Size: 0.5000\n",
      "19/07/15 12:36:06 INFO OWLQN: Val and Grad Norm: 0.229127 (rel: 0.0114) 0.0462281\n",
      "19/07/15 12:36:06 INFO OWLQN: Step Size: 0.5000\n",
      "19/07/15 12:36:06 INFO OWLQN: Val and Grad Norm: 0.228130 (rel: 0.00435) 0.0272653\n",
      "19/07/15 12:36:06 INFO OWLQN: Step Size: 0.5000\n",
      "19/07/15 12:36:06 INFO OWLQN: Val and Grad Norm: 0.227652 (rel: 0.00210) 0.0163208\n",
      "19/07/15 12:36:06 INFO OWLQN: Step Size: 0.5000\n",
      "19/07/15 12:36:06 INFO OWLQN: Val and Grad Norm: 0.227420 (rel: 0.00102) 0.00899873\n",
      "19/07/15 12:36:06 INFO OWLQN: Step Size: 1.000\n",
      "19/07/15 12:36:06 INFO OWLQN: Val and Grad Norm: 0.227326 (rel: 0.000415) 0.00338100\n",
      "19/07/15 12:36:06 INFO OWLQN: Step Size: 1.000\n",
      "19/07/15 12:36:06 INFO OWLQN: Val and Grad Norm: 0.227323 (rel: 1.49e-05) 0.00200973\n",
      "19/07/15 12:36:06 INFO OWLQN: Step Size: 1.000\n",
      "19/07/15 12:36:06 INFO OWLQN: Val and Grad Norm: 0.227321 (rel: 8.78e-06) 0.000224574\n",
      "19/07/15 12:36:06 INFO OWLQN: Step Size: 1.000\n",
      "19/07/15 12:36:06 INFO OWLQN: Val and Grad Norm: 0.227321 (rel: 6.81e-08) 6.63502e-05\n",
      "19/07/15 12:36:06 INFO OWLQN: Step Size: 1.000\n",
      "19/07/15 12:36:06 INFO OWLQN: Val and Grad Norm: 0.227321 (rel: 5.08e-09) 1.33680e-05\n",
      "19/07/15 12:36:06 INFO OWLQN: Step Size: 1.000\n",
      "19/07/15 12:36:06 INFO OWLQN: Val and Grad Norm: 0.227321 (rel: 3.47e-10) 4.29048e-06\n",
      "19/07/15 12:36:06 INFO OWLQN: Step Size: 1.000\n",
      "19/07/15 12:36:06 INFO OWLQN: Val and Grad Norm: 0.227321 (rel: 4.41e-11) 6.53033e-07\n",
      "19/07/15 12:36:06 INFO OWLQN: Step Size: 1.000\n",
      "19/07/15 12:36:06 INFO OWLQN: Val and Grad Norm: 0.227321 (rel: 1.01e-12) 1.71933e-07\n",
      "19/07/15 12:36:06 INFO OWLQN: Converged because gradient converged\n",
      "19/07/15 12:36:37 INFO OWLQN: Step Size: 0.1283\n",
      "19/07/15 12:36:37 INFO OWLQN: Val and Grad Norm: 0.422008 (rel: 0.156) 0.669710\n",
      "19/07/15 12:36:37 INFO OWLQN: Step Size: 0.5000\n",
      "19/07/15 12:36:37 INFO OWLQN: Val and Grad Norm: 0.281798 (rel: 0.332) 0.338795\n",
      "19/07/15 12:36:37 INFO OWLQN: Step Size: 0.5000\n",
      "19/07/15 12:36:37 INFO OWLQN: Val and Grad Norm: 0.241918 (rel: 0.142) 0.162312\n",
      "19/07/15 12:36:37 INFO OWLQN: Step Size: 0.5000\n",
      "19/07/15 12:36:37 INFO OWLQN: Val and Grad Norm: 0.231798 (rel: 0.0418) 0.0831282\n",
      "19/07/15 12:36:37 INFO OWLQN: Step Size: 0.5000\n",
      "19/07/15 12:36:37 INFO OWLQN: Val and Grad Norm: 0.229161 (rel: 0.0114) 0.0460139\n",
      "19/07/15 12:36:37 INFO OWLQN: Step Size: 0.5000\n",
      "19/07/15 12:36:37 INFO OWLQN: Val and Grad Norm: 0.228170 (rel: 0.00432) 0.0270568\n",
      "19/07/15 12:36:37 INFO OWLQN: Step Size: 0.5000\n",
      "19/07/15 12:36:37 INFO OWLQN: Val and Grad Norm: 0.227700 (rel: 0.00206) 0.0162236\n",
      "19/07/15 12:36:37 INFO OWLQN: Step Size: 0.5000\n",
      "19/07/15 12:36:37 INFO OWLQN: Val and Grad Norm: 0.227472 (rel: 0.00100) 0.00895013\n",
      "19/07/15 12:36:37 INFO OWLQN: Step Size: 1.000\n",
      "19/07/15 12:36:37 INFO OWLQN: Val and Grad Norm: 0.227379 (rel: 0.000411) 0.00334347\n",
      "19/07/15 12:36:37 INFO OWLQN: Step Size: 1.000\n",
      "19/07/15 12:36:37 INFO OWLQN: Val and Grad Norm: 0.227375 (rel: 1.47e-05) 0.00196711\n",
      "19/07/15 12:36:37 INFO OWLQN: Step Size: 1.000\n",
      "19/07/15 12:36:37 INFO OWLQN: Val and Grad Norm: 0.227373 (rel: 8.33e-06) 0.000181908\n",
      "19/07/15 12:36:37 INFO OWLQN: Step Size: 1.000\n",
      "19/07/15 12:36:37 INFO OWLQN: Val and Grad Norm: 0.227373 (rel: 4.54e-08) 5.35240e-05\n",
      "19/07/15 12:36:37 INFO OWLQN: Step Size: 1.000\n",
      "19/07/15 12:36:37 INFO OWLQN: Val and Grad Norm: 0.227373 (rel: 3.40e-09) 1.19104e-05\n",
      "19/07/15 12:36:37 INFO OWLQN: Step Size: 1.000\n",
      "19/07/15 12:36:37 INFO OWLQN: Val and Grad Norm: 0.227373 (rel: 2.77e-10) 3.18988e-06\n",
      "19/07/15 12:36:37 INFO OWLQN: Step Size: 1.000\n",
      "19/07/15 12:36:37 INFO OWLQN: Val and Grad Norm: 0.227373 (rel: 2.38e-11) 5.45392e-07\n",
      "19/07/15 12:36:37 INFO OWLQN: Step Size: 1.000\n",
      "19/07/15 12:36:37 INFO OWLQN: Val and Grad Norm: 0.227373 (rel: 6.23e-13) 1.13160e-07\n",
      "19/07/15 12:36:37 INFO OWLQN: Converged because gradient converged\n",
      "19/07/15 12:37:12 INFO OWLQN: Step Size: 0.1283\n",
      "19/07/15 12:37:12 INFO OWLQN: Val and Grad Norm: 0.422012 (rel: 0.156) 0.669641\n",
      "19/07/15 12:37:12 INFO OWLQN: Step Size: 0.5000\n",
      "19/07/15 12:37:12 INFO OWLQN: Val and Grad Norm: 0.281863 (rel: 0.332) 0.338790\n",
      "19/07/15 12:37:12 INFO OWLQN: Step Size: 0.5000\n",
      "19/07/15 12:37:12 INFO OWLQN: Val and Grad Norm: 0.241975 (rel: 0.142) 0.162307\n",
      "19/07/15 12:37:12 INFO OWLQN: Step Size: 0.5000\n",
      "19/07/15 12:37:12 INFO OWLQN: Val and Grad Norm: 0.231847 (rel: 0.0419) 0.0831259\n",
      "19/07/15 12:37:12 INFO OWLQN: Step Size: 0.5000\n",
      "19/07/15 12:37:12 INFO OWLQN: Val and Grad Norm: 0.229210 (rel: 0.0114) 0.0460910\n",
      "19/07/15 12:37:12 INFO OWLQN: Step Size: 0.5000\n",
      "19/07/15 12:37:12 INFO OWLQN: Val and Grad Norm: 0.228216 (rel: 0.00434) 0.0271273\n",
      "19/07/15 12:37:12 INFO OWLQN: Step Size: 0.5000\n",
      "19/07/15 12:37:12 INFO OWLQN: Val and Grad Norm: 0.227742 (rel: 0.00208) 0.0162337\n",
      "19/07/15 12:37:12 INFO OWLQN: Step Size: 0.5000\n",
      "19/07/15 12:37:12 INFO OWLQN: Val and Grad Norm: 0.227513 (rel: 0.00100) 0.00894981\n",
      "19/07/15 12:37:12 INFO OWLQN: Step Size: 1.000\n",
      "19/07/15 12:37:12 INFO OWLQN: Val and Grad Norm: 0.227420 (rel: 0.000410) 0.00339662\n",
      "19/07/15 12:37:12 INFO OWLQN: Step Size: 1.000\n",
      "19/07/15 12:37:12 INFO OWLQN: Val and Grad Norm: 0.227416 (rel: 1.51e-05) 0.00201225\n",
      "19/07/15 12:37:12 INFO OWLQN: Step Size: 1.000\n",
      "19/07/15 12:37:12 INFO OWLQN: Val and Grad Norm: 0.227414 (rel: 8.76e-06) 0.000220497\n",
      "19/07/15 12:37:12 INFO OWLQN: Step Size: 1.000\n",
      "19/07/15 12:37:12 INFO OWLQN: Val and Grad Norm: 0.227414 (rel: 6.51e-08) 6.39464e-05\n",
      "19/07/15 12:37:12 INFO OWLQN: Step Size: 1.000\n",
      "19/07/15 12:37:12 INFO OWLQN: Val and Grad Norm: 0.227414 (rel: 4.71e-09) 1.26687e-05\n",
      "19/07/15 12:37:12 INFO OWLQN: Step Size: 1.000\n",
      "19/07/15 12:37:12 INFO OWLQN: Val and Grad Norm: 0.227414 (rel: 3.10e-10) 4.23129e-06\n",
      "19/07/15 12:37:12 INFO OWLQN: Step Size: 1.000\n",
      "19/07/15 12:37:12 INFO OWLQN: Val and Grad Norm: 0.227414 (rel: 4.29e-11) 6.01647e-07\n",
      "19/07/15 12:37:12 INFO OWLQN: Step Size: 1.000\n",
      "19/07/15 12:37:12 INFO OWLQN: Val and Grad Norm: 0.227414 (rel: 8.62e-13) 1.58585e-07\n",
      "19/07/15 12:37:12 INFO OWLQN: Converged because gradient converged\n",
      "19/07/15 12:38:03 INFO OWLQN: Step Size: 0.1283\n",
      "19/07/15 12:38:03 INFO OWLQN: Val and Grad Norm: 0.421995 (rel: 0.156) 0.669801\n",
      "19/07/15 12:38:03 INFO OWLQN: Step Size: 0.5000\n",
      "19/07/15 12:38:03 INFO OWLQN: Val and Grad Norm: 0.281777 (rel: 0.332) 0.338873\n",
      "19/07/15 12:38:03 INFO OWLQN: Step Size: 0.5000\n",
      "19/07/15 12:38:03 INFO OWLQN: Val and Grad Norm: 0.241873 (rel: 0.142) 0.162335\n",
      "19/07/15 12:38:03 INFO OWLQN: Step Size: 0.5000\n",
      "19/07/15 12:38:03 INFO OWLQN: Val and Grad Norm: 0.231743 (rel: 0.0419) 0.0831597\n",
      "19/07/15 12:38:03 INFO OWLQN: Step Size: 0.5000\n",
      "19/07/15 12:38:03 INFO OWLQN: Val and Grad Norm: 0.229106 (rel: 0.0114) 0.0461382\n",
      "19/07/15 12:38:03 INFO OWLQN: Step Size: 0.5000\n",
      "19/07/15 12:38:03 INFO OWLQN: Val and Grad Norm: 0.228111 (rel: 0.00434) 0.0271802\n",
      "19/07/15 12:38:03 INFO OWLQN: Step Size: 0.5000\n",
      "19/07/15 12:38:03 INFO OWLQN: Val and Grad Norm: 0.227636 (rel: 0.00208) 0.0163010\n",
      "19/07/15 12:38:03 INFO OWLQN: Step Size: 0.5000\n",
      "19/07/15 12:38:03 INFO OWLQN: Val and Grad Norm: 0.227405 (rel: 0.00101) 0.00898937\n",
      "19/07/15 12:38:03 INFO OWLQN: Step Size: 1.000\n",
      "19/07/15 12:38:03 INFO OWLQN: Val and Grad Norm: 0.227311 (rel: 0.000414) 0.00335929\n",
      "19/07/15 12:38:03 INFO OWLQN: Step Size: 1.000\n",
      "19/07/15 12:38:03 INFO OWLQN: Val and Grad Norm: 0.227308 (rel: 1.49e-05) 0.00197703\n",
      "19/07/15 12:38:03 INFO OWLQN: Step Size: 1.000\n",
      "19/07/15 12:38:03 INFO OWLQN: Val and Grad Norm: 0.227306 (rel: 8.47e-06) 0.000200588\n",
      "19/07/15 12:38:03 INFO OWLQN: Step Size: 1.000\n",
      "19/07/15 12:38:03 INFO OWLQN: Val and Grad Norm: 0.227306 (rel: 5.51e-08) 5.98856e-05\n",
      "19/07/15 12:38:03 INFO OWLQN: Step Size: 1.000\n",
      "19/07/15 12:38:03 INFO OWLQN: Val and Grad Norm: 0.227306 (rel: 4.21e-09) 1.30300e-05\n",
      "19/07/15 12:38:03 INFO OWLQN: Step Size: 1.000\n",
      "19/07/15 12:38:03 INFO OWLQN: Val and Grad Norm: 0.227306 (rel: 3.36e-10) 3.66414e-06\n",
      "19/07/15 12:38:03 INFO OWLQN: Step Size: 1.000\n",
      "19/07/15 12:38:03 INFO OWLQN: Val and Grad Norm: 0.227306 (rel: 3.18e-11) 6.82775e-07\n",
      "19/07/15 12:38:03 INFO OWLQN: Step Size: 1.000\n",
      "19/07/15 12:38:03 INFO OWLQN: Val and Grad Norm: 0.227306 (rel: 9.27e-13) 1.47745e-07\n",
      "19/07/15 12:38:03 INFO OWLQN: Converged because gradient converged\n",
      "19/07/15 12:38:28 INFO OWLQN: Step Size: 0.1283\n",
      "19/07/15 12:38:28 INFO OWLQN: Val and Grad Norm: 0.422004 (rel: 0.156) 0.669721\n",
      "19/07/15 12:38:28 INFO OWLQN: Step Size: 0.5000\n",
      "19/07/15 12:38:28 INFO OWLQN: Val and Grad Norm: 0.281818 (rel: 0.332) 0.338826\n",
      "19/07/15 12:38:28 INFO OWLQN: Step Size: 0.5000\n",
      "19/07/15 12:38:28 INFO OWLQN: Val and Grad Norm: 0.241925 (rel: 0.142) 0.162320\n",
      "19/07/15 12:38:28 INFO OWLQN: Step Size: 0.5000\n",
      "19/07/15 12:38:28 INFO OWLQN: Val and Grad Norm: 0.231798 (rel: 0.0419) 0.0831417\n",
      "19/07/15 12:38:28 INFO OWLQN: Step Size: 0.5000\n",
      "19/07/15 12:38:28 INFO OWLQN: Val and Grad Norm: 0.229162 (rel: 0.0114) 0.0461076\n",
      "19/07/15 12:38:28 INFO OWLQN: Step Size: 0.5000\n",
      "19/07/15 12:38:28 INFO OWLQN: Val and Grad Norm: 0.228168 (rel: 0.00434) 0.0271481\n",
      "19/07/15 12:38:28 INFO OWLQN: Step Size: 0.5000\n",
      "19/07/15 12:38:28 INFO OWLQN: Val and Grad Norm: 0.227693 (rel: 0.00208) 0.0162628\n",
      "19/07/15 12:38:28 INFO OWLQN: Step Size: 0.5000\n",
      "19/07/15 12:38:28 INFO OWLQN: Val and Grad Norm: 0.227464 (rel: 0.00101) 0.00896852\n",
      "19/07/15 12:38:28 INFO OWLQN: Step Size: 1.000\n",
      "19/07/15 12:38:28 INFO OWLQN: Val and Grad Norm: 0.227370 (rel: 0.000412) 0.00337597\n",
      "19/07/15 12:38:28 INFO OWLQN: Step Size: 1.000\n",
      "19/07/15 12:38:28 INFO OWLQN: Val and Grad Norm: 0.227367 (rel: 1.49e-05) 0.00199518\n",
      "19/07/15 12:38:28 INFO OWLQN: Step Size: 1.000\n",
      "19/07/15 12:38:28 INFO OWLQN: Val and Grad Norm: 0.227365 (rel: 8.62e-06) 0.000208933\n",
      "19/07/15 12:38:28 INFO OWLQN: Step Size: 1.000\n",
      "19/07/15 12:38:28 INFO OWLQN: Val and Grad Norm: 0.227365 (rel: 5.91e-08) 6.13845e-05\n",
      "19/07/15 12:38:28 INFO OWLQN: Step Size: 1.000\n",
      "19/07/15 12:38:28 INFO OWLQN: Val and Grad Norm: 0.227365 (rel: 4.38e-09) 1.28312e-05\n",
      "19/07/15 12:38:28 INFO OWLQN: Step Size: 1.000\n",
      "19/07/15 12:38:28 INFO OWLQN: Val and Grad Norm: 0.227365 (rel: 3.22e-10) 3.94182e-06\n",
      "19/07/15 12:38:28 INFO OWLQN: Step Size: 1.000\n",
      "19/07/15 12:38:28 INFO OWLQN: Val and Grad Norm: 0.227365 (rel: 3.70e-11) 6.40492e-07\n",
      "19/07/15 12:38:28 INFO OWLQN: Step Size: 1.000\n",
      "19/07/15 12:38:28 INFO OWLQN: Val and Grad Norm: 0.227365 (rel: 8.82e-13) 1.52755e-07\n",
      "19/07/15 12:38:28 INFO OWLQN: Converged because gradient converged\n"
     ]
    },
    {
     "data": {
      "text/plain": [
       "\u001b[36mcvModel\u001b[39m: \u001b[32morg\u001b[39m.\u001b[32mapache\u001b[39m.\u001b[32mspark\u001b[39m.\u001b[32mml\u001b[39m.\u001b[32mtuning\u001b[39m.\u001b[32mCrossValidatorModel\u001b[39m = cv_46d0fe37d68e"
      ]
     },
     "execution_count": 169,
     "metadata": {},
     "output_type": "execute_result"
    }
   ],
   "source": [
    "val cvModel = cv.fit(convertBeforePipeline( trainingData))"
   ]
  },
  {
   "cell_type": "code",
   "execution_count": 170,
   "metadata": {},
   "outputs": [
    {
     "name": "stdout",
     "output_type": "stream",
     "text": [
      "Evaluating model on train and validation set and calculating RMSE\n",
      "Convert DataFrame by 3 defined processes.\n"
     ]
    },
    {
     "data": {
      "text/plain": [
       "\u001b[32mimport \u001b[39m\u001b[36morg.apache.spark.sql.Row\n",
       "\u001b[39m\n",
       "\u001b[36mtrainPredictionsAndLabels\u001b[39m: \u001b[32morg\u001b[39m.\u001b[32mapache\u001b[39m.\u001b[32mspark\u001b[39m.\u001b[32mrdd\u001b[39m.\u001b[32mRDD\u001b[39m[(\u001b[32mDouble\u001b[39m, \u001b[32mDouble\u001b[39m)] = MapPartitionsRDD[1121] at rdd at cmd169.sc:5"
      ]
     },
     "execution_count": 170,
     "metadata": {},
     "output_type": "execute_result"
    }
   ],
   "source": [
    "import org.apache.spark.sql.Row\n",
    "println(\"Evaluating model on train and validation set and calculating RMSE\")\n",
    "val trainPredictionsAndLabels = cvModel.\n",
    "    transform(convertBeforePipeline(trainingData)).\n",
    "    select(\"label\", \"prediction\").\n",
    "    map { case Row(label: Double, prediction: Double) => (label, prediction) }.rdd"
   ]
  },
  {
   "cell_type": "code",
   "execution_count": 172,
   "metadata": {},
   "outputs": [
    {
     "name": "stdout",
     "output_type": "stream",
     "text": [
      "Convert DataFrame by 3 defined processes.\n"
     ]
    },
    {
     "data": {
      "text/plain": [
       "\u001b[36mvalidPredictionsAndLabels\u001b[39m: \u001b[32morg\u001b[39m.\u001b[32mapache\u001b[39m.\u001b[32mspark\u001b[39m.\u001b[32mrdd\u001b[39m.\u001b[32mRDD\u001b[39m[(\u001b[32mDouble\u001b[39m, \u001b[32mDouble\u001b[39m)] = MapPartitionsRDD[1131] at rdd at cmd171.sc:3\n",
       "\u001b[36mtrainRegressionMetrics\u001b[39m: \u001b[32mRegressionMetrics\u001b[39m = org.apache.spark.mllib.evaluation.RegressionMetrics@16fc79b1\n",
       "\u001b[36mvalidRegressionMetrics\u001b[39m: \u001b[32mRegressionMetrics\u001b[39m = org.apache.spark.mllib.evaluation.RegressionMetrics@7c6c0001\n",
       "\u001b[36mbestModel\u001b[39m: \u001b[32mPipelineModel\u001b[39m = pipeline_2bd720c74de0"
      ]
     },
     "execution_count": 172,
     "metadata": {},
     "output_type": "execute_result"
    }
   ],
   "source": [
    "val validPredictionsAndLabels = cvModel.transform(convertBeforePipeline(validationData)).\n",
    "    select(\"label\", \"prediction\").\n",
    "    map { case Row(label: Double, prediction:Double) => (label, prediction) }.rdd\n",
    "\n",
    "val trainRegressionMetrics = new RegressionMetrics(trainPredictionsAndLabels) \n",
    "val validRegressionMetrics = new RegressionMetrics(validPredictionsAndLabels)\n",
    "\n",
    "val bestModel = cvModel.bestModel.asInstanceOf[PipelineModel]"
   ]
  },
  {
   "cell_type": "code",
   "execution_count": 209,
   "metadata": {},
   "outputs": [
    {
     "data": {
      "text/plain": [
       "\u001b[36mresults\u001b[39m: \u001b[32mString\u001b[39m = \u001b[32m\"\"\"\n",
       "=====================================================================\n",
       "Param trainSample: 1.0\n",
       "Param testSample: 1.0\n",
       "TrainingData count: 3493957\n",
       "ValidationData count: 1164190\n",
       "TestData count: 2505542\n",
       "=====================================================================\n",
       "Param maxIter = 1000\n",
       "Param numFolds = 10\n",
       "=====================================================================\n",
       "Training data MSE = 555.4301030466736\n",
       "Training data RMSE = 23.567564639705\n",
       "Training data R-squared = 0.16605207268456756\n",
       "Training data MAE = 19.301909893814088\n",
       "Training data Explained variance = 1221.491284635936\n",
       "=====================================================================\n",
       "Validation data MSE = 555.4205561990009\n",
       "Validation data RMSE = 23.567362096743047\n",
       "Validation data R-squared = 0.1654010432442642\n",
       "Validation data MAE = 19.293976088991744\n",
       "Validation data Explained variance = 1219.290368650057\n",
       "=====================================================================\n",
       "CV params explained: estimator: estimator for selection (current: pipeline_2bd720c74de0)\n",
       "estimatorParamMaps: param maps for the estimator (current: [Lorg.apache.spark.ml.param.ParamMap;@ec5938a)\n",
       "evaluator: evaluator used to select hyper-parameters that maximize the validated metric (current: regEval_41907347560c)\n",
       "numFolds: number of folds for cross validation (>= 2) (default: 3, current: 10)\n",
       "seed: random seed (default: -1191137437)\n",
       "LR params explained: aggregationDepth: suggested depth for treeAggregate (>= 2) (default: 2)\n",
       "elasticNetParam: the ElasticNet mixing parameter, in range [0, 1]. For alpha = 0, the penalty is an L2 penalty. For alpha = 1, it is an L1 penalty (default: 0.0, current: 0.001)\n",
       "epsilon: The shape parameter to control the amount of robustness. Must be > 1.0. (default: 1.35)\n",
       "featuresCol: features column name (default: features, current: features)\n",
       "\u001b[39m..."
      ]
     },
     "execution_count": 209,
     "metadata": {},
     "output_type": "execute_result"
    }
   ],
   "source": [
    "val results = \"\\n=====================================================================\\n\" + \n",
    "    s\"Param trainSample: ${trainSample}\\n\" +\n",
    "    s\"Param testSample: ${testSample}\\n\" +\n",
    "    s\"TrainingData count: ${trainingData.count}\\n\" +\n",
    "    s\"ValidationData count: ${validationData.count}\\n\" +\n",
    "    s\"TestData count: ${testData.count}\\n\" +\n",
    "    \"=====================================================================\\n\" +\n",
    "    s\"Param maxIter = ${MaxIter.mkString(\",\")}\\n\" +\n",
    "    s\"Param numFolds = ${numFolds}\\n\" +\n",
    "    \"=====================================================================\\n\" +\n",
    "    s\"Training data MSE = ${trainRegressionMetrics.meanSquaredError}\\n\" +\n",
    "    s\"Training data RMSE = ${trainRegressionMetrics.rootMeanSquaredError}\\n\" +\n",
    "    s\"Training data R-squared = ${trainRegressionMetrics.r2}\\n\" +\n",
    "    s\"Training data MAE = ${trainRegressionMetrics.meanAbsoluteError}\\n\" +\n",
    "    s\"Training data Explained variance = ${trainRegressionMetrics.explainedVariance}\\n\" +\n",
    "    \"=====================================================================\\n\" +\n",
    "    s\"Validation data MSE = ${validRegressionMetrics.meanSquaredError}\\n\" +\n",
    "    s\"Validation data RMSE = ${validRegressionMetrics.rootMeanSquaredError}\\n\" +\n",
    "    s\"Validation data R-squared = ${validRegressionMetrics.r2}\\n\" +\n",
    "    s\"Validation data MAE = ${validRegressionMetrics.meanAbsoluteError}\\n\" +\n",
    "    s\"Validation data Explained variance = ${validRegressionMetrics.explainedVariance}\\n\" +\n",
    "    \"=====================================================================\\n\" +\n",
    "    s\"CV params explained: ${cvModel.explainParams}\\n\" +\n",
    "    s\"LR params explained: ${bestModel.stages.last.asInstanceOf[LinearRegressionModel].explainParams}\\n\"+ \n",
    "    \"=====================================================================\\n\""
   ]
  },
  {
   "cell_type": "code",
   "execution_count": 210,
   "metadata": {},
   "outputs": [
    {
     "name": "stdout",
     "output_type": "stream",
     "text": [
      "\n",
      "=====================================================================\n",
      "Param trainSample: 1.0\n",
      "Param testSample: 1.0\n",
      "TrainingData count: 3493957\n",
      "ValidationData count: 1164190\n",
      "TestData count: 2505542\n",
      "=====================================================================\n",
      "Param maxIter = 1000\n",
      "Param numFolds = 10\n",
      "=====================================================================\n",
      "Training data MSE = 555.4301030466736\n",
      "Training data RMSE = 23.567564639705\n",
      "Training data R-squared = 0.16605207268456756\n",
      "Training data MAE = 19.301909893814088\n",
      "Training data Explained variance = 1221.491284635936\n",
      "=====================================================================\n",
      "Validation data MSE = 555.4205561990009\n",
      "Validation data RMSE = 23.567362096743047\n",
      "Validation data R-squared = 0.1654010432442642\n",
      "Validation data MAE = 19.293976088991744\n",
      "Validation data Explained variance = 1219.290368650057\n",
      "=====================================================================\n",
      "CV params explained: estimator: estimator for selection (current: pipeline_2bd720c74de0)\n",
      "estimatorParamMaps: param maps for the estimator (current: [Lorg.apache.spark.ml.param.ParamMap;@ec5938a)\n",
      "evaluator: evaluator used to select hyper-parameters that maximize the validated metric (current: regEval_41907347560c)\n",
      "numFolds: number of folds for cross validation (>= 2) (default: 3, current: 10)\n",
      "seed: random seed (default: -1191137437)\n",
      "LR params explained: aggregationDepth: suggested depth for treeAggregate (>= 2) (default: 2)\n",
      "elasticNetParam: the ElasticNet mixing parameter, in range [0, 1]. For alpha = 0, the penalty is an L2 penalty. For alpha = 1, it is an L1 penalty (default: 0.0, current: 0.001)\n",
      "epsilon: The shape parameter to control the amount of robustness. Must be > 1.0. (default: 1.35)\n",
      "featuresCol: features column name (default: features, current: features)\n",
      "fitIntercept: whether to fit an intercept term (default: true)\n",
      "labelCol: label column name (default: label, current: label)\n",
      "loss: The loss function to be optimized. Supported options: squaredError, huber. (Default squaredError) (default: squaredError)\n",
      "maxIter: maximum number of iterations (>= 0) (default: 100, current: 1000)\n",
      "predictionCol: prediction column name (default: prediction)\n",
      "regParam: regularization parameter (>= 0) (default: 0.0, current: 0.001)\n",
      "solver: The solver algorithm for optimization. Supported options: auto, normal, l-bfgs. (Default auto) (default: auto)\n",
      "standardization: whether to standardize the training features before fitting the model (default: true)\n",
      "tol: the convergence tolerance for iterative algorithms (>= 0) (default: 1.0E-6, current: 1.0E-6)\n",
      "weightCol: weight column name. If this is not set or empty, we treat all instance weights as 1.0 (undefined)\n",
      "=====================================================================\n",
      "\n"
     ]
    }
   ],
   "source": [
    "println(results)"
   ]
  },
  {
   "cell_type": "code",
   "execution_count": 186,
   "metadata": {},
   "outputs": [
    {
     "name": "stdout",
     "output_type": "stream",
     "text": [
      "Run prediction on the test set\n",
      "Convert DataFrame by 3 defined processes.\n"
     ]
    },
    {
     "data": {
      "text/plain": [
       "\u001b[32mimport \u001b[39m\u001b[36morg.apache.spark.sql.SaveMode\n",
       "\u001b[39m"
      ]
     },
     "execution_count": 186,
     "metadata": {},
     "output_type": "execute_result"
    }
   ],
   "source": [
    "import org.apache.spark.sql.SaveMode\n",
    "println(\"Run prediction on the test set\")\n",
    "   cvModel.transform(convertBeforePipeline(testData)).\n",
    "    select(\"id\", \"prediction\").\n",
    "    coalesce(1). // to get all the predictions in a single csv file\n",
    "    write.format(\"com.databricks.spark.csv\").\n",
    "    mode(SaveMode.Overwrite).\n",
    "    option(\"header\", \"true\").\n",
    "    save(\"output/result_LR.csv\")"
   ]
  },
  {
   "cell_type": "markdown",
   "metadata": {},
   "source": [
    "### Generalized Linear Regression Model (searching difference from normal linear regression model)"
   ]
  },
  {
   "cell_type": "code",
   "execution_count": 178,
   "metadata": {},
   "outputs": [
    {
     "data": {
      "text/plain": [
       "\u001b[36mglr\u001b[39m: \u001b[32mGeneralizedLinearRegression\u001b[39m = glm_aecc8a24d88e"
      ]
     },
     "execution_count": 178,
     "metadata": {},
     "output_type": "execute_result"
    }
   ],
   "source": [
    "val glr = new GeneralizedLinearRegression().\n",
    "    setMaxIter(1000).\n",
    "    setRegParam(0.03).\n",
    "    setFamily(\"gaussian\").\n",
    "    setLink( \"identity\" )"
   ]
  },
  {
   "cell_type": "code",
   "execution_count": 197,
   "metadata": {},
   "outputs": [
    {
     "data": {
      "text/plain": [
       "defined \u001b[32mfunction\u001b[39m \u001b[36mconvertBeforeTrain\u001b[39m"
      ]
     },
     "execution_count": 197,
     "metadata": {},
     "output_type": "execute_result"
    }
   ],
   "source": [
    "def convertBeforeTrain(df:DataFrame):DataFrame = assembler.\n",
    "    transform(stringIndexerStages.foldLeft(convertBeforePipeline(df))((d,x) => x.transform(d)))"
   ]
  },
  {
   "cell_type": "code",
   "execution_count": 198,
   "metadata": {},
   "outputs": [
    {
     "name": "stdout",
     "output_type": "stream",
     "text": [
      "Convert DataFrame by 3 defined processes.\n",
      "+-------------------+\n",
      "|  devianceResiduals|\n",
      "+-------------------+\n",
      "|  9.345650233334794|\n",
      "| -42.05522644072287|\n",
      "|-35.361314230002655|\n",
      "| 10.963056449405503|\n",
      "|  23.85009006556787|\n",
      "| -48.24439513544954|\n",
      "|-30.864126156693484|\n",
      "| -33.82965947908982|\n",
      "|  38.41067614853617|\n",
      "| 1.0312919260951765|\n",
      "|  9.696996830136634|\n",
      "|-24.017794542237382|\n",
      "|-29.564083509426396|\n",
      "| 2.6245102181549416|\n",
      "| -0.902676104241397|\n",
      "|  52.86445147340693|\n",
      "|  5.236089300434028|\n",
      "| -28.19591067021676|\n",
      "| 46.980834957409215|\n",
      "|-25.185069315009436|\n",
      "+-------------------+\n",
      "only showing top 20 rows\n",
      "\n",
      "Residual Degree Of Freedom: 3493951\n",
      "Residual Degree Of Freedom Null: 3493956\n",
      "AIC: 3.199634717404442E7\n",
      "Dispersion: 555.4315701856093\n",
      "Null Deviance: 4.2678380243927197E9\n",
      "Deviance: 1.9406506900815797E9\n",
      "p-values: 0.0,0.0,0.0,0.0,0.0,0.0\n",
      "t-values: 41.930249966357415,1859.9318584257787,-152.71024611374742,-134.5251766591051,-465.021053132432,159.42057251993248\n",
      "Coefficient Standard Error: 0.0038359527997592134,0.017413100325831155,0.02426731579995578,0.0037994531560092653,0.002632960824308118,0.045023362834845336\n"
     ]
    },
    {
     "data": {
      "text/plain": [
       "\u001b[36mglrModel\u001b[39m: \u001b[32morg\u001b[39m.\u001b[32mapache\u001b[39m.\u001b[32mspark\u001b[39m.\u001b[32mml\u001b[39m.\u001b[32mregression\u001b[39m.\u001b[32mGeneralizedLinearRegressionModel\u001b[39m = glm_aecc8a24d88e\n",
       "\u001b[36msummary\u001b[39m: \u001b[32morg\u001b[39m.\u001b[32mapache\u001b[39m.\u001b[32mspark\u001b[39m.\u001b[32mml\u001b[39m.\u001b[32mregression\u001b[39m.\u001b[32mGeneralizedLinearRegressionTrainingSummary\u001b[39m = Coefficients:\n",
       "        Feature Estimate Std Error   T Value P Value\n",
       "    (Intercept)   7.1777    0.0450  159.4206  0.0000\n",
       " atom_index_0_c   0.1608    0.0038   41.9302  0.0000\n",
       "           t1_c  32.3872    0.0174 1859.9319  0.0000\n",
       "           t4_c  -3.7059    0.0243 -152.7102  0.0000\n",
       "atom_index_diff  -0.5111    0.0038 -134.5252  0.0000\n",
       " atom_index_1_i  -1.2244    0.0026 -465.0211  0.0000\n",
       "\n",
       "(Dispersion parameter for gaussian family taken to be 555.4316)\n",
       "    Null deviance: 4267838024.3927 on 3493951 degrees of freedom\n",
       "Residual deviance: 1940650690.0816 on 3493951 degrees of freedom\n",
       "AIC: 31996347.1740"
      ]
     },
     "execution_count": 198,
     "metadata": {},
     "output_type": "execute_result"
    }
   ],
   "source": [
    "val glrModel = glr.fit(convertBeforeTrain(trainingData))\n",
    "\n",
    "val summary = glrModel.summary\n",
    "summary.residuals().show()\n",
    "\n",
    "println(\"Residual Degree Of Freedom: \" + summary.residualDegreeOfFreedom)\n",
    "println(\"Residual Degree Of Freedom Null: \" + summary.residualDegreeOfFreedomNull)\n",
    "println(\"AIC: \" + summary.aic)\n",
    "println(\"Dispersion: \" + summary.dispersion)\n",
    "println(\"Null Deviance: \" + summary.nullDeviance)\n",
    "println(\"Deviance: \" +summary.deviance)\n",
    "println(\"p-values: \" + summary.pValues.mkString(\",\"))\n",
    "println(\"t-values: \" + summary.tValues.mkString(\",\"))\n",
    "println(\"Coefficient Standard Error: \" + summary.coefficientStandardErrors.mkString(\",\"))"
   ]
  },
  {
   "cell_type": "code",
   "execution_count": 200,
   "metadata": {},
   "outputs": [
    {
     "name": "stdout",
     "output_type": "stream",
     "text": [
      "Convert DataFrame by 3 defined processes.\n",
      "Convert DataFrame by 3 defined processes.\n"
     ]
    },
    {
     "data": {
      "text/plain": [
       "\u001b[36mtrainPredictionsAndLabels2\u001b[39m: \u001b[32morg\u001b[39m.\u001b[32mapache\u001b[39m.\u001b[32mspark\u001b[39m.\u001b[32mrdd\u001b[39m.\u001b[32mRDD\u001b[39m[(\u001b[32mDouble\u001b[39m, \u001b[32mDouble\u001b[39m)] = MapPartitionsRDD[1364] at rdd at cmd199.sc:4\n",
       "\u001b[36mvalidPredictionsAndLabels2\u001b[39m: \u001b[32morg\u001b[39m.\u001b[32mapache\u001b[39m.\u001b[32mspark\u001b[39m.\u001b[32mrdd\u001b[39m.\u001b[32mRDD\u001b[39m[(\u001b[32mDouble\u001b[39m, \u001b[32mDouble\u001b[39m)] = MapPartitionsRDD[1371] at rdd at cmd199.sc:9"
      ]
     },
     "execution_count": 200,
     "metadata": {},
     "output_type": "execute_result"
    }
   ],
   "source": [
    "val trainPredictionsAndLabels2 = glrModel.\n",
    "    transform(convertBeforeTrain(trainingData)).\n",
    "    select(\"label\", \"prediction\").\n",
    "    map { case Row(label: Double, prediction: Double) => (label, prediction) }.rdd\n",
    "\n",
    "val validPredictionsAndLabels2 = glrModel.\n",
    "    transform(convertBeforeTrain(validationData)).\n",
    "    select(\"label\", \"prediction\").\n",
    "    map { case Row(label: Double, prediction: Double) => (label, prediction) }.rdd"
   ]
  },
  {
   "cell_type": "code",
   "execution_count": 201,
   "metadata": {},
   "outputs": [
    {
     "data": {
      "text/plain": [
       "\u001b[36mtrainRegressionMetrics2\u001b[39m: \u001b[32mRegressionMetrics\u001b[39m = org.apache.spark.mllib.evaluation.RegressionMetrics@694425dc\n",
       "\u001b[36mvalidRegressionMetrics2\u001b[39m: \u001b[32mRegressionMetrics\u001b[39m = org.apache.spark.mllib.evaluation.RegressionMetrics@5ab0d137"
      ]
     },
     "execution_count": 201,
     "metadata": {},
     "output_type": "execute_result"
    }
   ],
   "source": [
    "val trainRegressionMetrics2 = new RegressionMetrics(trainPredictionsAndLabels2) \n",
    "val validRegressionMetrics2 = new RegressionMetrics(validPredictionsAndLabels2)"
   ]
  },
  {
   "cell_type": "code",
   "execution_count": 211,
   "metadata": {},
   "outputs": [
    {
     "data": {
      "text/plain": [
       "\u001b[36mresults2\u001b[39m: \u001b[32mString\u001b[39m = \u001b[32m\"\"\"n=====================================================================\n",
       "Param trainSample: 1.0\n",
       "Param testSample: 1.0\n",
       "TrainingData count: 3493957\n",
       "ValidationData count: 1164190\n",
       "TestData count: 2505542\n",
       "=====================================================================\n",
       "Param maxIter = 1000\n",
       "Param numFolds = 10\n",
       "=====================================================================\n",
       "Training data MSE = 555.4306163703732\n",
       "Training data RMSE = 23.567575530172235\n",
       "Training data R-squared = 0.164737141178654\n",
       "Training data MAE = 19.29673553687925\n",
       "Training data Explained variance = 1221.4912846359355\n",
       "=====================================================================\n",
       "Validation data MSE = 555.4192844466049\n",
       "Validation data RMSE = 23.567335115506907\n",
       "Validation data R-squared = 0.16408689057651227\n",
       "Validation data MAE = 19.288746094347957\n",
       "Validation data Explained variance = 1219.290367837875\n",
       "CV params explained: estimator: estimator for selection (current: pipeline_2bd720c74de0)\n",
       "estimatorParamMaps: param maps for the estimator (current: [Lorg.apache.spark.ml.param.ParamMap;@ec5938a)\n",
       "evaluator: evaluator used to select hyper-parameters that maximize the validated metric (current: regEval_41907347560c)\n",
       "numFolds: number of folds for cross validation (>= 2) (default: 3, current: 10)\n",
       "seed: random seed (default: -1191137437)\n",
       "LR params explained: aggregationDepth: suggested depth for treeAggregate (>= 2) (default: 2)\n",
       "elasticNetParam: the ElasticNet mixing parameter, in range [0, 1]. For alpha = 0, the penalty is an L2 penalty. For alpha = 1, it is an L1 penalty (default: 0.0, current: 0.001)\n",
       "epsilon: The shape parameter to control the amount of robustness. Must be > 1.0. (default: 1.35)\n",
       "featuresCol: features column name (default: features, current: features)\n",
       "fitIntercept: whether to fit an intercept term (default: true)\n",
       "labelCol: label column name (default: label, current: label)\n",
       "\u001b[39m..."
      ]
     },
     "execution_count": 211,
     "metadata": {},
     "output_type": "execute_result"
    }
   ],
   "source": [
    "val results2 = \"n=====================================================================\\n\" + \n",
    "    s\"Param trainSample: ${trainSample}\\n\" +\n",
    "    s\"Param testSample: ${testSample}\\n\" +\n",
    "    s\"TrainingData count: ${trainingData.count}\\n\" +\n",
    "    s\"ValidationData count: ${validationData.count}\\n\" +\n",
    "    s\"TestData count: ${testData.count}\\n\" +\n",
    "    \"=====================================================================\\n\" +\n",
    "    s\"Param maxIter = ${MaxIter.mkString(\",\")}\\n\" +\n",
    "    s\"Param numFolds = ${numFolds}\\n\" +\n",
    "    \"=====================================================================\\n\" +\n",
    "    s\"Training data MSE = ${trainRegressionMetrics2.meanSquaredError}\\n\" +\n",
    "    s\"Training data RMSE = ${trainRegressionMetrics2.rootMeanSquaredError}\\n\" +\n",
    "    s\"Training data R-squared = ${trainRegressionMetrics2.r2}\\n\" +\n",
    "    s\"Training data MAE = ${trainRegressionMetrics2.meanAbsoluteError}\\n\" +\n",
    "    s\"Training data Explained variance = ${trainRegressionMetrics2.explainedVariance}\\n\" +\n",
    "    \"=====================================================================\\n\" +\n",
    "    s\"Validation data MSE = ${validRegressionMetrics2.meanSquaredError}\\n\" +\n",
    "    s\"Validation data RMSE = ${validRegressionMetrics2.rootMeanSquaredError}\\n\" +\n",
    "    s\"Validation data R-squared = ${validRegressionMetrics2.r2}\\n\" +\n",
    "    s\"Validation data MAE = ${validRegressionMetrics2.meanAbsoluteError}\\n\"+\n",
    "    s\"Validation data Explained variance = ${validRegressionMetrics2.explainedVariance}\\n\" +\n",
    "    s\"CV params explained: ${cvModel.explainParams}\\n\" +\n",
    "    s\"LR params explained: ${bestModel.stages.last.asInstanceOf[LinearRegressionModel].explainParams}\\n\"+ \n",
    "    \"=====================================================================\\n\""
   ]
  },
  {
   "cell_type": "code",
   "execution_count": 212,
   "metadata": {},
   "outputs": [
    {
     "name": "stdout",
     "output_type": "stream",
     "text": [
      "n=====================================================================\n",
      "Param trainSample: 1.0\n",
      "Param testSample: 1.0\n",
      "TrainingData count: 3493957\n",
      "ValidationData count: 1164190\n",
      "TestData count: 2505542\n",
      "=====================================================================\n",
      "Param maxIter = 1000\n",
      "Param numFolds = 10\n",
      "=====================================================================\n",
      "Training data MSE = 555.4306163703732\n",
      "Training data RMSE = 23.567575530172235\n",
      "Training data R-squared = 0.164737141178654\n",
      "Training data MAE = 19.29673553687925\n",
      "Training data Explained variance = 1221.4912846359355\n",
      "=====================================================================\n",
      "Validation data MSE = 555.4192844466049\n",
      "Validation data RMSE = 23.567335115506907\n",
      "Validation data R-squared = 0.16408689057651227\n",
      "Validation data MAE = 19.288746094347957\n",
      "Validation data Explained variance = 1219.290367837875\n",
      "CV params explained: estimator: estimator for selection (current: pipeline_2bd720c74de0)\n",
      "estimatorParamMaps: param maps for the estimator (current: [Lorg.apache.spark.ml.param.ParamMap;@ec5938a)\n",
      "evaluator: evaluator used to select hyper-parameters that maximize the validated metric (current: regEval_41907347560c)\n",
      "numFolds: number of folds for cross validation (>= 2) (default: 3, current: 10)\n",
      "seed: random seed (default: -1191137437)\n",
      "LR params explained: aggregationDepth: suggested depth for treeAggregate (>= 2) (default: 2)\n",
      "elasticNetParam: the ElasticNet mixing parameter, in range [0, 1]. For alpha = 0, the penalty is an L2 penalty. For alpha = 1, it is an L1 penalty (default: 0.0, current: 0.001)\n",
      "epsilon: The shape parameter to control the amount of robustness. Must be > 1.0. (default: 1.35)\n",
      "featuresCol: features column name (default: features, current: features)\n",
      "fitIntercept: whether to fit an intercept term (default: true)\n",
      "labelCol: label column name (default: label, current: label)\n",
      "loss: The loss function to be optimized. Supported options: squaredError, huber. (Default squaredError) (default: squaredError)\n",
      "maxIter: maximum number of iterations (>= 0) (default: 100, current: 1000)\n",
      "predictionCol: prediction column name (default: prediction)\n",
      "regParam: regularization parameter (>= 0) (default: 0.0, current: 0.001)\n",
      "solver: The solver algorithm for optimization. Supported options: auto, normal, l-bfgs. (Default auto) (default: auto)\n",
      "standardization: whether to standardize the training features before fitting the model (default: true)\n",
      "tol: the convergence tolerance for iterative algorithms (>= 0) (default: 1.0E-6, current: 1.0E-6)\n",
      "weightCol: weight column name. If this is not set or empty, we treat all instance weights as 1.0 (undefined)\n",
      "=====================================================================\n",
      "\n"
     ]
    }
   ],
   "source": [
    "println(results2)"
   ]
  },
  {
   "cell_type": "code",
   "execution_count": null,
   "metadata": {},
   "outputs": [],
   "source": []
  }
 ],
 "metadata": {
  "kernelspec": {
   "display_name": "Scala",
   "language": "scala",
   "name": "scala"
  },
  "language_info": {
   "codemirror_mode": "text/x-scala",
   "file_extension": ".scala",
   "mimetype": "text/x-scala",
   "name": "scala",
   "nbconvert_exporter": "script",
   "version": "2.11.12"
  }
 },
 "nbformat": 4,
 "nbformat_minor": 2
}
