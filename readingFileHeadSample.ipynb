{
 "cells": [
  {
   "cell_type": "markdown",
   "metadata": {},
   "source": [
    "### import libraries"
   ]
  },
  {
   "cell_type": "markdown",
   "metadata": {},
   "source": [
    "#### import via ivy"
   ]
  },
  {
   "cell_type": "code",
   "execution_count": 1,
   "metadata": {},
   "outputs": [],
   "source": [
    "import $ivy.`org.scalanlp:breeze_2.12:0.13.2`\n",
    "import $ivy.`org.jfree:jfreechart:1.5.0`\n",
    "import $ivy.`org.apache.spark:spark-core_2.11:2.4.3`\n",
    "import $ivy.`org.apache.spark:spark-sql_2.11:2.4.3`\n",
    "import $ivy.`org.apache.spark:spark-mllib_2.11:2.4.3`\n",
    "import $ivy.`org.apache.spark:spark-graphx_2.11:2.4.3`\n",
    "import $ivy.`org.apache.spark:spark-streaming_2.11:2.4.3`\n",
    "import $ivy.`sh.almond::ammonite-spark:0.3.0`"
   ]
  },
  {
   "cell_type": "markdown",
   "metadata": {},
   "source": [
    "#### Scala Library for Matrix Calculation"
   ]
  },
  {
   "cell_type": "code",
   "execution_count": 1,
   "metadata": {},
   "outputs": [],
   "source": [
    "import breeze.linalg.csvread\n",
    "import breeze.linalg.{DenseMatrix => DM}\n",
    "import breeze.linalg.{DenseVector => DV}\n",
    "import breeze.linalg"
   ]
  },
  {
   "cell_type": "markdown",
   "metadata": {},
   "source": [
    "#### File IO"
   ]
  },
  {
   "cell_type": "code",
   "execution_count": 58,
   "metadata": {},
   "outputs": [
    {
     "data": {
      "text/plain": [
       "\u001b[32mimport \u001b[39m\u001b[36mjava.io.File\n",
       "\u001b[39m\n",
       "\u001b[32mimport \u001b[39m\u001b[36mscala.io.Source\n",
       "\u001b[39m\n",
       "\u001b[32mimport \u001b[39m\u001b[36mjava.io.{BufferedReader, InputStreamReader, FileInputStream}\u001b[39m"
      ]
     },
     "execution_count": 58,
     "metadata": {},
     "output_type": "execute_result"
    }
   ],
   "source": [
    "import java.io.File\n",
    "import scala.io.Source\n",
    "import java.io.{BufferedReader, InputStreamReader, FileInputStream}"
   ]
  },
  {
   "cell_type": "markdown",
   "metadata": {},
   "source": [
    "#### Spark Libraries"
   ]
  },
  {
   "cell_type": "code",
   "execution_count": 118,
   "metadata": {},
   "outputs": [
    {
     "data": {
      "text/plain": [
       "\u001b[32mimport \u001b[39m\u001b[36morg.apache.spark.sql.DataFrame\n",
       "\u001b[39m\n",
       "\u001b[32mimport \u001b[39m\u001b[36morg.apache.spark.sql.SparkSession\n",
       "\u001b[39m\n",
       "\u001b[32mimport \u001b[39m\u001b[36morg.apache.spark.SparkConf\n",
       "\u001b[39m\n",
       "\u001b[32mimport \u001b[39m\u001b[36morg.apache.spark.sql.functions._\n",
       "\u001b[39m\n",
       "\u001b[32mimport \u001b[39m\u001b[36morg.apache.spark.sql.Column\n",
       "\u001b[39m\n",
       "\u001b[32mimport \u001b[39m\u001b[36morg.apache.spark.sql.catalyst.plans.{Inner, LeftOuter, Cross}\u001b[39m"
      ]
     },
     "execution_count": 118,
     "metadata": {},
     "output_type": "execute_result"
    }
   ],
   "source": [
    "import org.apache.spark.sql.DataFrame\n",
    "import org.apache.spark.sql.SparkSession\n",
    "import org.apache.spark.SparkConf\n",
    "import org.apache.spark.sql.functions._\n",
    "import org.apache.spark.sql.Column\n",
    "import org.apache.spark.sql.catalyst.plans.{Inner, LeftOuter, Cross}"
   ]
  },
  {
   "cell_type": "markdown",
   "metadata": {},
   "source": [
    "#### Set level or warning statemens"
   ]
  },
  {
   "cell_type": "code",
   "execution_count": 28,
   "metadata": {},
   "outputs": [
    {
     "data": {
      "text/plain": [
       "\u001b[32mimport \u001b[39m\u001b[36morg.apache.spark.sql.functions._\n",
       "\u001b[39m\n",
       "\u001b[32mimport \u001b[39m\u001b[36morg.apache.spark.sql.catalyst.plans.{Inner, LeftOuter, Cross}\u001b[39m"
      ]
     },
     "execution_count": 28,
     "metadata": {},
     "output_type": "execute_result"
    }
   ],
   "source": [
    "import org.apache.log4j.Logger\n",
    "import org.apache.log4j.Level\n",
    "Logger.getLogger(\"org\").setLevel(Level.ERROR)"
   ]
  },
  {
   "cell_type": "markdown",
   "metadata": {},
   "source": [
    "#### Specify folder & file paths "
   ]
  },
  {
   "cell_type": "code",
   "execution_count": 2,
   "metadata": {},
   "outputs": [
    {
     "data": {
      "text/plain": [
       "\u001b[36mfolder\u001b[39m: \u001b[32mFile\u001b[39m = /Users/tomoya/Documents/dataset/champs-scalar-coupling\n",
       "\u001b[36mfiles\u001b[39m: \u001b[32mArray\u001b[39m[\u001b[32mFile\u001b[39m] = \u001b[33mArray\u001b[39m(\n",
       "  /Users/tomoya/Documents/dataset/champs-scalar-coupling/.DS_Store,\n",
       "  /Users/tomoya/Documents/dataset/champs-scalar-coupling/dipole_moments.csv,\n",
       "  /Users/tomoya/Documents/dataset/champs-scalar-coupling/magnetic_shielding_tensors.csv,\n",
       "  /Users/tomoya/Documents/dataset/champs-scalar-coupling/mulliken_charges.csv,\n",
       "  /Users/tomoya/Documents/dataset/champs-scalar-coupling/potential_energy.csv,\n",
       "  /Users/tomoya/Documents/dataset/champs-scalar-coupling/sample_submission.csv,\n",
       "  /Users/tomoya/Documents/dataset/champs-scalar-coupling/scalar_coupling_contributions.csv,\n",
       "  /Users/tomoya/Documents/dataset/champs-scalar-coupling/structures.csv,\n",
       "  /Users/tomoya/Documents/dataset/champs-scalar-coupling/structures.zip,\n",
       "  /Users/tomoya/Documents/dataset/champs-scalar-coupling/test.csv,\n",
       "  /Users/tomoya/Documents/dataset/champs-scalar-coupling/train.csv\n",
       ")\n",
       "\u001b[36mtrainFile\u001b[39m: \u001b[32mFile\u001b[39m = /Users/tomoya/Documents/dataset/champs-scalar-coupling/train.csv"
      ]
     },
     "execution_count": 2,
     "metadata": {},
     "output_type": "execute_result"
    }
   ],
   "source": [
    "val folder = new File(\"/Users/tomoya/Documents/dataset/champs-scalar-coupling\")\n",
    "val files = folder.listFiles\n",
    "val trainFile = files.filter(x => x.getName.contains(\"train.csv\")).head"
   ]
  },
  {
   "cell_type": "markdown",
   "metadata": {},
   "source": [
    "#### Reading file by java.io"
   ]
  },
  {
   "cell_type": "code",
   "execution_count": 59,
   "metadata": {},
   "outputs": [
    {
     "data": {
      "text/plain": [
       "defined \u001b[32mfunction\u001b[39m \u001b[36mreadHead\u001b[39m"
      ]
     },
     "execution_count": 59,
     "metadata": {},
     "output_type": "execute_result"
    }
   ],
   "source": [
    "// Function to read csv file (UTF-8)\n",
    "def readHead(path:File, nline:Int):Seq[String] = {\n",
    "    val reader = new BufferedReader(new InputStreamReader(new FileInputStream(path), \"UTF-8\"))\n",
    "    try {\n",
    "        Iterator.continually(reader.readLine()).take(nline).toList // Not toSeq\n",
    "    }finally{\n",
    "        reader.close()\n",
    "    }\n",
    "}"
   ]
  },
  {
   "cell_type": "code",
   "execution_count": 44,
   "metadata": {},
   "outputs": [
    {
     "data": {
      "text/plain": [
       "\u001b[36mlist\u001b[39m: \u001b[32mSeq\u001b[39m[\u001b[32mString\u001b[39m] = \u001b[33mList\u001b[39m(\n",
       "  \u001b[32m\"id,molecule_name,atom_index_0,atom_index_1,type,scalar_coupling_constant\"\u001b[39m,\n",
       "  \u001b[32m\"0,dsgdb9nsd_000001,1,0,1JHC,84.8076\"\u001b[39m,\n",
       "  \u001b[32m\"1,dsgdb9nsd_000001,1,2,2JHH,-11.257\"\u001b[39m,\n",
       "  \u001b[32m\"2,dsgdb9nsd_000001,1,3,2JHH,-11.2548\"\u001b[39m,\n",
       "  \u001b[32m\"3,dsgdb9nsd_000001,1,4,2JHH,-11.2543\"\u001b[39m,\n",
       "  \u001b[32m\"4,dsgdb9nsd_000001,2,0,1JHC,84.8074\"\u001b[39m,\n",
       "  \u001b[32m\"5,dsgdb9nsd_000001,2,3,2JHH,-11.2541\"\u001b[39m,\n",
       "  \u001b[32m\"6,dsgdb9nsd_000001,2,4,2JHH,-11.2548\"\u001b[39m,\n",
       "  \u001b[32m\"7,dsgdb9nsd_000001,3,0,1JHC,84.8093\"\u001b[39m,\n",
       "  \u001b[32m\"8,dsgdb9nsd_000001,3,4,2JHH,-11.2543\"\u001b[39m,\n",
       "  \u001b[32m\"9,dsgdb9nsd_000001,4,0,1JHC,84.8095\"\u001b[39m,\n",
       "  \u001b[32m\"10,dsgdb9nsd_000002,1,0,1JHN,32.6889\"\u001b[39m,\n",
       "  \u001b[32m\"11,dsgdb9nsd_000002,1,2,2JHH,-11.1866\"\u001b[39m,\n",
       "  \u001b[32m\"12,dsgdb9nsd_000002,1,3,2JHH,-11.1757\"\u001b[39m,\n",
       "  \u001b[32m\"13,dsgdb9nsd_000002,2,0,1JHN,32.6891\"\u001b[39m,\n",
       "  \u001b[32m\"14,dsgdb9nsd_000002,2,3,2JHH,-11.1758\"\u001b[39m,\n",
       "  \u001b[32m\"15,dsgdb9nsd_000002,3,0,1JHN,32.6905\"\u001b[39m,\n",
       "  \u001b[32m\"16,dsgdb9nsd_000003,1,2,2JHH,-9.94641\"\u001b[39m,\n",
       "  \u001b[32m\"17,dsgdb9nsd_000005,2,0,1JHC,171.22\"\u001b[39m,\n",
       "  \u001b[32m\"18,dsgdb9nsd_000005,2,1,2JHN,5.18246\"\u001b[39m,\n",
       "  \u001b[32m\"19,dsgdb9nsd_000007,2,0,1JHC,83.5429\"\u001b[39m,\n",
       "  \u001b[32m\"20,dsgdb9nsd_000007,2,1,2JHC,-2.37831\"\u001b[39m,\n",
       "  \u001b[32m\"21,dsgdb9nsd_000007,2,3,2JHH,-11.7005\"\u001b[39m,\n",
       "  \u001b[32m\"22,dsgdb9nsd_000007,2,4,2JHH,-11.6979\"\u001b[39m,\n",
       "  \u001b[32m\"23,dsgdb9nsd_000007,2,5,3JHH,3.25281\"\u001b[39m,\n",
       "  \u001b[32m\"24,dsgdb9nsd_000007,2,6,3JHH,13.6913\"\u001b[39m,\n",
       "  \u001b[32m\"25,dsgdb9nsd_000007,2,7,3JHH,3.25205\"\u001b[39m,\n",
       "  \u001b[32m\"26,dsgdb9nsd_000007,3,0,1JHC,83.5417\"\u001b[39m,\n",
       "  \u001b[32m\"27,dsgdb9nsd_000007,3,1,2JHC,-2.37862\"\u001b[39m,\n",
       "  \u001b[32m\"28,dsgdb9nsd_000007,3,4,2JHH,-11.6996\"\u001b[39m,\n",
       "  \u001b[32m\"29,dsgdb9nsd_000007,3,5,3JHH,13.6924\"\u001b[39m,\n",
       "  \u001b[32m\"30,dsgdb9nsd_000007,3,6,3JHH,3.25253\"\u001b[39m,\n",
       "  \u001b[32m\"31,dsgdb9nsd_000007,3,7,3JHH,3.25272\"\u001b[39m,\n",
       "  \u001b[32m\"32,dsgdb9nsd_000007,4,0,1JHC,83.5484\"\u001b[39m,\n",
       "  \u001b[32m\"33,dsgdb9nsd_000007,4,1,2JHC,-2.37716\"\u001b[39m,\n",
       "  \u001b[32m\"34,dsgdb9nsd_000007,4,5,3JHH,3.25243\"\u001b[39m,\n",
       "  \u001b[32m\"35,dsgdb9nsd_000007,4,6,3JHH,3.25242\"\u001b[39m,\n",
       "  \u001b[32m\"36,dsgdb9nsd_000007,4,7,3JHH,13.6921\"\u001b[39m,\n",
       "..."
      ]
     },
     "execution_count": 44,
     "metadata": {},
     "output_type": "execute_result"
    }
   ],
   "source": [
    "val list = readHead(trainFile, 10000)"
   ]
  },
  {
   "cell_type": "code",
   "execution_count": 45,
   "metadata": {},
   "outputs": [
    {
     "data": {
      "text/plain": [
       "\u001b[36mcols\u001b[39m: \u001b[32mArray\u001b[39m[\u001b[32mString\u001b[39m] = \u001b[33mArray\u001b[39m(\n",
       "  \u001b[32m\"id\"\u001b[39m,\n",
       "  \u001b[32m\"molecule_name\"\u001b[39m,\n",
       "  \u001b[32m\"atom_index_0\"\u001b[39m,\n",
       "  \u001b[32m\"atom_index_1\"\u001b[39m,\n",
       "  \u001b[32m\"type\"\u001b[39m,\n",
       "  \u001b[32m\"scalar_coupling_constant\"\u001b[39m\n",
       ")"
      ]
     },
     "execution_count": 45,
     "metadata": {},
     "output_type": "execute_result"
    }
   ],
   "source": [
    "val cols = list(0).split(\",\")"
   ]
  },
  {
   "cell_type": "markdown",
   "metadata": {},
   "source": [
    "#### Init Spark"
   ]
  },
  {
   "cell_type": "code",
   "execution_count": 46,
   "metadata": {},
   "outputs": [
    {
     "name": "stderr",
     "output_type": "stream",
     "text": [
      "19/07/14 15:59:04 WARN SparkSession$Builder: Using an existing SparkSession; some configuration may not take effect.\n"
     ]
    },
    {
     "data": {
      "text/plain": [
       "\u001b[36msc\u001b[39m: \u001b[32mSparkConf\u001b[39m = org.apache.spark.SparkConf@312f4e35\n",
       "\u001b[36mres45_1\u001b[39m: \u001b[32mSparkConf\u001b[39m = org.apache.spark.SparkConf@312f4e35\n",
       "\u001b[36mspark\u001b[39m: \u001b[32mSparkSession\u001b[39m = org.apache.spark.sql.SparkSession@700161f"
      ]
     },
     "execution_count": 46,
     "metadata": {},
     "output_type": "execute_result"
    }
   ],
   "source": [
    "val sc = new SparkConf\n",
    "sc.setAppName(\"chemical\").setMaster(\"local[*]\")\n",
    "val spark = SparkSession.builder().config(sc).getOrCreate()"
   ]
  },
  {
   "cell_type": "code",
   "execution_count": 47,
   "metadata": {},
   "outputs": [
    {
     "data": {
      "text/plain": [
       "defined \u001b[32mfunction\u001b[39m \u001b[36mtoRecord\u001b[39m"
      ]
     },
     "execution_count": 47,
     "metadata": {},
     "output_type": "execute_result"
    }
   ],
   "source": [
    "def toRecord(line:String) = {\n",
    "    val strs = line.split(\",\")\n",
    "    (strs(0).toInt, strs(1), strs(2).toInt, strs(3).toInt, strs(4), strs(5).toDouble)\n",
    "}"
   ]
  },
  {
   "cell_type": "code",
   "execution_count": 48,
   "metadata": {},
   "outputs": [
    {
     "data": {
      "text/plain": [
       "\u001b[36msampleDF\u001b[39m: \u001b[32mDataFrame\u001b[39m = [id: int, molecule_name: string ... 4 more fields]"
      ]
     },
     "execution_count": 48,
     "metadata": {},
     "output_type": "execute_result"
    }
   ],
   "source": [
    "val sampleDF = spark.createDataFrame((1 to 999).map(x => list(x)).map(x => toRecord(x))).toDF(cols:_*)"
   ]
  },
  {
   "cell_type": "markdown",
   "metadata": {},
   "source": [
    "#### Drop unneeded column information"
   ]
  },
  {
   "cell_type": "code",
   "execution_count": 62,
   "metadata": {},
   "outputs": [
    {
     "data": {
      "text/plain": [
       "\u001b[36msampleDF_2\u001b[39m: \u001b[32mDataFrame\u001b[39m = [id: int, molecule_name: string ... 11 more fields]"
      ]
     },
     "execution_count": 62,
     "metadata": {},
     "output_type": "execute_result"
    }
   ],
   "source": [
    "val sampleDF_2 = sampleDF.select(col(\"*\") +: ((1 to 4).map(x => col(\"type\").substr(x, 1).as(\"t1_\" + x.toString)) ++\n",
    "                            (1 to 3).map(x => col(\"type\").substr(x, 2).as(\"t2_\" + x.toString))):_*)"
   ]
  },
  {
   "cell_type": "code",
   "execution_count": 63,
   "metadata": {},
   "outputs": [
    {
     "name": "stdout",
     "output_type": "stream",
     "text": [
      "+---+----------------+------------+------------+----+------------------------+----+----+----+----+----+----+----+\n",
      "| id|   molecule_name|atom_index_0|atom_index_1|type|scalar_coupling_constant|t1_1|t1_2|t1_3|t1_4|t2_1|t2_2|t2_3|\n",
      "+---+----------------+------------+------------+----+------------------------+----+----+----+----+----+----+----+\n",
      "|  0|dsgdb9nsd_000001|           1|           0|1JHC|                 84.8076|   1|   J|   H|   C|  1J|  JH|  HC|\n",
      "|  1|dsgdb9nsd_000001|           1|           2|2JHH|                 -11.257|   2|   J|   H|   H|  2J|  JH|  HH|\n",
      "|  2|dsgdb9nsd_000001|           1|           3|2JHH|                -11.2548|   2|   J|   H|   H|  2J|  JH|  HH|\n",
      "|  3|dsgdb9nsd_000001|           1|           4|2JHH|                -11.2543|   2|   J|   H|   H|  2J|  JH|  HH|\n",
      "|  4|dsgdb9nsd_000001|           2|           0|1JHC|                 84.8074|   1|   J|   H|   C|  1J|  JH|  HC|\n",
      "|  5|dsgdb9nsd_000001|           2|           3|2JHH|                -11.2541|   2|   J|   H|   H|  2J|  JH|  HH|\n",
      "|  6|dsgdb9nsd_000001|           2|           4|2JHH|                -11.2548|   2|   J|   H|   H|  2J|  JH|  HH|\n",
      "|  7|dsgdb9nsd_000001|           3|           0|1JHC|                 84.8093|   1|   J|   H|   C|  1J|  JH|  HC|\n",
      "|  8|dsgdb9nsd_000001|           3|           4|2JHH|                -11.2543|   2|   J|   H|   H|  2J|  JH|  HH|\n",
      "|  9|dsgdb9nsd_000001|           4|           0|1JHC|                 84.8095|   1|   J|   H|   C|  1J|  JH|  HC|\n",
      "| 10|dsgdb9nsd_000002|           1|           0|1JHN|                 32.6889|   1|   J|   H|   N|  1J|  JH|  HN|\n",
      "| 11|dsgdb9nsd_000002|           1|           2|2JHH|                -11.1866|   2|   J|   H|   H|  2J|  JH|  HH|\n",
      "| 12|dsgdb9nsd_000002|           1|           3|2JHH|                -11.1757|   2|   J|   H|   H|  2J|  JH|  HH|\n",
      "| 13|dsgdb9nsd_000002|           2|           0|1JHN|                 32.6891|   1|   J|   H|   N|  1J|  JH|  HN|\n",
      "| 14|dsgdb9nsd_000002|           2|           3|2JHH|                -11.1758|   2|   J|   H|   H|  2J|  JH|  HH|\n",
      "| 15|dsgdb9nsd_000002|           3|           0|1JHN|                 32.6905|   1|   J|   H|   N|  1J|  JH|  HN|\n",
      "| 16|dsgdb9nsd_000003|           1|           2|2JHH|                -9.94641|   2|   J|   H|   H|  2J|  JH|  HH|\n",
      "| 17|dsgdb9nsd_000005|           2|           0|1JHC|                  171.22|   1|   J|   H|   C|  1J|  JH|  HC|\n",
      "| 18|dsgdb9nsd_000005|           2|           1|2JHN|                 5.18246|   2|   J|   H|   N|  2J|  JH|  HN|\n",
      "| 19|dsgdb9nsd_000007|           2|           0|1JHC|                 83.5429|   1|   J|   H|   C|  1J|  JH|  HC|\n",
      "+---+----------------+------------+------------+----+------------------------+----+----+----+----+----+----+----+\n",
      "only showing top 20 rows\n",
      "\n"
     ]
    }
   ],
   "source": [
    "sampleDF_2.show()"
   ]
  },
  {
   "cell_type": "code",
   "execution_count": 64,
   "metadata": {},
   "outputs": [
    {
     "data": {
      "text/plain": [
       "\u001b[36msummaries\u001b[39m: \u001b[32mDataFrame\u001b[39m = [summary: string, id: string ... 12 more fields]"
      ]
     },
     "execution_count": 64,
     "metadata": {},
     "output_type": "execute_result"
    }
   ],
   "source": [
    "val summaries = sampleDF_2.summary()"
   ]
  },
  {
   "cell_type": "code",
   "execution_count": 65,
   "metadata": {},
   "outputs": [
    {
     "name": "stdout",
     "output_type": "stream",
     "text": [
      "+-------+-----------------+----------------+-----------------+------------------+----+------------------------+------------------+----+----+----+----+----+----+\n",
      "|summary|               id|   molecule_name|     atom_index_0|      atom_index_1|type|scalar_coupling_constant|              t1_1|t1_2|t1_3|t1_4|t2_1|t2_2|t2_3|\n",
      "+-------+-----------------+----------------+-----------------+------------------+----+------------------------+------------------+----+----+----+----+----+----+\n",
      "|  count|              999|             999|              999|               999| 999|                     999|               999| 999| 999| 999| 999| 999| 999|\n",
      "|   mean|            499.0|            null|6.367367367367367|3.2412412412412412|null|       20.20008205105104|2.1731731731731734|null|null|null|null|null|null|\n",
      "| stddev|288.5307609250702|            null|2.370953186843761|3.1443018508277945|null|       41.64950520655079|0.7537754279841617|null|null|null|null|null|null|\n",
      "|    min|                0|dsgdb9nsd_000001|                1|                 0|1JHC|                -18.3082|                 1|   J|   H|   C|  1J|  JH|  HC|\n",
      "|    25%|              249|            null|                5|                 1|null|                 -2.0078|               2.0|null|null|null|null|null|null|\n",
      "|    50%|              499|            null|                6|                 2|null|                 2.51865|               2.0|null|null|null|null|null|null|\n",
      "|    75%|              749|            null|                8|                 5|null|                 12.3327|               3.0|null|null|null|null|null|null|\n",
      "|    max|              998|dsgdb9nsd_000067|               14|                13|3JHN|                 201.884|                 3|   J|   H|   N|  3J|  JH|  HN|\n",
      "+-------+-----------------+----------------+-----------------+------------------+----+------------------------+------------------+----+----+----+----+----+----+\n",
      "\n"
     ]
    }
   ],
   "source": [
    "summaries.show()"
   ]
  },
  {
   "cell_type": "markdown",
   "metadata": {},
   "source": [
    "### Read whole file by spark"
   ]
  },
  {
   "cell_type": "code",
   "execution_count": 66,
   "metadata": {},
   "outputs": [
    {
     "data": {
      "text/plain": [
       "\u001b[36mdf\u001b[39m: \u001b[32mDataFrame\u001b[39m = [id: string, molecule_name: string ... 4 more fields]"
      ]
     },
     "execution_count": 66,
     "metadata": {},
     "output_type": "execute_result"
    }
   ],
   "source": [
    "val df = spark.read.option(\"header\", \"true\").csv(trainFile.getAbsolutePath)"
   ]
  },
  {
   "cell_type": "code",
   "execution_count": 92,
   "metadata": {},
   "outputs": [
    {
     "data": {
      "text/plain": [
       "\u001b[36mdf2\u001b[39m: \u001b[32mDataFrame\u001b[39m = [id: string, molecule_name: string ... 11 more fields]"
      ]
     },
     "execution_count": 92,
     "metadata": {},
     "output_type": "execute_result"
    }
   ],
   "source": [
    "var df2 = df.select(col(\"*\") +: ((1 to 4).map(x => col(\"type\").substr(x, 1).as(\"t1_\" + x.toString)) ++\n",
    "                            (1 to 3).map(x => col(\"type\").substr(x, 2).as(\"t2_\" + x.toString))):_*)"
   ]
  },
  {
   "cell_type": "code",
   "execution_count": 93,
   "metadata": {},
   "outputs": [
    {
     "data": {
      "text/plain": [
       "\u001b[36mdf2_summary\u001b[39m: \u001b[32mDataFrame\u001b[39m = [summary: string, id: string ... 12 more fields]"
      ]
     },
     "execution_count": 93,
     "metadata": {},
     "output_type": "execute_result"
    }
   ],
   "source": [
    "val df2_summary = df2.summary()"
   ]
  },
  {
   "cell_type": "code",
   "execution_count": 94,
   "metadata": {},
   "outputs": [
    {
     "name": "stdout",
     "output_type": "stream",
     "text": [
      "+-------+------------------+----------------+------------------+------------------+-------+------------------------+------------------+-------+-------+-------+-------+-------+-------+\n",
      "|summary|                id|   molecule_name|      atom_index_0|      atom_index_1|   type|scalar_coupling_constant|              t1_1|   t1_2|   t1_3|   t1_4|   t2_1|   t2_2|   t2_3|\n",
      "+-------+------------------+----------------+------------------+------------------+-------+------------------------+------------------+-------+-------+-------+-------+-------+-------+\n",
      "|  count|           4658147|         4658147|           4658147|           4658147|4658147|                 4658147|           4658147|4658147|4658147|4658147|4658147|4658147|4658147|\n",
      "|   mean|         2329073.0|            null|13.356885688665471|5.8839663067739165|   null|       15.92164991825926| 2.325156333623649|   null|   null|   null|   null|   null|   null|\n",
      "| stddev|1344691.3565249834|            null|3.2677124094357053| 4.993943098127867|   null|       34.94197741569857|0.7366406489014601|   null|   null|   null|   null|   null|   null|\n",
      "|    min|                 0|dsgdb9nsd_000001|                 0|                 0|   1JHC|               -0.000105|                 1|      J|      H|      C|     1J|     JH|     HC|\n",
      "|    25%|         1164293.0|            null|              11.0|               2.0|   null|               -0.254189|               2.0|   null|   null|   null|   null|   null|   null|\n",
      "|    50%|         2328784.0|            null|              13.0|               5.0|   null|                  2.2811|               2.0|   null|   null|   null|   null|   null|   null|\n",
      "|    75%|         3493169.0|            null|              16.0|               8.0|   null|                 7.39122|               3.0|   null|   null|   null|   null|   null|   null|\n",
      "|    max|            999999|dsgdb9nsd_133884|                 9|                 9|   3JHN|                   9e-06|                 3|      J|      H|      N|     3J|     JH|     HN|\n",
      "+-------+------------------+----------------+------------------+------------------+-------+------------------------+------------------+-------+-------+-------+-------+-------+-------+\n",
      "\n"
     ]
    }
   ],
   "source": [
    "df2_summary.show()"
   ]
  },
  {
   "cell_type": "markdown",
   "metadata": {},
   "source": [
    "information in t1_2, t1_3 can be dropped"
   ]
  },
  {
   "cell_type": "markdown",
   "metadata": {},
   "source": [
    "#### Unique values in id, molecule name in df"
   ]
  },
  {
   "cell_type": "code",
   "execution_count": 95,
   "metadata": {},
   "outputs": [
    {
     "data": {
      "text/plain": [
       "\u001b[36mres94\u001b[39m: \u001b[32mLong\u001b[39m = \u001b[32m4658147L\u001b[39m"
      ]
     },
     "execution_count": 95,
     "metadata": {},
     "output_type": "execute_result"
    }
   ],
   "source": [
    "df2.count"
   ]
  },
  {
   "cell_type": "code",
   "execution_count": 96,
   "metadata": {},
   "outputs": [
    {
     "data": {
      "text/plain": [
       "\u001b[36mres95\u001b[39m: \u001b[32mLong\u001b[39m = \u001b[32m4658147L\u001b[39m"
      ]
     },
     "execution_count": 96,
     "metadata": {},
     "output_type": "execute_result"
    }
   ],
   "source": [
    "df2.select(\"id\").dropDuplicates.count"
   ]
  },
  {
   "cell_type": "code",
   "execution_count": 97,
   "metadata": {},
   "outputs": [
    {
     "data": {
      "text/plain": [
       "\u001b[36mres96\u001b[39m: \u001b[32mLong\u001b[39m = \u001b[32m85003L\u001b[39m"
      ]
     },
     "execution_count": 97,
     "metadata": {},
     "output_type": "execute_result"
    }
   ],
   "source": [
    "df2.select(\"molecule_name\").dropDuplicates.count"
   ]
  },
  {
   "cell_type": "code",
   "execution_count": 98,
   "metadata": {},
   "outputs": [],
   "source": [
    "df2 = df2.drop(\"t1_2\", \"t1_3\", \"t2_2\", \"t2_2\", \"t2_1\", \"t2_3\", \"type\")"
   ]
  },
  {
   "cell_type": "code",
   "execution_count": 99,
   "metadata": {},
   "outputs": [
    {
     "name": "stdout",
     "output_type": "stream",
     "text": [
      "+---+----------------+------------+------------+------------------------+----+----+\n",
      "| id|   molecule_name|atom_index_0|atom_index_1|scalar_coupling_constant|t1_1|t1_4|\n",
      "+---+----------------+------------+------------+------------------------+----+----+\n",
      "|  0|dsgdb9nsd_000001|           1|           0|                 84.8076|   1|   C|\n",
      "|  1|dsgdb9nsd_000001|           1|           2|                 -11.257|   2|   H|\n",
      "|  2|dsgdb9nsd_000001|           1|           3|                -11.2548|   2|   H|\n",
      "|  3|dsgdb9nsd_000001|           1|           4|                -11.2543|   2|   H|\n",
      "|  4|dsgdb9nsd_000001|           2|           0|                 84.8074|   1|   C|\n",
      "|  5|dsgdb9nsd_000001|           2|           3|                -11.2541|   2|   H|\n",
      "|  6|dsgdb9nsd_000001|           2|           4|                -11.2548|   2|   H|\n",
      "|  7|dsgdb9nsd_000001|           3|           0|                 84.8093|   1|   C|\n",
      "|  8|dsgdb9nsd_000001|           3|           4|                -11.2543|   2|   H|\n",
      "|  9|dsgdb9nsd_000001|           4|           0|                 84.8095|   1|   C|\n",
      "| 10|dsgdb9nsd_000002|           1|           0|                 32.6889|   1|   N|\n",
      "| 11|dsgdb9nsd_000002|           1|           2|                -11.1866|   2|   H|\n",
      "| 12|dsgdb9nsd_000002|           1|           3|                -11.1757|   2|   H|\n",
      "| 13|dsgdb9nsd_000002|           2|           0|                 32.6891|   1|   N|\n",
      "| 14|dsgdb9nsd_000002|           2|           3|                -11.1758|   2|   H|\n",
      "| 15|dsgdb9nsd_000002|           3|           0|                 32.6905|   1|   N|\n",
      "| 16|dsgdb9nsd_000003|           1|           2|                -9.94641|   2|   H|\n",
      "| 17|dsgdb9nsd_000005|           2|           0|                  171.22|   1|   C|\n",
      "| 18|dsgdb9nsd_000005|           2|           1|                 5.18246|   2|   N|\n",
      "| 19|dsgdb9nsd_000007|           2|           0|                 83.5429|   1|   C|\n",
      "+---+----------------+------------+------------+------------------------+----+----+\n",
      "only showing top 20 rows\n",
      "\n"
     ]
    }
   ],
   "source": [
    "df2.show()"
   ]
  },
  {
   "cell_type": "code",
   "execution_count": 100,
   "metadata": {},
   "outputs": [
    {
     "data": {
      "text/plain": [
       "\u001b[36mtargetCol\u001b[39m: \u001b[32mString\u001b[39m = \u001b[32m\"scalar_coupling_constant\"\u001b[39m"
      ]
     },
     "execution_count": 100,
     "metadata": {},
     "output_type": "execute_result"
    }
   ],
   "source": [
    "val targetCol = df2.columns.filter(_.startsWith(\"scalar\")).head"
   ]
  },
  {
   "cell_type": "markdown",
   "metadata": {},
   "source": [
    "#### Rename Columns using Map"
   ]
  },
  {
   "cell_type": "code",
   "execution_count": 102,
   "metadata": {},
   "outputs": [],
   "source": [
    "df2 = Map(\n",
    "    \"atom_index_0\" -> \"a0\", \n",
    "    \"atom_index_1\" -> \"a1\",\n",
    "    \"molecule_name\" -> \"name\"\n",
    ").foldLeft(df2)((d, m) => d.withColumnRenamed(m._1, m._2))"
   ]
  },
  {
   "cell_type": "code",
   "execution_count": 103,
   "metadata": {},
   "outputs": [
    {
     "name": "stdout",
     "output_type": "stream",
     "text": [
      "+---+----------------+---+---+------------------------+----+----+\n",
      "| id|            name| a0| a1|scalar_coupling_constant|t1_1|t1_4|\n",
      "+---+----------------+---+---+------------------------+----+----+\n",
      "|  0|dsgdb9nsd_000001|  1|  0|                 84.8076|   1|   C|\n",
      "|  1|dsgdb9nsd_000001|  1|  2|                 -11.257|   2|   H|\n",
      "|  2|dsgdb9nsd_000001|  1|  3|                -11.2548|   2|   H|\n",
      "|  3|dsgdb9nsd_000001|  1|  4|                -11.2543|   2|   H|\n",
      "|  4|dsgdb9nsd_000001|  2|  0|                 84.8074|   1|   C|\n",
      "|  5|dsgdb9nsd_000001|  2|  3|                -11.2541|   2|   H|\n",
      "|  6|dsgdb9nsd_000001|  2|  4|                -11.2548|   2|   H|\n",
      "|  7|dsgdb9nsd_000001|  3|  0|                 84.8093|   1|   C|\n",
      "|  8|dsgdb9nsd_000001|  3|  4|                -11.2543|   2|   H|\n",
      "|  9|dsgdb9nsd_000001|  4|  0|                 84.8095|   1|   C|\n",
      "| 10|dsgdb9nsd_000002|  1|  0|                 32.6889|   1|   N|\n",
      "| 11|dsgdb9nsd_000002|  1|  2|                -11.1866|   2|   H|\n",
      "| 12|dsgdb9nsd_000002|  1|  3|                -11.1757|   2|   H|\n",
      "| 13|dsgdb9nsd_000002|  2|  0|                 32.6891|   1|   N|\n",
      "| 14|dsgdb9nsd_000002|  2|  3|                -11.1758|   2|   H|\n",
      "| 15|dsgdb9nsd_000002|  3|  0|                 32.6905|   1|   N|\n",
      "| 16|dsgdb9nsd_000003|  1|  2|                -9.94641|   2|   H|\n",
      "| 17|dsgdb9nsd_000005|  2|  0|                  171.22|   1|   C|\n",
      "| 18|dsgdb9nsd_000005|  2|  1|                 5.18246|   2|   N|\n",
      "| 19|dsgdb9nsd_000007|  2|  0|                 83.5429|   1|   C|\n",
      "+---+----------------+---+---+------------------------+----+----+\n",
      "only showing top 20 rows\n",
      "\n"
     ]
    }
   ],
   "source": [
    "df2.show"
   ]
  },
  {
   "cell_type": "code",
   "execution_count": 108,
   "metadata": {},
   "outputs": [],
   "source": [
    "df2 = df2.withColumn(\"adiff\", abs(col(\"a0\")-col(\"a1\")))"
   ]
  },
  {
   "cell_type": "code",
   "execution_count": 111,
   "metadata": {},
   "outputs": [],
   "source": [
    "var tempCols = Seq(\"a0\", \"a1\", \"adiff\", \"t1_1\", \"t1_4\")"
   ]
  },
  {
   "cell_type": "code",
   "execution_count": 138,
   "metadata": {},
   "outputs": [
    {
     "data": {
      "text/plain": [
       "\u001b[36mtempAggs\u001b[39m: \u001b[32mMap\u001b[39m[\u001b[32mString\u001b[39m, \u001b[32mColumn\u001b[39m => \u001b[32mColumn\u001b[39m] = \u001b[33mMap\u001b[39m(\n",
       "  \u001b[32m\"count\"\u001b[39m -> <function1>,\n",
       "  \u001b[32m\"mean\"\u001b[39m -> <function1>,\n",
       "  \u001b[32m\"min\"\u001b[39m -> <function1>,\n",
       "  \u001b[32m\"max\"\u001b[39m -> <function1>,\n",
       "  \u001b[32m\"stddev\"\u001b[39m -> <function1>\n",
       ")"
      ]
     },
     "execution_count": 138,
     "metadata": {},
     "output_type": "execute_result"
    }
   ],
   "source": [
    "var tempAggs:Map[String, Column=>Column] = Map(\n",
    "    \"count\" -> count,\n",
    "    \"min\" -> max, \n",
    "    \"max\" -> min, \n",
    "    \"mean\"-> avg, \n",
    "    \"stddev\"-> stddev\n",
    ")\n"
   ]
  },
  {
   "cell_type": "code",
   "execution_count": 139,
   "metadata": {},
   "outputs": [
    {
     "data": {
      "text/plain": [
       "\u001b[36mtempExpr\u001b[39m: \u001b[32mSeq\u001b[39m[\u001b[32mColumn\u001b[39m] = \u001b[33mList\u001b[39m(\n",
       "  count(scalar_coupling_constant),\n",
       "  avg(scalar_coupling_constant),\n",
       "  max(scalar_coupling_constant),\n",
       "  min(scalar_coupling_constant),\n",
       "  stddev_samp(scalar_coupling_constant)\n",
       ")"
      ]
     },
     "execution_count": 139,
     "metadata": {},
     "output_type": "execute_result"
    }
   ],
   "source": [
    "var tempExpr = tempAggs.map(x => x._2(col(targetCol)) ).toSeq"
   ]
  },
  {
   "cell_type": "code",
   "execution_count": 167,
   "metadata": {},
   "outputs": [
    {
     "data": {
      "text/plain": [
       "\u001b[32mimport \u001b[39m\u001b[36mscala.util.matching.Regex.Match\n",
       "\u001b[39m\n",
       "defined \u001b[32mfunction\u001b[39m \u001b[36mreplacePars\u001b[39m\n",
       "defined \u001b[32mfunction\u001b[39m \u001b[36mreplaceColumnNameChars\u001b[39m"
      ]
     },
     "execution_count": 167,
     "metadata": {},
     "output_type": "execute_result"
    }
   ],
   "source": [
    "import scala.util.matching.Regex.Match\n",
    "def replacePars(str:String) = \"[(|)]\".r replaceSomeIn(str, { \n",
    "  case Match(\"(\") => Some(\"_\") \n",
    "  case Match(\")\") => Some(\"\") \n",
    "  case _ => None})\n",
    "def replaceColumnNameChars(df:DataFrame):DataFrame = {\n",
    "   df.select(df.columns.map(x => col(x).as(replacePars(x))):_*)\n",
    "}"
   ]
  },
  {
   "cell_type": "code",
   "execution_count": 173,
   "metadata": {},
   "outputs": [
    {
     "data": {
      "text/plain": [
       "\u001b[36maggrList01\u001b[39m: \u001b[32mSeq\u001b[39m[\u001b[32morg\u001b[39m.\u001b[32mapache\u001b[39m.\u001b[32mspark\u001b[39m.\u001b[32msql\u001b[39m.\u001b[32mDataset\u001b[39m[\u001b[32morg\u001b[39m.\u001b[32mapache\u001b[39m.\u001b[32mspark\u001b[39m.\u001b[32msql\u001b[39m.\u001b[32mRow\u001b[39m]] = \u001b[33mList\u001b[39m(\n",
       "  [a0: string, count_scalar_coupling_constant: bigint ... 4 more fields],\n",
       "  [a1: string, count_scalar_coupling_constant: bigint ... 4 more fields],\n",
       "  [adiff: double, count_scalar_coupling_constant: bigint ... 4 more fields],\n",
       "  [t1_1: string, count_scalar_coupling_constant: bigint ... 4 more fields],\n",
       "  [t1_4: string, count_scalar_coupling_constant: bigint ... 4 more fields]\n",
       ")"
      ]
     },
     "execution_count": 173,
     "metadata": {},
     "output_type": "execute_result"
    }
   ],
   "source": [
    "val aggrList01 = tempCols.map(x => df2.groupBy(x).agg(tempExpr.head, tempExpr.tail:_*).\n",
    "                                transform(replaceColumnNameChars).sort(col(\"avg_\"+targetCol).desc))"
   ]
  },
  {
   "cell_type": "code",
   "execution_count": 174,
   "metadata": {},
   "outputs": [
    {
     "name": "stdout",
     "output_type": "stream",
     "text": [
      "+---+------------------------------+----------------------------+----------------------------+----------------------------+------------------------------------+\n",
      "| a1|count_scalar_coupling_constant|avg_scalar_coupling_constant|max_scalar_coupling_constant|min_scalar_coupling_constant|stddev_samp_scalar_coupling_constant|\n",
      "+---+------------------------------+----------------------------+----------------------------+----------------------------+------------------------------------+\n",
      "|  0|                        322761|           46.93884210838372|                     99.9974|                   -0.000164|                  42.978647681959394|\n",
      "|  8|                        248731|          23.526509590782968|                     99.9898|                   -0.000113|                  43.381887989068176|\n",
      "|  7|                        359545|          20.845812907291148|                     99.9997|                   -0.000105|                   39.56350150932114|\n",
      "|  6|                        392783|          20.289625443626658|                     99.9933|                   -0.000109|                   38.19724453843262|\n",
      "|  5|                        415448|          19.854336101160747|                     99.9997|                    -0.00011|                  37.732949078293444|\n",
      "|  4|                        439876|          18.506715461125307|                     99.9983|                   -0.000105|                   36.30929419797477|\n",
      "|  3|                        458480|           17.70571890904511|                     99.9998|                   -0.000122|                   35.59239553789542|\n",
      "|  2|                        537311|           16.33350920687287|                       9e-06|                   -0.000168|                  33.050149800641755|\n",
      "|  1|                        517218|           10.53479357306404|                     99.9984|                   -0.000108|                  28.986618897117626|\n",
      "| 12|                        117024|          3.7963254610849106|                       9e-06|                   -0.000191|                   6.163895070324227|\n",
      "| 13|                        108353|          0.8798014016224807|                     9.99935|                   -0.000234|                   7.827852643105937|\n",
      "| 14|                         95001|         0.40028844574267913|                     99.1144|                   -0.000222|                   7.542171984548703|\n",
      "| 15|                         89218|         0.35403259771570633|                     9.99967|                   -0.000288|                   7.383194070416875|\n",
      "| 17|                         70360|          0.3108347124928949|                     9.99914|                   -0.000321|                   7.434822606958091|\n",
      "| 16|                         81188|          0.2272285725723023|                     9.99953|                   -0.000133|                  7.4351375800165025|\n",
      "| 18|                         57310|         0.04723166019891776|                     9.99973|                   -0.000497|                    7.67849203671716|\n",
      "| 19|                         41672|        -0.02317835805816...|                     9.99889|                   -0.000764|                   7.746992472104595|\n",
      "| 20|                         30523|         -0.1084740898666579|                     9.99942|                   -0.000362|                   7.823148315455623|\n",
      "| 21|                         16680|         -0.7160190429856113|                     9.99991|                   -0.000319|                   8.117316758812851|\n",
      "| 22|                         12414|         -0.7479321434670526|                     9.99555|                   -0.000674|                   8.071385469819091|\n",
      "+---+------------------------------+----------------------------+----------------------------+----------------------------+------------------------------------+\n",
      "only showing top 20 rows\n",
      "\n"
     ]
    }
   ],
   "source": [
    "aggrList01(1).show"
   ]
  },
  {
   "cell_type": "markdown",
   "metadata": {},
   "source": [
    "#### StringIndexer for StringType Columns"
   ]
  },
  {
   "cell_type": "code",
   "execution_count": null,
   "metadata": {},
   "outputs": [],
   "source": [
    "import org.apache.spark.ml.feature."
   ]
  },
  {
   "cell_type": "code",
   "execution_count": 104,
   "metadata": {},
   "outputs": [
    {
     "data": {
      "text/plain": [
       "\u001b[32mimport \u001b[39m\u001b[36morg.apache.spark.ml.feature.OneHotEncoderEstimator\n",
       "\u001b[39m\n",
       "\u001b[36mencoder\u001b[39m: \u001b[32mOneHotEncoderEstimator\u001b[39m = oneHotEncoder_5eebcffc9246"
      ]
     },
     "execution_count": 104,
     "metadata": {},
     "output_type": "execute_result"
    }
   ],
   "source": [
    "import org.apache.spark.ml.feature.OneHotEncoderEstimator\n",
    "val encoder = new OneHotEncoderEstimator().\n",
    "    setInputCols(Array(\"t1_1\", \"t1_4\")).\n",
    "    setOutputCols(Array(\"t1\", \"t4\"))"
   ]
  },
  {
   "cell_type": "code",
   "execution_count": 105,
   "metadata": {},
   "outputs": [],
   "source": [
    "val model = encoder.fit(df2)\n",
    "val encoded = model.transform(df2)\n",
    "encoded.show()"
   ]
  },
  {
   "cell_type": "code",
   "execution_count": null,
   "metadata": {},
   "outputs": [],
   "source": []
  }
 ],
 "metadata": {
  "kernelspec": {
   "display_name": "Scala",
   "language": "scala",
   "name": "scala"
  },
  "language_info": {
   "codemirror_mode": "text/x-scala",
   "file_extension": ".scala",
   "mimetype": "text/x-scala",
   "name": "scala",
   "nbconvert_exporter": "script",
   "version": "2.11.12"
  }
 },
 "nbformat": 4,
 "nbformat_minor": 2
}
