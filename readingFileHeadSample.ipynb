{
 "cells": [
  {
   "cell_type": "markdown",
   "metadata": {},
   "source": [
    "### import libraries"
   ]
  },
  {
   "cell_type": "code",
   "execution_count": 2,
   "metadata": {},
   "outputs": [],
   "source": [
    "import $ivy.`org.scalanlp:breeze_2.12:0.13.2`\n",
    "import $ivy.`org.jfree:jfreechart:1.5.0`\n",
    "import java.io.File\n",
    "import breeze.linalg.csvread\n",
    "import breeze.linalg.{DenseMatrix => DM}\n",
    "import breeze.linalg.{DenseVector => DV}\n",
    "import breeze.linalg\n",
    "import $ivy.`org.apache.spark:spark-core_2.11:2.4.3`\n",
    "import scala.io.Source\n",
    "import java.io.{BufferedReader, InputStreamReader, FileInputStream}"
   ]
  },
  {
   "cell_type": "code",
   "execution_count": 7,
   "metadata": {},
   "outputs": [],
   "source": [
    "val folder = new File(\"/Users/tomoya/Documents/dataset/champs-scalar-coupling\")\n",
    "val files = folder.listFiles\n",
    "val trainFile = files.filter(x => x.getName.contains(\"train.csv\")).head"
   ]
  },
  {
   "cell_type": "markdown",
   "metadata": {},
   "source": [
    "### Reading file by java.io"
   ]
  },
  {
   "cell_type": "code",
   "execution_count": 35,
   "metadata": {},
   "outputs": [
    {
     "data": {
      "text/plain": [
       "defined \u001b[32mfunction\u001b[39m \u001b[36mreadHead\u001b[39m"
      ]
     },
     "execution_count": 35,
     "metadata": {},
     "output_type": "execute_result"
    }
   ],
   "source": [
    "def readHead(path:File, nline:Int):Seq[String] = {\n",
    "    val reader = new BufferedReader(new InputStreamReader(new FileInputStream(path), \"UTF-8\"))\n",
    "    try {\n",
    "        Iterator.continually(reader.readLine()).take(nline).toList // Not toSeq\n",
    "    }finally{\n",
    "        reader.close()\n",
    "    }\n",
    "}"
   ]
  },
  {
   "cell_type": "code",
   "execution_count": 36,
   "metadata": {},
   "outputs": [
    {
     "data": {
      "text/plain": [
       "\u001b[36mlist\u001b[39m: \u001b[32mSeq\u001b[39m[\u001b[32mString\u001b[39m] = \u001b[33mList\u001b[39m(\n",
       "  \u001b[32m\"id,molecule_name,atom_index_0,atom_index_1,type,scalar_coupling_constant\"\u001b[39m,\n",
       "  \u001b[32m\"0,dsgdb9nsd_000001,1,0,1JHC,84.8076\"\u001b[39m,\n",
       "  \u001b[32m\"1,dsgdb9nsd_000001,1,2,2JHH,-11.257\"\u001b[39m,\n",
       "  \u001b[32m\"2,dsgdb9nsd_000001,1,3,2JHH,-11.2548\"\u001b[39m,\n",
       "  \u001b[32m\"3,dsgdb9nsd_000001,1,4,2JHH,-11.2543\"\u001b[39m,\n",
       "  \u001b[32m\"4,dsgdb9nsd_000001,2,0,1JHC,84.8074\"\u001b[39m,\n",
       "  \u001b[32m\"5,dsgdb9nsd_000001,2,3,2JHH,-11.2541\"\u001b[39m,\n",
       "  \u001b[32m\"6,dsgdb9nsd_000001,2,4,2JHH,-11.2548\"\u001b[39m,\n",
       "  \u001b[32m\"7,dsgdb9nsd_000001,3,0,1JHC,84.8093\"\u001b[39m,\n",
       "  \u001b[32m\"8,dsgdb9nsd_000001,3,4,2JHH,-11.2543\"\u001b[39m,\n",
       "  \u001b[32m\"9,dsgdb9nsd_000001,4,0,1JHC,84.8095\"\u001b[39m,\n",
       "  \u001b[32m\"10,dsgdb9nsd_000002,1,0,1JHN,32.6889\"\u001b[39m,\n",
       "  \u001b[32m\"11,dsgdb9nsd_000002,1,2,2JHH,-11.1866\"\u001b[39m,\n",
       "  \u001b[32m\"12,dsgdb9nsd_000002,1,3,2JHH,-11.1757\"\u001b[39m,\n",
       "  \u001b[32m\"13,dsgdb9nsd_000002,2,0,1JHN,32.6891\"\u001b[39m,\n",
       "  \u001b[32m\"14,dsgdb9nsd_000002,2,3,2JHH,-11.1758\"\u001b[39m,\n",
       "  \u001b[32m\"15,dsgdb9nsd_000002,3,0,1JHN,32.6905\"\u001b[39m,\n",
       "  \u001b[32m\"16,dsgdb9nsd_000003,1,2,2JHH,-9.94641\"\u001b[39m,\n",
       "  \u001b[32m\"17,dsgdb9nsd_000005,2,0,1JHC,171.22\"\u001b[39m,\n",
       "  \u001b[32m\"18,dsgdb9nsd_000005,2,1,2JHN,5.18246\"\u001b[39m\n",
       ")"
      ]
     },
     "execution_count": 36,
     "metadata": {},
     "output_type": "execute_result"
    }
   ],
   "source": [
    "val list = readHead(trainFile, 20)"
   ]
  }
 ],
 "metadata": {
  "kernelspec": {
   "display_name": "Scala",
   "language": "scala",
   "name": "scala"
  },
  "language_info": {
   "codemirror_mode": "text/x-scala",
   "file_extension": ".scala",
   "mimetype": "text/x-scala",
   "name": "scala",
   "nbconvert_exporter": "script",
   "version": "2.11.12"
  }
 },
 "nbformat": 4,
 "nbformat_minor": 2
}
