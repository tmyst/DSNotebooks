{
 "cells": [
  {
   "cell_type": "code",
   "execution_count": 1,
   "metadata": {},
   "outputs": [
    {
     "data": {
      "text/plain": [
       "\u001b[32mimport \u001b[39m\u001b[36m$ivy.$                                \n",
       "// import $ivy.`org.jfree:jfreechart:1.5.0`\n",
       "\u001b[39m\n",
       "\u001b[32mimport \u001b[39m\u001b[36m$ivy.$                                       \n",
       "\u001b[39m\n",
       "\u001b[32mimport \u001b[39m\u001b[36m$ivy.$                                      \n",
       "\u001b[39m\n",
       "\u001b[32mimport \u001b[39m\u001b[36m$ivy.$                                        \n",
       "\u001b[39m\n",
       "\u001b[32mimport \u001b[39m\u001b[36m$ivy.$                                         \n",
       "// import $ivy.`org.apache.spark:spark-streaming_2.11:2.4.3`\n",
       "//import $ivy.`sh.almond::ammonite-spark:0.3.0`\u001b[39m"
      ]
     },
     "execution_count": 1,
     "metadata": {},
     "output_type": "execute_result"
    }
   ],
   "source": [
    "import $ivy.`org.scalanlp:breeze_2.11:0.13.2`\n",
    "import $ivy.`org.apache.spark:spark-core_2.11:2.4.3`\n",
    "import $ivy.`org.apache.spark:spark-sql_2.11:2.4.3`\n",
    "import $ivy.`org.apache.spark:spark-mllib_2.11:2.4.3`\n",
    "import $ivy.`org.apache.spark:spark-graphx_2.11:2.4.3`"
   ]
  },
  {
   "cell_type": "code",
   "execution_count": 3,
   "metadata": {},
   "outputs": [],
   "source": [
    "import breeze.linalg.csvread\n",
    "import breeze.linalg.{DenseMatrix => DM}\n",
    "import breeze.linalg.{DenseVector => DV}\n",
    "import breeze.linalg\n",
    "import java.io._\n",
    "import scala.io.Source\n",
    "import scala.collection.mutable.ArrayBuffer\n",
    "import scala.collection.mutable.ListBuffer\n",
    "import scala.util.matching.Regex\n",
    "import org.apache.spark.sql.{DataFrame => DF}\n",
    "import org.apache.spark.sql.SparkSession\n",
    "import org.apache.spark.SparkConf\n",
    "import org.apache.spark.sql.functions._\n",
    "import org.apache.spark.sql.Column\n",
    "import org.apache.spark.sql.SaveMode\n",
    "import org.apache.spark.sql.types._\n",
    "import org.apache.spark.sql.catalyst.plans.{Inner, LeftOuter, Cross}\n",
    "import org.apache.log4j.Logger\n",
    "import org.apache.log4j.Level\n",
    "Logger.getLogger(\"org\").setLevel(Level.ERROR)"
   ]
  },
  {
   "cell_type": "code",
   "execution_count": 4,
   "metadata": {},
   "outputs": [
    {
     "data": {
      "text/plain": [
       "\u001b[32mimport \u001b[39m\u001b[36morg.apache.spark.ml.{Pipeline, PipelineModel} \n",
       "\u001b[39m\n",
       "\u001b[32mimport \u001b[39m\u001b[36morg.apache.spark.ml.feature.VectorAssembler\n",
       "\u001b[39m\n",
       "\u001b[32mimport \u001b[39m\u001b[36morg.apache.spark.ml.linalg.Vectors\u001b[39m"
      ]
     },
     "execution_count": 4,
     "metadata": {},
     "output_type": "execute_result"
    }
   ],
   "source": [
    "import org.apache.spark.ml.{Pipeline, PipelineModel} \n",
    "import org.apache.spark.ml.feature.VectorAssembler\n",
    "import org.apache.spark.ml.linalg.Vectors"
   ]
  },
  {
   "cell_type": "code",
   "execution_count": 15,
   "metadata": {},
   "outputs": [
    {
     "data": {
      "text/plain": [
       "\u001b[36mfolder\u001b[39m: \u001b[32mFile\u001b[39m = csc\n",
       "\u001b[36mfiles\u001b[39m: \u001b[32mArray\u001b[39m[\u001b[32mFile\u001b[39m] = \u001b[33mArray\u001b[39m(\n",
       "  csc/.DS_Store,\n",
       "  csc/dipole_moments.csv,\n",
       "  csc/magnetic_shielding_tensors.csv,\n",
       "  csc/mulliken_charges.csv,\n",
       "  csc/potential_energy.csv,\n",
       "  csc/sample_submission.csv,\n",
       "  csc/scalar_coupling_contributions.csv,\n",
       "  csc/structures.csv,\n",
       "  csc/structures.zip,\n",
       "  csc/test.csv,\n",
       "  csc/train.csv\n",
       ")\n",
       "\u001b[36mtrainFile\u001b[39m: \u001b[32mFile\u001b[39m = csc/train.csv\n",
       "\u001b[36mtestFile\u001b[39m: \u001b[32mFile\u001b[39m = csc/test.csv\n",
       "\u001b[36mstructureFile\u001b[39m: \u001b[32mFile\u001b[39m = csc/structures.csv"
      ]
     },
     "execution_count": 15,
     "metadata": {},
     "output_type": "execute_result"
    }
   ],
   "source": [
    "val folder = new File(\"csc\")\n",
    "val files = folder.listFiles\n",
    "val trainFile = files.filter(_.getName.matches(\"\"\"train.csv\"\"\")).head\n",
    "val testFile = files.filter(_.getName.matches(\"\"\"test.csv\"\"\")).head\n",
    "val structureFile = files.filter(_.getName.matches(\"\"\"structures.csv\"\"\")).head"
   ]
  },
  {
   "cell_type": "code",
   "execution_count": 9,
   "metadata": {},
   "outputs": [
    {
     "name": "stderr",
     "output_type": "stream",
     "text": [
      "Using Spark's default log4j profile: org/apache/spark/log4j-defaults.properties\n"
     ]
    },
    {
     "data": {
      "text/plain": [
       "\u001b[36msc\u001b[39m: \u001b[32mSparkConf\u001b[39m = org.apache.spark.SparkConf@4b7ee362\n",
       "\u001b[36mres8_1\u001b[39m: \u001b[32mSparkConf\u001b[39m = org.apache.spark.SparkConf@4b7ee362\n",
       "\u001b[36mres8_2\u001b[39m: \u001b[32mSparkConf\u001b[39m = org.apache.spark.SparkConf@4b7ee362\n",
       "\u001b[36mspark\u001b[39m: \u001b[32mSparkSession\u001b[39m = org.apache.spark.sql.SparkSession@744fc4a0"
      ]
     },
     "execution_count": 9,
     "metadata": {},
     "output_type": "execute_result"
    }
   ],
   "source": [
    "val sc = new SparkConf\n",
    "sc.setAppName(\"GBT\")\n",
    "sc.setMaster(\"local[*]\")\n",
    "val spark = SparkSession.builder().config(sc).getOrCreate()"
   ]
  },
  {
   "cell_type": "code",
   "execution_count": 11,
   "metadata": {},
   "outputs": [
    {
     "data": {
      "text/plain": [
       "\u001b[36mtrainSample\u001b[39m: \u001b[32mDouble\u001b[39m = \u001b[32m1.0\u001b[39m\n",
       "\u001b[36mtestSample\u001b[39m: \u001b[32mDouble\u001b[39m = \u001b[32m1.0\u001b[39m\n",
       "\u001b[36mnumFolds\u001b[39m: \u001b[32mInt\u001b[39m = \u001b[32m10\u001b[39m\n",
       "\u001b[36mrTrain\u001b[39m: \u001b[32mDouble\u001b[39m = \u001b[32m0.75\u001b[39m\n",
       "\u001b[36mrValid\u001b[39m: \u001b[32mDouble\u001b[39m = \u001b[32m0.25\u001b[39m"
      ]
     },
     "execution_count": 11,
     "metadata": {},
     "output_type": "execute_result"
    }
   ],
   "source": [
    "var trainSample = 1.0\n",
    "var testSample = 1.0\n",
    "var (rTrain, rValid) = (0.75, 0.25)"
   ]
  },
  {
   "cell_type": "code",
   "execution_count": 17,
   "metadata": {},
   "outputs": [],
   "source": [
    "val trainAll = spark.read.option(\"header\", \"true\").csv(trainFile.getAbsolutePath)\n",
    "val testAll = spark.read.option(\"header\", \"true\").csv(testFile.getAbsolutePath)\n",
    "val structure = spark.read.option(\"header\", \"true\").csv(testFile.getAbsolutePath)"
   ]
  },
  {
   "cell_type": "code",
   "execution_count": 20,
   "metadata": {},
   "outputs": [
    {
     "data": {
      "text/plain": [
       "\u001b[36moldTargetCol\u001b[39m: \u001b[32mString\u001b[39m = \u001b[32m\"scalar_coupling_constant\"\u001b[39m\n",
       "\u001b[36mtargetCol\u001b[39m: \u001b[32mString\u001b[39m = \u001b[32m\"label\"\u001b[39m"
      ]
     },
     "execution_count": 20,
     "metadata": {},
     "output_type": "execute_result"
    }
   ],
   "source": [
    "val oldTargetCol = trainAll.columns.filter(_.matches(\"\"\"scalar.*\"\"\")).head\n",
    "val targetCol = \"label\""
   ]
  },
  {
   "cell_type": "code",
   "execution_count": 22,
   "metadata": {},
   "outputs": [
    {
     "data": {
      "text/plain": [
       "\u001b[36mseed\u001b[39m: \u001b[32mLong\u001b[39m = \u001b[32m12345L\u001b[39m\n",
       "\u001b[36msplits\u001b[39m: \u001b[32mArray\u001b[39m[\u001b[32morg\u001b[39m.\u001b[32mapache\u001b[39m.\u001b[32mspark\u001b[39m.\u001b[32msql\u001b[39m.\u001b[32mDataset\u001b[39m[\u001b[32morg\u001b[39m.\u001b[32mapache\u001b[39m.\u001b[32mspark\u001b[39m.\u001b[32msql\u001b[39m.\u001b[32mRow\u001b[39m]] = \u001b[33mArray\u001b[39m(\n",
       "  [id: string, molecule_name: string ... 4 more fields],\n",
       "  [id: string, molecule_name: string ... 4 more fields]\n",
       ")\n",
       "\u001b[36mtrData\u001b[39m: \u001b[32morg\u001b[39m.\u001b[32mapache\u001b[39m.\u001b[32mspark\u001b[39m.\u001b[32msql\u001b[39m.\u001b[32mDataset\u001b[39m[\u001b[32morg\u001b[39m.\u001b[32mapache\u001b[39m.\u001b[32mspark\u001b[39m.\u001b[32msql\u001b[39m.\u001b[32mRow\u001b[39m] = [id: string, molecule_name: string ... 4 more fields]\n",
       "\u001b[36mvalData\u001b[39m: \u001b[32morg\u001b[39m.\u001b[32mapache\u001b[39m.\u001b[32mspark\u001b[39m.\u001b[32msql\u001b[39m.\u001b[32mDataset\u001b[39m[\u001b[32morg\u001b[39m.\u001b[32mapache\u001b[39m.\u001b[32mspark\u001b[39m.\u001b[32msql\u001b[39m.\u001b[32mRow\u001b[39m] = [id: string, molecule_name: string ... 4 more fields]\n",
       "\u001b[36mres21_3\u001b[39m: \u001b[32morg\u001b[39m.\u001b[32mapache\u001b[39m.\u001b[32mspark\u001b[39m.\u001b[32msql\u001b[39m.\u001b[32mDataset\u001b[39m[\u001b[32morg\u001b[39m.\u001b[32mapache\u001b[39m.\u001b[32mspark\u001b[39m.\u001b[32msql\u001b[39m.\u001b[32mRow\u001b[39m] = [id: string, molecule_name: string ... 4 more fields]\n",
       "\u001b[36mres21_4\u001b[39m: \u001b[32morg\u001b[39m.\u001b[32mapache\u001b[39m.\u001b[32mspark\u001b[39m.\u001b[32msql\u001b[39m.\u001b[32mDataset\u001b[39m[\u001b[32morg\u001b[39m.\u001b[32mapache\u001b[39m.\u001b[32mspark\u001b[39m.\u001b[32msql\u001b[39m.\u001b[32mRow\u001b[39m] = [id: string, molecule_name: string ... 4 more fields]\n",
       "\u001b[36mteData\u001b[39m: \u001b[32morg\u001b[39m.\u001b[32mapache\u001b[39m.\u001b[32mspark\u001b[39m.\u001b[32msql\u001b[39m.\u001b[32mDataset\u001b[39m[\u001b[32morg\u001b[39m.\u001b[32mapache\u001b[39m.\u001b[32mspark\u001b[39m.\u001b[32msql\u001b[39m.\u001b[32mRow\u001b[39m] = [id: string, molecule_name: string ... 3 more fields]"
      ]
     },
     "execution_count": 22,
     "metadata": {},
     "output_type": "execute_result"
    }
   ],
   "source": [
    "val seed = 12345L\n",
    "val splits = trainAll.withColumnRenamed(oldTargetCol, targetCol).randomSplit(Array(0.75, 0.25), seed)\n",
    "val (trData, valData) = (splits(0), splits(1))\n",
    "\n",
    "trainingData.cache\n",
    "validationData.cache\n",
    "\n",
    "val teData = testAll.sample(false, testSample).cache"
   ]
  },
  {
   "cell_type": "code",
   "execution_count": 23,
   "metadata": {},
   "outputs": [
    {
     "name": "stdout",
     "output_type": "stream",
     "text": [
      "+-------+----------------+------------+------------+----+---------+\n",
      "|     id|   molecule_name|atom_index_0|atom_index_1|type|    label|\n",
      "+-------+----------------+------------+------------+----+---------+\n",
      "|      0|dsgdb9nsd_000001|           1|           0|1JHC|  84.8076|\n",
      "|      1|dsgdb9nsd_000001|           1|           2|2JHH|  -11.257|\n",
      "|     10|dsgdb9nsd_000002|           1|           0|1JHN|  32.6889|\n",
      "|    100|dsgdb9nsd_000012|           3|           5|3JHH|  12.0536|\n",
      "|  10000|dsgdb9nsd_000524|          14|           5|1JHC|   86.787|\n",
      "| 100000|dsgdb9nsd_003735|           7|           8|2JHH| -11.7083|\n",
      "|1000002|dsgdb9nsd_034940|          15|           5|2JHC|-0.342991|\n",
      "|1000003|dsgdb9nsd_034940|          15|           6|2JHC| -1.57302|\n",
      "|1000004|dsgdb9nsd_034940|          15|           7|1JHC|   104.79|\n",
      "|1000005|dsgdb9nsd_034940|          15|           8|3JHC|  4.37176|\n",
      "+-------+----------------+------------+------------+----+---------+\n",
      "only showing top 10 rows\n",
      "\n"
     ]
    }
   ],
   "source": [
    "trData.show(10)"
   ]
  },
  {
   "cell_type": "code",
   "execution_count": 78,
   "metadata": {},
   "outputs": [
    {
     "data": {
      "text/plain": [
       "\u001b[36mconverterList\u001b[39m: \u001b[32mListBuffer\u001b[39m[\u001b[32mDataFrame\u001b[39m => \u001b[32mDataFrame\u001b[39m] = \u001b[33mListBuffer\u001b[39m()"
      ]
     },
     "execution_count": 78,
     "metadata": {},
     "output_type": "execute_result"
    }
   ],
   "source": [
    "var converterList = new ListBuffer[DF => DF]()"
   ]
  },
  {
   "cell_type": "code",
   "execution_count": 79,
   "metadata": {},
   "outputs": [
    {
     "data": {
      "text/plain": [
       "defined \u001b[32mfunction\u001b[39m \u001b[36mconvertTargerCol\u001b[39m\n",
       "\u001b[36mres78_1\u001b[39m: \u001b[32mListBuffer\u001b[39m[\u001b[32mDataFrame\u001b[39m => \u001b[32mDataFrame\u001b[39m] = \u001b[33mListBuffer\u001b[39m(<function1>)"
      ]
     },
     "execution_count": 79,
     "metadata": {},
     "output_type": "execute_result"
    }
   ],
   "source": [
    "def convertTargerCol(df:DF) = {\n",
    "    df.withColumn(targetCol, col(targetCol).cast(DoubleType))\n",
    "}\n",
    "converterList += convertTargerCol"
   ]
  },
  {
   "cell_type": "code",
   "execution_count": 80,
   "metadata": {},
   "outputs": [
    {
     "data": {
      "text/plain": [
       "defined \u001b[32mfunction\u001b[39m \u001b[36mconvertTypeCol\u001b[39m\n",
       "\u001b[36mres79_1\u001b[39m: \u001b[32mListBuffer\u001b[39m[\u001b[32mDataFrame\u001b[39m => \u001b[32mDataFrame\u001b[39m] = \u001b[33mListBuffer\u001b[39m(\n",
       "  <function1>,\n",
       "  <function1>\n",
       ")"
      ]
     },
     "execution_count": 80,
     "metadata": {},
     "output_type": "execute_result"
    }
   ],
   "source": [
    "def convertTypeCol(df:DF):DF = {\n",
    "    Seq(1, 4).foldLeft(df)((d, x) => d.withColumn(\"t\" + x.toString, col(\"type\").substr(x, 1)))\n",
    "}\n",
    "converterList += convertTypeCol"
   ]
  },
  {
   "cell_type": "code",
   "execution_count": 82,
   "metadata": {},
   "outputs": [
    {
     "data": {
      "text/plain": [
       "\u001b[32mimport \u001b[39m\u001b[36morg.apache.spark.ml.feature.{StandardScaler, Bucketizer, CountVectorizer, Binarizer, MaxAbsScaler, StringIndexer, MinMaxScaler, OneHotEncoderEstimator, QuantileDiscretizer}\n",
       "\n",
       "\u001b[39m\n",
       "\u001b[36mcategoricalCols\u001b[39m: \u001b[32mSeq\u001b[39m[\u001b[32mString\u001b[39m] = \u001b[33mList\u001b[39m(\u001b[32m\"t1\"\u001b[39m, \u001b[32m\"t4\"\u001b[39m, \u001b[32m\"atom_index_0\"\u001b[39m, \u001b[32m\"atom_index_1\"\u001b[39m)\n",
       "\u001b[36mnewCategoricalCols\u001b[39m: \u001b[32mSeq\u001b[39m[\u001b[32mString\u001b[39m] = \u001b[33mList\u001b[39m(\n",
       "  \u001b[32m\"t1_c\"\u001b[39m,\n",
       "  \u001b[32m\"t4_c\"\u001b[39m,\n",
       "  \u001b[32m\"atom_index_0_c\"\u001b[39m,\n",
       "  \u001b[32m\"atom_index_1_c\"\u001b[39m\n",
       ")\n",
       "\u001b[36mstringIndexStages\u001b[39m: \u001b[32mSeq\u001b[39m[\u001b[32morg\u001b[39m.\u001b[32mapache\u001b[39m.\u001b[32mspark\u001b[39m.\u001b[32mml\u001b[39m.\u001b[32mfeature\u001b[39m.\u001b[32mStringIndexerModel\u001b[39m] = \u001b[33mList\u001b[39m(\n",
       "  strIdx_2d1520fd099d,\n",
       "  strIdx_ead29560e609,\n",
       "  strIdx_584453947d70,\n",
       "  strIdx_dc9e133abd20\n",
       ")\n",
       "defined \u001b[32mfunction\u001b[39m \u001b[36mindexStringCols\u001b[39m\n",
       "\u001b[36mres81_5\u001b[39m: \u001b[32mListBuffer\u001b[39m[\u001b[32mDataFrame\u001b[39m => \u001b[32mDataFrame\u001b[39m] = \u001b[33mListBuffer\u001b[39m(\n",
       "  <function1>,\n",
       "  <function1>,\n",
       "  <function1>\n",
       ")"
      ]
     },
     "execution_count": 82,
     "metadata": {},
     "output_type": "execute_result"
    }
   ],
   "source": [
    "import org.apache.spark.ml.feature.{StandardScaler, Bucketizer, CountVectorizer, Binarizer, MaxAbsScaler, StringIndexer, MinMaxScaler, OneHotEncoderEstimator, QuantileDiscretizer}\n",
    "\n",
    "val categoricalCols = Seq(\"t1\", \"t4\", \"atom_index_0\", \"atom_index_1\")\n",
    "val newCategoricalCols = categoricalCols.map(_ + \"_c\")\n",
    "val stringIndexStages = categoricalCols.map(c => new StringIndexer().setInputCol(c).setOutputCol(c + \"_c\").fit(convertTypeCol(trData).select(c)))\n",
    "def indexStringCols(df:DF) = {\n",
    "    stringIndexStages.foldLeft(df)((d,x) => x.transform(d))\n",
    "}\n",
    "\n",
    "converterList += indexStringCols"
   ]
  },
  {
   "cell_type": "code",
   "execution_count": 83,
   "metadata": {},
   "outputs": [
    {
     "data": {
      "text/plain": [
       "defined \u001b[32mfunction\u001b[39m \u001b[36mconvertAtomIndexType\u001b[39m\n",
       "\u001b[36mres82_1\u001b[39m: \u001b[32mListBuffer\u001b[39m[\u001b[32mDataFrame\u001b[39m => \u001b[32mDataFrame\u001b[39m] = \u001b[33mListBuffer\u001b[39m(\n",
       "  <function1>,\n",
       "  <function1>,\n",
       "  <function1>,\n",
       "  <function1>\n",
       ")"
      ]
     },
     "execution_count": 83,
     "metadata": {},
     "output_type": "execute_result"
    }
   ],
   "source": [
    "def convertAtomIndexType(df:DF):DF = {\n",
    "    df.columns.filter(_.matches(\"\"\"atom_index_\\d{1}\"\"\")).foldLeft(df)((d, x) => d.withColumn(x, col(x).cast(DoubleType)))\n",
    "}\n",
    "converterList += convertAtomIndexType"
   ]
  },
  {
   "cell_type": "code",
   "execution_count": 84,
   "metadata": {},
   "outputs": [
    {
     "data": {
      "text/plain": [
       "defined \u001b[32mfunction\u001b[39m \u001b[36mmakeNewColumnsFromAtomIndex\u001b[39m\n",
       "\u001b[36mres83_1\u001b[39m: \u001b[32mListBuffer\u001b[39m[\u001b[32mDataFrame\u001b[39m => \u001b[32mDataFrame\u001b[39m] = \u001b[33mListBuffer\u001b[39m(\n",
       "  <function1>,\n",
       "  <function1>,\n",
       "  <function1>,\n",
       "  <function1>,\n",
       "  <function1>\n",
       ")"
      ]
     },
     "execution_count": 84,
     "metadata": {},
     "output_type": "execute_result"
    }
   ],
   "source": [
    "def makeNewColumnsFromAtomIndex(df:DF) = {\n",
    "    val icols = df.columns.filter(_.matches(\"\"\"atom_index.*\"\"\"))\n",
    "    df.withColumn(\"atom_index_diff\", abs( col(icols(0)) - col(icols(1)) ))\n",
    "}\n",
    "converterList += makeNewColumnsFromAtomIndex"
   ]
  },
  {
   "cell_type": "code",
   "execution_count": 85,
   "metadata": {},
   "outputs": [
    {
     "name": "stdout",
     "output_type": "stream",
     "text": [
      "+-------+----------------+------------+------------+----+---------+---+---+----+----+--------------+--------------+---------------+\n",
      "|     id|   molecule_name|atom_index_0|atom_index_1|type|    label| t1| t4|t1_c|t4_c|atom_index_0_c|atom_index_1_c|atom_index_diff|\n",
      "+-------+----------------+------------+------------+----+---------+---+---+----+----+--------------+--------------+---------------+\n",
      "|      0|dsgdb9nsd_000001|         1.0|         0.0|1JHC|  84.8076|  1|  C| 2.0| 0.0|          25.0|           7.0|            1.0|\n",
      "|      1|dsgdb9nsd_000001|         1.0|         2.0|2JHH|  -11.257|  2|  H| 1.0| 1.0|          25.0|           0.0|            1.0|\n",
      "|     10|dsgdb9nsd_000002|         1.0|         0.0|1JHN|  32.6889|  1|  N| 2.0| 2.0|          25.0|           7.0|            1.0|\n",
      "|    100|dsgdb9nsd_000012|         3.0|         5.0|3JHH|  12.0536|  3|  H| 0.0| 1.0|          22.0|           4.0|            2.0|\n",
      "|  10000|dsgdb9nsd_000524|        14.0|         5.0|1JHC|   86.787|  1|  C| 2.0| 0.0|           3.0|           4.0|            9.0|\n",
      "| 100000|dsgdb9nsd_003735|         7.0|         8.0|2JHH| -11.7083|  2|  H| 1.0| 1.0|          15.0|           8.0|            1.0|\n",
      "|1000002|dsgdb9nsd_034940|        15.0|         5.0|2JHC|-0.342991|  2|  C| 1.0| 0.0|           6.0|           4.0|           10.0|\n",
      "|1000003|dsgdb9nsd_034940|        15.0|         6.0|2JHC| -1.57302|  2|  C| 1.0| 0.0|           6.0|           5.0|            9.0|\n",
      "|1000004|dsgdb9nsd_034940|        15.0|         7.0|1JHC|   104.79|  1|  C| 2.0| 0.0|           6.0|           6.0|            8.0|\n",
      "|1000005|dsgdb9nsd_034940|        15.0|         8.0|3JHC|  4.37176|  3|  C| 0.0| 0.0|           6.0|           8.0|            7.0|\n",
      "|1000006|dsgdb9nsd_034940|        16.0|         1.0|3JHC| 0.538655|  3|  C| 0.0| 0.0|           7.0|           1.0|           15.0|\n",
      "|1000007|dsgdb9nsd_034940|        16.0|         2.0|2JHC| 0.946548|  2|  C| 1.0| 0.0|           7.0|           0.0|           14.0|\n",
      "|1000010|dsgdb9nsd_034940|        16.0|         5.0|2JHC| 0.606772|  2|  C| 1.0| 0.0|           7.0|           4.0|           11.0|\n",
      "|1000011|dsgdb9nsd_034940|        16.0|         6.0|3JHC|  2.14369|  3|  C| 0.0| 0.0|           7.0|           5.0|           10.0|\n",
      "|1000012|dsgdb9nsd_034940|        16.0|         7.0|3JHC| 0.352008|  3|  C| 0.0| 0.0|           7.0|           6.0|            9.0|\n",
      "|1000013|dsgdb9nsd_034940|        16.0|         8.0|1JHC|  120.629|  1|  C| 2.0| 0.0|           7.0|           8.0|            8.0|\n",
      "|1000014|dsgdb9nsd_034941|         9.0|         0.0|3JHN|  0.72359|  3|  N| 0.0| 2.0|           2.0|           7.0|            9.0|\n",
      "|1000015|dsgdb9nsd_034941|         9.0|         1.0|2JHC| -2.19343|  2|  C| 1.0| 0.0|           2.0|           1.0|            8.0|\n",
      "|1000016|dsgdb9nsd_034941|         9.0|         2.0|1JHC|  107.106|  1|  C| 2.0| 0.0|           2.0|           0.0|            7.0|\n",
      "|1000017|dsgdb9nsd_034941|         9.0|         3.0|2JHC|  4.28842|  2|  C| 1.0| 0.0|           2.0|           2.0|            6.0|\n",
      "+-------+----------------+------------+------------+----+---------+---+---+----+----+--------------+--------------+---------------+\n",
      "only showing top 20 rows\n",
      "\n"
     ]
    }
   ],
   "source": [
    "converterList.foldLeft(trData)((d, x) => d.transform( data => x(data))).show()"
   ]
  },
  {
   "cell_type": "code",
   "execution_count": 51,
   "metadata": {},
   "outputs": [],
   "source": [
    "// structure.select(\"molecule_name\").dropDuplicates().count\n",
    "// res49: Long = 45772L\n",
    "\n",
    "// trData.select(\"molecule_name\").dropDuplicates().count + valData.select(\"molecule_name\").dropDuplicates().count\n",
    "// res50: Long = 169869L"
   ]
  },
  {
   "cell_type": "code",
   "execution_count": 86,
   "metadata": {},
   "outputs": [
    {
     "data": {
      "text/plain": [
       "defined \u001b[32mfunction\u001b[39m \u001b[36mconvertDF\u001b[39m"
      ]
     },
     "execution_count": 86,
     "metadata": {},
     "output_type": "execute_result"
    }
   ],
   "source": [
    "def convertDF(df:DF, list:ListBuffer[DF => DF]) = {\n",
    "    list.foldLeft(df)((d, x) => d.transform( data => x(data)))\n",
    "}"
   ]
  },
  {
   "cell_type": "code",
   "execution_count": 87,
   "metadata": {},
   "outputs": [
    {
     "data": {
      "text/plain": [
       "\u001b[36mfeatureCols\u001b[39m: \u001b[32mArray\u001b[39m[\u001b[32mString\u001b[39m] = \u001b[33mArray\u001b[39m(\n",
       "  \u001b[32m\"atom_index_0\"\u001b[39m,\n",
       "  \u001b[32m\"atom_index_1\"\u001b[39m,\n",
       "  \u001b[32m\"t1_c\"\u001b[39m,\n",
       "  \u001b[32m\"t4_c\"\u001b[39m,\n",
       "  \u001b[32m\"atom_index_0_c\"\u001b[39m,\n",
       "  \u001b[32m\"atom_index_1_c\"\u001b[39m,\n",
       "  \u001b[32m\"atom_index_diff\"\u001b[39m\n",
       ")"
      ]
     },
     "execution_count": 87,
     "metadata": {},
     "output_type": "execute_result"
    }
   ],
   "source": [
    "val featureCols = convertDF(trData, converterList).columns.filterNot(_.matches(\"\"\"(id|molecule_name|type|t1|t4)\"\"\")).filterNot(_==targetCol)"
   ]
  },
  {
   "cell_type": "code",
   "execution_count": 88,
   "metadata": {},
   "outputs": [
    {
     "data": {
      "text/plain": [
       "\u001b[36mfeatureCol\u001b[39m: \u001b[32mString\u001b[39m = \u001b[32m\"features\"\u001b[39m\n",
       "\u001b[36massembler\u001b[39m: \u001b[32mVectorAssembler\u001b[39m = vecAssembler_0d0b90620a13"
      ]
     },
     "execution_count": 88,
     "metadata": {},
     "output_type": "execute_result"
    }
   ],
   "source": [
    "val featureCol = \"features\"\n",
    "val assembler = new VectorAssembler().setInputCols(featureCols).setOutputCol(featureCol)"
   ]
  },
  {
   "cell_type": "code",
   "execution_count": 101,
   "metadata": {},
   "outputs": [
    {
     "data": {
      "text/plain": [
       "\u001b[32mimport \u001b[39m\u001b[36morg.apache.spark.ml.regression.{GBTRegressor, GBTRegressionModel}\n",
       "\u001b[39m\n",
       "\u001b[32mimport \u001b[39m\u001b[36morg.apache.spark.ml.regression.{GeneralizedLinearRegression, GeneralizedLinearRegressionModel}\n",
       "\u001b[39m\n",
       "\u001b[32mimport \u001b[39m\u001b[36morg.apache.spark.ml.regression.{LinearRegression, LinearRegressionModel}\n",
       "\u001b[39m\n",
       "\u001b[32mimport \u001b[39m\u001b[36morg.apache.spark.ml.{Pipeline, PipelineModel}\n",
       "\u001b[39m\n",
       "\u001b[32mimport \u001b[39m\u001b[36morg.apache.spark.ml.evaluation.RegressionEvaluator\n",
       "\u001b[39m\n",
       "\u001b[32mimport \u001b[39m\u001b[36morg.apache.spark.ml.tuning.ParamGridBuilder\n",
       "\u001b[39m\n",
       "\u001b[32mimport \u001b[39m\u001b[36morg.apache.spark.ml.tuning.CrossValidator\n",
       "\u001b[39m\n",
       "\u001b[32mimport \u001b[39m\u001b[36morg.apache.spark.mllib.evaluation.RegressionMetrics\u001b[39m"
      ]
     },
     "execution_count": 101,
     "metadata": {},
     "output_type": "execute_result"
    }
   ],
   "source": [
    "import org.apache.spark.ml.regression.{GBTRegressor, GBTRegressionModel}\n",
    "import org.apache.spark.ml.regression.{GeneralizedLinearRegression, GeneralizedLinearRegressionModel}\n",
    "import org.apache.spark.ml.regression.{LinearRegression, LinearRegressionModel}\n",
    "import org.apache.spark.ml.{Pipeline, PipelineModel}\n",
    "import org.apache.spark.ml.evaluation.RegressionEvaluator\n",
    "import org.apache.spark.ml.tuning.ParamGridBuilder\n",
    "import org.apache.spark.ml.tuning.CrossValidator\n",
    "import org.apache.spark.mllib.evaluation.RegressionMetrics"
   ]
  },
  {
   "cell_type": "code",
   "execution_count": 105,
   "metadata": {},
   "outputs": [
    {
     "data": {
      "text/plain": [
       "\u001b[36mNumTrees\u001b[39m: \u001b[32mSeq\u001b[39m[\u001b[32mInt\u001b[39m] = \u001b[33mList\u001b[39m(\u001b[32m5\u001b[39m, \u001b[32m7\u001b[39m, \u001b[32m10\u001b[39m)\n",
       "\u001b[36mMaxBins\u001b[39m: \u001b[32mSeq\u001b[39m[\u001b[32mInt\u001b[39m] = \u001b[33mList\u001b[39m(\u001b[32m3\u001b[39m, \u001b[32m5\u001b[39m, \u001b[32m7\u001b[39m)\n",
       "\u001b[36mnumFolds\u001b[39m: \u001b[32mInt\u001b[39m = \u001b[32m10\u001b[39m\n",
       "\u001b[36mMaxIter\u001b[39m: \u001b[32mSeq\u001b[39m[\u001b[32mInt\u001b[39m] = \u001b[33mList\u001b[39m(\u001b[32m10\u001b[39m)\n",
       "\u001b[36mMaxDepth\u001b[39m: \u001b[32mSeq\u001b[39m[\u001b[32mInt\u001b[39m] = \u001b[33mList\u001b[39m(\u001b[32m10\u001b[39m)\n",
       "\u001b[36mMaxIterLR\u001b[39m: \u001b[32mSeq\u001b[39m[\u001b[32mInt\u001b[39m] = \u001b[33mList\u001b[39m(\u001b[32m1000\u001b[39m, \u001b[32m100\u001b[39m)\n",
       "\u001b[36mRegParam\u001b[39m: \u001b[32mSeq\u001b[39m[\u001b[32mDouble\u001b[39m] = \u001b[33mList\u001b[39m(\u001b[32m0.001\u001b[39m, \u001b[32m0.003\u001b[39m, \u001b[32m0.005\u001b[39m, \u001b[32m0.01\u001b[39m)\n",
       "\u001b[36mTolLR\u001b[39m: \u001b[32mSeq\u001b[39m[\u001b[32mDouble\u001b[39m] = \u001b[33mList\u001b[39m(\u001b[32m1.0E-6\u001b[39m)\n",
       "\u001b[36mElasticNetParam\u001b[39m: \u001b[32mSeq\u001b[39m[\u001b[32mDouble\u001b[39m] = \u001b[33mList\u001b[39m(\u001b[32m0.001\u001b[39m)"
      ]
     },
     "execution_count": 105,
     "metadata": {},
     "output_type": "execute_result"
    }
   ],
   "source": [
    "// Params for GBT\n",
    "val NumTrees = Seq(5, 7, 10)\n",
    "val MaxBins = Seq(3, 5, 7)\n",
    "val numFolds = 10\n",
    "val MaxIter:Seq[Int] = Seq(10)\n",
    "val MaxDepth:Seq[Int] = Seq(10)\n",
    "// Params for Linear Regression\n",
    "val MaxIterLR: Seq[Int] = Seq(1000, 100)\n",
    "val RegParam: Seq[Double] = Seq(0.001, 0.003, 0.005, 0.01)\n",
    "val TolLR: Seq[Double] = Seq(1e-6)\n",
    "val ElasticNetParam: Seq[Double] = Seq(0.001)"
   ]
  },
  {
   "cell_type": "code",
   "execution_count": 91,
   "metadata": {},
   "outputs": [
    {
     "data": {
      "text/plain": [
       "\u001b[32mimport \u001b[39m\u001b[36mspark.implicits._\u001b[39m"
      ]
     },
     "execution_count": 91,
     "metadata": {},
     "output_type": "execute_result"
    }
   ],
   "source": [
    "import spark.implicits._"
   ]
  },
  {
   "cell_type": "code",
   "execution_count": 110,
   "metadata": {},
   "outputs": [
    {
     "data": {
      "text/plain": [
       "\u001b[36mmodel1\u001b[39m: \u001b[32mGBTRegressor\u001b[39m = gbtr_cda9de589652\n",
       "\u001b[36mmodel2\u001b[39m: \u001b[32mGeneralizedLinearRegression\u001b[39m = glm_f269716c7c87"
      ]
     },
     "execution_count": 110,
     "metadata": {},
     "output_type": "execute_result"
    }
   ],
   "source": [
    "val model1 = new GBTRegressor().setFeaturesCol(featureCol).setLabelCol(targetCol)\n",
    "val model2 = new GeneralizedLinearRegression().setFeaturesCol(featureCol).setLabelCol(targetCol).setFamily(\"gaussian\").setLink(\"identity\")"
   ]
  },
  {
   "cell_type": "code",
   "execution_count": 111,
   "metadata": {},
   "outputs": [
    {
     "data": {
      "text/plain": [
       "\u001b[36mpipeline1\u001b[39m: \u001b[32mPipeline\u001b[39m = pipeline_657a6dc282be\n",
       "\u001b[36mpipeline2\u001b[39m: \u001b[32mPipeline\u001b[39m = pipeline_cbedad117006"
      ]
     },
     "execution_count": 111,
     "metadata": {},
     "output_type": "execute_result"
    }
   ],
   "source": [
    "val pipeline1 = new Pipeline().setStages(Array(assembler, model1))\n",
    "val pipeline2 = new Pipeline().setStages(Array(assembler, model2))"
   ]
  },
  {
   "cell_type": "code",
   "execution_count": 112,
   "metadata": {},
   "outputs": [
    {
     "data": {
      "text/plain": [
       "\u001b[36mparamGrid1\u001b[39m: \u001b[32mArray\u001b[39m[\u001b[32morg\u001b[39m.\u001b[32mapache\u001b[39m.\u001b[32mspark\u001b[39m.\u001b[32mml\u001b[39m.\u001b[32mparam\u001b[39m.\u001b[32mParamMap\u001b[39m] = \u001b[33mArray\u001b[39m(\n",
       "  {\n",
       "\tgbtr_cda9de589652-maxBins: 3,\n",
       "\tgbtr_cda9de589652-maxDepth: 10,\n",
       "\tgbtr_cda9de589652-maxIter: 10\n",
       "},\n",
       "  {\n",
       "\tgbtr_cda9de589652-maxBins: 5,\n",
       "\tgbtr_cda9de589652-maxDepth: 10,\n",
       "\tgbtr_cda9de589652-maxIter: 10\n",
       "},\n",
       "  {\n",
       "\tgbtr_cda9de589652-maxBins: 7,\n",
       "\tgbtr_cda9de589652-maxDepth: 10,\n",
       "\tgbtr_cda9de589652-maxIter: 10\n",
       "}\n",
       ")\n",
       "\u001b[36mparamGrid12\u001b[39m: \u001b[32mArray\u001b[39m[\u001b[32morg\u001b[39m.\u001b[32mapache\u001b[39m.\u001b[32mspark\u001b[39m.\u001b[32mml\u001b[39m.\u001b[32mparam\u001b[39m.\u001b[32mParamMap\u001b[39m] = \u001b[33mArray\u001b[39m(\n",
       "  {\n",
       "\tglm_f269716c7c87-maxIter: 1000,\n",
       "\tglm_f269716c7c87-regParam: 0.001,\n",
       "\tglm_f269716c7c87-tol: 1.0E-6\n",
       "},\n",
       "  {\n",
       "\tglm_f269716c7c87-maxIter: 100,\n",
       "\tglm_f269716c7c87-regParam: 0.001,\n",
       "\tglm_f269716c7c87-tol: 1.0E-6\n",
       "},\n",
       "  {\n",
       "\tglm_f269716c7c87-maxIter: 1000,\n",
       "\tglm_f269716c7c87-regParam: 0.003,\n",
       "\tglm_f269716c7c87-tol: 1.0E-6\n",
       "},\n",
       "  {\n",
       "\tglm_f269716c7c87-maxIter: 100,\n",
       "\tglm_f269716c7c87-regParam: 0.003,\n",
       "\tglm_f269716c7c87-tol: 1.0E-6\n",
       "},\n",
       "  {\n",
       "\tglm_f269716c7c87-maxIter: 1000,\n",
       "\tglm_f269716c7c87-regParam: 0.005,\n",
       "\tglm_f269716c7c87-tol: 1.0E-6\n",
       "},\n",
       "  {\n",
       "\tglm_f269716c7c87-maxIter: 100,\n",
       "\tglm_f269716c7c87-regParam: 0.005,\n",
       "\tglm_f269716c7c87-tol: 1.0E-6\n",
       "},\n",
       "  {\n",
       "\tglm_f269716c7c87-maxIter: 1000,\n",
       "\tglm_f269716c7c87-regParam: 0.01,\n",
       "\tglm_f269716c7c87-tol: 1.0E-6\n",
       "},\n",
       "  {\n",
       "\tglm_f269716c7c87-maxIter: 100,\n",
       "\tglm_f269716c7c87-regParam: 0.01,\n",
       "..."
      ]
     },
     "execution_count": 112,
     "metadata": {},
     "output_type": "execute_result"
    }
   ],
   "source": [
    "val paramGrid1 = new ParamGridBuilder().\n",
    "    addGrid(model1.maxIter, MaxIter).\n",
    "    addGrid(model1.maxDepth, MaxDepth).\n",
    "    addGrid(model1.maxBins, MaxBins).\n",
    "    build()\n",
    "val paramGrid12 = new ParamGridBuilder().\n",
    "    addGrid(model2.maxIter, MaxIterLR).\n",
    "    addGrid(model2.tol, TolLR).\n",
    "    addGrid(model2.regParam, RegParam).\n",
    "    build()"
   ]
  },
  {
   "cell_type": "code",
   "execution_count": 113,
   "metadata": {},
   "outputs": [
    {
     "data": {
      "text/plain": [
       "\u001b[36mcv2\u001b[39m: \u001b[32mCrossValidator\u001b[39m = cv_88dd72f45199"
      ]
     },
     "execution_count": 113,
     "metadata": {},
     "output_type": "execute_result"
    }
   ],
   "source": [
    "val cv2 = new CrossValidator().\n",
    "    setEstimator(pipeline).\n",
    "    setEvaluator(new RegressionEvaluator).\n",
    "    setEstimatorParamMaps(paramGrid).\n",
    "    setNumFolds(numFolds)"
   ]
  },
  {
   "cell_type": "code",
   "execution_count": 114,
   "metadata": {},
   "outputs": [],
   "source": [
    "val cvModel2 = cv2.fit(convertDF(trData, converterList))"
   ]
  }
 ],
 "metadata": {
  "kernelspec": {
   "display_name": "Scala",
   "language": "scala",
   "name": "scala"
  },
  "language_info": {
   "codemirror_mode": "text/x-scala",
   "file_extension": ".scala",
   "mimetype": "text/x-scala",
   "name": "scala",
   "nbconvert_exporter": "script",
   "version": "2.11.12"
  }
 },
 "nbformat": 4,
 "nbformat_minor": 2
}
